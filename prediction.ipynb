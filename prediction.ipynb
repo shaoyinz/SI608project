{
 "cells": [
  {
   "cell_type": "markdown",
   "metadata": {},
   "source": [
    "# SI 608\n"
   ]
  },
  {
   "cell_type": "markdown",
   "metadata": {},
   "source": [
    "### Build graph\n"
   ]
  },
  {
   "cell_type": "code",
   "execution_count": 83,
   "metadata": {},
   "outputs": [],
   "source": [
    "import pandas as pd\n",
    "import numpy as np\n",
    "import matplotlib.pyplot as plt\n",
    "import networkx as nx\n",
    "from fuzzywuzzy import process"
   ]
  },
  {
   "cell_type": "code",
   "execution_count": 87,
   "metadata": {},
   "outputs": [],
   "source": [
    "df = pd.read_csv(\"dblp_graph_conference_v12_new_author.csv\")"
   ]
  },
  {
   "cell_type": "code",
   "execution_count": null,
   "metadata": {},
   "outputs": [],
   "source": [
    "# exploded_author_ids = df['author_id'].str.split(';').explode()\n",
    "\n",
    "\n",
    "# unique_author_ids = exploded_author_ids.unique()\n",
    "\n",
    "# print(\"Unique Author IDs:\", len(unique_author_ids))\n"
   ]
  },
  {
   "cell_type": "code",
   "execution_count": null,
   "metadata": {},
   "outputs": [],
   "source": [
    "# from itertools import combinations\n",
    "# unique_pairs = set()\n",
    "\n",
    "# for _, group in df.groupby('id'):\n",
    "#     all_authors = set(';'.join(group['author_id']).split(';'))\n",
    "\n",
    "#     if len(all_authors) < 2:\n",
    "#         continue\n",
    "\n",
    "#     unique_pairs.update(combinations(sorted(all_authors), 2))\n",
    "# print(\"Number of unique collaboration pairs:\", len(unique_pairs))"
   ]
  },
  {
   "cell_type": "code",
   "execution_count": 8,
   "metadata": {},
   "outputs": [
    {
     "name": "stdout",
     "output_type": "stream",
     "text": [
      "<class 'pandas.core.frame.DataFrame'>\n",
      "RangeIndex: 1097006 entries, 0 to 1097005\n",
      "Data columns (total 19 columns):\n",
      " #   Column           Non-Null Count    Dtype  \n",
      "---  ------           --------------    -----  \n",
      " 0   index            1097006 non-null  int64  \n",
      " 1   author_id        1097006 non-null  int64  \n",
      " 2   author_name      1097006 non-null  object \n",
      " 3   author_org       1008180 non-null  object \n",
      " 4   id               1097006 non-null  int64  \n",
      " 5   title            1097006 non-null  object \n",
      " 6   year             1097006 non-null  int64  \n",
      " 7   n_citation       1097006 non-null  int64  \n",
      " 8   doc_type         1097006 non-null  object \n",
      " 9   reference_count  1097006 non-null  float64\n",
      " 10  references       991470 non-null   object \n",
      " 11  venue_id         1097006 non-null  int64  \n",
      " 12  venue_name       1097006 non-null  object \n",
      " 13  venue_type       1097006 non-null  object \n",
      " 14  doi              939216 non-null   object \n",
      " 15  keyword          1097006 non-null  object \n",
      " 16  volume           149201 non-null   float64\n",
      " 17  issue            59995 non-null    float64\n",
      " 18  publisher        1097006 non-null  object \n",
      "dtypes: float64(3), int64(6), object(10)\n",
      "memory usage: 159.0+ MB\n"
     ]
    }
   ],
   "source": [
    "df.info()"
   ]
  },
  {
   "cell_type": "code",
   "execution_count": 9,
   "metadata": {},
   "outputs": [
    {
     "data": {
      "text/plain": [
       "index                    0\n",
       "author_id                0\n",
       "author_name              0\n",
       "author_org           88826\n",
       "id                       0\n",
       "title                    0\n",
       "year                     0\n",
       "n_citation               0\n",
       "doc_type                 0\n",
       "reference_count          0\n",
       "references          105536\n",
       "venue_id                 0\n",
       "venue_name               0\n",
       "venue_type               0\n",
       "doi                 157790\n",
       "keyword                  0\n",
       "volume              947805\n",
       "issue              1037011\n",
       "publisher                0\n",
       "dtype: int64"
      ]
     },
     "execution_count": 9,
     "metadata": {},
     "output_type": "execute_result"
    }
   ],
   "source": [
    "df.isnull().sum()"
   ]
  },
  {
   "cell_type": "code",
   "execution_count": 88,
   "metadata": {},
   "outputs": [],
   "source": [
    "df[\"author_org\"] = df[\"author_org\"].fillna(\"unknown\")\n",
    "\n",
    "\n",
    "# df[\"reference_count\"] = df[\"reference_count\"].fillna(0)\n",
    "\n",
    "# df[\"keyword\"] = df[\"keyword\"].fillna(\"unknown\")\n",
    "\n",
    "# df[\"publisher\"] = df[\"publisher\"].fillna(\"unknown\")\n"
   ]
  },
  {
   "cell_type": "markdown",
   "metadata": {},
   "source": [
    "Missing doi's do not affect the data and are not filled\n",
    "\n",
    "Volume and issue are also not filled since there are too many vacancies\n"
   ]
  },
  {
   "cell_type": "markdown",
   "metadata": {},
   "source": [
    "#### Title df to Author df\n"
   ]
  },
  {
   "cell_type": "code",
   "execution_count": 11,
   "metadata": {},
   "outputs": [
    {
     "name": "stdout",
     "output_type": "stream",
     "text": [
      "['index', 'author_id', 'author_name', 'year', 'n_citation', 'doc_type', 'reference_count', 'references', 'venue_id', 'venue_name', 'venue_type', 'doi', 'keyword', 'volume', 'issue', 'publisher']\n"
     ]
    }
   ],
   "source": [
    "journal_cols = df.columns.to_list()[:3] + df.columns.to_list()[6:]\n",
    "print(journal_cols)"
   ]
  },
  {
   "cell_type": "code",
   "execution_count": 12,
   "metadata": {},
   "outputs": [],
   "source": [
    "# rows = []\n",
    "\n",
    "\n",
    "# for i in range(len(df)):\n",
    "#     author_names = df[\"author_name\"][i].split(\";\")\n",
    "#     author_ids = df[\"author_id\"][i].split(\";\")\n",
    "#     author_orgs = str(df[\"author_org\"][i]).split(\";\")\n",
    "#     journal_values = {col: df[col][i] for col in journal_cols}\n",
    "\n",
    "#     for j, author_id in enumerate(author_ids):\n",
    "#         row = {\n",
    "#             \"index\": i,\n",
    "#             \"author_id\": author_id,\n",
    "#             \"author_name\": author_names[j] if j < len(author_names) else np.nan,\n",
    "#             \"author_org\": author_orgs[j] if j < len(author_orgs) else np.nan,\n",
    "#         }\n",
    "#         row.update(journal_values)\n",
    "#         rows.append(row)\n",
    "\n",
    "\n",
    "# author_df = pd.DataFrame(rows)\n"
   ]
  },
  {
   "cell_type": "code",
   "execution_count": null,
   "metadata": {},
   "outputs": [],
   "source": [
    "author_df = df"
   ]
  },
  {
   "cell_type": "code",
   "execution_count": 14,
   "metadata": {},
   "outputs": [],
   "source": [
    "# author_df[\"index\"] = author_df[\"index\"] + 1\n",
    "# author_df[\"author_id\"] = author_df[\"author_id\"].astype(int)\n",
    "# author_df['reference_count'] = author_df['reference_count'].astype(int)"
   ]
  },
  {
   "cell_type": "markdown",
   "metadata": {},
   "source": [
    "#### Clean org\n"
   ]
  },
  {
   "cell_type": "code",
   "execution_count": 89,
   "metadata": {},
   "outputs": [
    {
     "name": "stdout",
     "output_type": "stream",
     "text": [
      "<class 'pandas.core.frame.DataFrame'>\n",
      "RangeIndex: 1097006 entries, 0 to 1097005\n",
      "Data columns (total 19 columns):\n",
      " #   Column           Non-Null Count    Dtype  \n",
      "---  ------           --------------    -----  \n",
      " 0   index            1097006 non-null  int64  \n",
      " 1   author_id        1097006 non-null  int64  \n",
      " 2   author_name      1097006 non-null  object \n",
      " 3   standard_org     1097006 non-null  object \n",
      " 4   id               1097006 non-null  int64  \n",
      " 5   title            1097006 non-null  object \n",
      " 6   year             1097006 non-null  int64  \n",
      " 7   n_citation       1097006 non-null  int64  \n",
      " 8   doc_type         1097006 non-null  object \n",
      " 9   reference_count  1097006 non-null  float64\n",
      " 10  references       991470 non-null   object \n",
      " 11  venue_id         1097006 non-null  int64  \n",
      " 12  venue_name       1097006 non-null  object \n",
      " 13  venue_type       1097006 non-null  object \n",
      " 14  doi              939216 non-null   object \n",
      " 15  keyword          1097006 non-null  object \n",
      " 16  volume           149201 non-null   float64\n",
      " 17  issue            59995 non-null    float64\n",
      " 18  publisher        1097006 non-null  object \n",
      "dtypes: float64(3), int64(6), object(10)\n",
      "memory usage: 159.0+ MB\n"
     ]
    }
   ],
   "source": [
    "author_df.info()"
   ]
  },
  {
   "cell_type": "code",
   "execution_count": 16,
   "metadata": {},
   "outputs": [
    {
     "data": {
      "text/plain": [
       "index                    0\n",
       "author_id                0\n",
       "author_name              0\n",
       "author_org               0\n",
       "id                       0\n",
       "title                    0\n",
       "year                     0\n",
       "n_citation               0\n",
       "doc_type                 0\n",
       "reference_count          0\n",
       "references          105536\n",
       "venue_id                 0\n",
       "venue_name               0\n",
       "venue_type               0\n",
       "doi                 157790\n",
       "keyword                  0\n",
       "volume              947805\n",
       "issue              1037011\n",
       "publisher                0\n",
       "dtype: int64"
      ]
     },
     "execution_count": 16,
     "metadata": {},
     "output_type": "execute_result"
    }
   ],
   "source": [
    "author_df.isnull().sum()"
   ]
  },
  {
   "cell_type": "code",
   "execution_count": 17,
   "metadata": {},
   "outputs": [],
   "source": [
    "def clean_org(org):\n",
    "    if \"email\" in org:\n",
    "        org = org.rsplit(\",\", 1)[0]\n",
    "    return org\n",
    "\n",
    "\n",
    "author_df.loc[author_df[\"author_org\"] == \"nan\", \"author_org\"] = \"unknown\"\n",
    "author_df[\"author_org\"] = author_df[\"author_org\"].apply(\n",
    "    lambda x: x.strip('\"').replace(\"#TAB#\", \"\").strip()\n",
    ")\n",
    "\n",
    "author_df[\"author_org\"] = author_df[\"author_org\"].apply(clean_org)"
   ]
  },
  {
   "cell_type": "code",
   "execution_count": 18,
   "metadata": {},
   "outputs": [
    {
     "name": "stdout",
     "output_type": "stream",
     "text": [
      "author_org\n",
      "unknown                                                                   153105\n",
      "Carnegie - Mellon University                                                3996\n",
      "Stanford, University                                                        2273\n",
      "Carnegie-Mellon Univ., Pittsburgh, PA, USA                                  1954\n",
      "Carnegie Mellon University, Pittsburgh Pa                                   1756\n",
      "                                                                           ...  \n",
      "IRIT-UPS, Toulouse Cedex, France                                               1\n",
      "THALES Communications France, Colombes, France                                 1\n",
      "LIRIS, Lyon 1 Univ., Lyon, France                                              1\n",
      "INRP, ENS Cachan, Cachan, France                                               1\n",
      "Archaeological Computing Research Group, University of Southampton, UK         1\n",
      "Name: count, Length: 243247, dtype: int64\n"
     ]
    }
   ],
   "source": [
    "print(author_df[\"author_org\"].value_counts())"
   ]
  },
  {
   "cell_type": "code",
   "execution_count": 19,
   "metadata": {},
   "outputs": [
    {
     "data": {
      "text/plain": [
       "np.int64(0)"
      ]
     },
     "execution_count": 19,
     "metadata": {},
     "output_type": "execute_result"
    }
   ],
   "source": [
    "author_df[\"author_org\"].isnull().sum()"
   ]
  },
  {
   "cell_type": "code",
   "execution_count": 20,
   "metadata": {},
   "outputs": [],
   "source": [
    "# organization_names = author_df[\"author_org\"].unique()\n",
    "\n",
    "# standardized_dict = {}\n",
    "# threshold = 85\n",
    "\n",
    "# for org_name in organization_names:\n",
    "#     if org_name in standardized_dict:\n",
    "#         continue\n",
    "#     if org_name == \"unknown\":\n",
    "#         standardized_dict[org_name] = org_name\n",
    "#         continue\n",
    "#     if not org_name.strip():\n",
    "#         continue\n",
    "\n",
    "#     matched_name = None\n",
    "#     for std_name in standardized_dict.keys():\n",
    "#         if process.extractOne(org_name, [std_name])[1] >= threshold:\n",
    "#             matched_name = std_name\n",
    "#             break\n",
    "\n",
    "#     if matched_name:\n",
    "#         standardized_dict[org_name] = matched_name\n",
    "#     else:\n",
    "#         standardized_dict[org_name] = org_name\n",
    "\n",
    "# author_df[\"standard_org\"] = author_df[\"author_org\"].map(standardized_dict)"
   ]
  },
  {
   "cell_type": "code",
   "execution_count": 21,
   "metadata": {},
   "outputs": [],
   "source": [
    "# author_df[\"standard_org\"].isnull().sum()"
   ]
  },
  {
   "cell_type": "code",
   "execution_count": 22,
   "metadata": {},
   "outputs": [],
   "source": [
    "# print(author_df.loc[author_df[\"standard_org\"].isna(), \"author_org\"])"
   ]
  },
  {
   "cell_type": "code",
   "execution_count": 23,
   "metadata": {},
   "outputs": [],
   "source": [
    "# author_df[\"standard_org\"].value_counts()"
   ]
  },
  {
   "cell_type": "code",
   "execution_count": 24,
   "metadata": {},
   "outputs": [],
   "source": [
    "# author=author_df.drop(columns=[\"author_org\"])\n",
    "# author[\"standard_org\"].fillna(\"unknown\", inplace=True)"
   ]
  },
  {
   "cell_type": "markdown",
   "metadata": {},
   "source": [
    "#### Other paper related attributes\n"
   ]
  },
  {
   "cell_type": "code",
   "execution_count": null,
   "metadata": {},
   "outputs": [],
   "source": [
    "author = author_df\n",
    "author.rename(columns={\"author_org\": \"standard_org\"}, inplace=True)"
   ]
  },
  {
   "cell_type": "code",
   "execution_count": 26,
   "metadata": {},
   "outputs": [
    {
     "data": {
      "text/plain": [
       "publisher\n",
       "IEEE                                                                                               376014\n",
       "ACM                                                                                                164336\n",
       "Springer, Berlin, Heidelberg                                                                       157110\n",
       "unknown                                                                                            108753\n",
       "Springer, Cham                                                                                      63753\n",
       "                                                                                                    ...  \n",
       "IEEE EMBS Int Conf Biomed Health Inform                                                                 1\n",
       "The 26th International Conference on Software Engineering and Knowledge Engineering (SEKE 2014)         1\n",
       "The 29th Pacific Asia Conference on Language, Information and Computation                               1\n",
       "ACADEMIC PRESS LTD- ELSEVIER SCIENCE LTD                                                                1\n",
       "Massey University                                                                                       1\n",
       "Name: count, Length: 3835, dtype: int64"
      ]
     },
     "execution_count": 26,
     "metadata": {},
     "output_type": "execute_result"
    }
   ],
   "source": [
    "author[\"publisher\"].value_counts()"
   ]
  },
  {
   "cell_type": "code",
   "execution_count": 82,
   "metadata": {},
   "outputs": [
    {
     "data": {
      "text/html": [
       "<div>\n",
       "<style scoped>\n",
       "    .dataframe tbody tr th:only-of-type {\n",
       "        vertical-align: middle;\n",
       "    }\n",
       "\n",
       "    .dataframe tbody tr th {\n",
       "        vertical-align: top;\n",
       "    }\n",
       "\n",
       "    .dataframe thead th {\n",
       "        text-align: right;\n",
       "    }\n",
       "</style>\n",
       "<table border=\"1\" class=\"dataframe\">\n",
       "  <thead>\n",
       "    <tr style=\"text-align: right;\">\n",
       "      <th></th>\n",
       "      <th>index</th>\n",
       "      <th>author_id</th>\n",
       "      <th>author_name</th>\n",
       "      <th>standard_org</th>\n",
       "      <th>id</th>\n",
       "      <th>title</th>\n",
       "      <th>year</th>\n",
       "      <th>n_citation</th>\n",
       "      <th>doc_type</th>\n",
       "      <th>reference_count</th>\n",
       "      <th>references</th>\n",
       "      <th>venue_id</th>\n",
       "      <th>venue_name</th>\n",
       "      <th>venue_type</th>\n",
       "      <th>doi</th>\n",
       "      <th>keyword</th>\n",
       "      <th>volume</th>\n",
       "      <th>issue</th>\n",
       "      <th>publisher</th>\n",
       "    </tr>\n",
       "  </thead>\n",
       "  <tbody>\n",
       "    <tr>\n",
       "      <th>0</th>\n",
       "      <td>0</td>\n",
       "      <td>2117665592</td>\n",
       "      <td>G. Earl</td>\n",
       "      <td>Archaeological Computing Research Group, Unive...</td>\n",
       "      <td>1674</td>\n",
       "      <td>A methodology for the physically accurate visu...</td>\n",
       "      <td>2011</td>\n",
       "      <td>1</td>\n",
       "      <td>Conference</td>\n",
       "      <td>15.0</td>\n",
       "      <td>1535888970;1992876689;1993710814;2035653341;20...</td>\n",
       "      <td>2754954274</td>\n",
       "      <td>International Conference on Virtual Reality</td>\n",
       "      <td>C</td>\n",
       "      <td>https://doi.org/10.2312/VAST/VAST11/137-144</td>\n",
       "      <td>Statue;Engineering drawing;Virtual reconstruct...</td>\n",
       "      <td>NaN</td>\n",
       "      <td>NaN</td>\n",
       "      <td>Eurographics Association</td>\n",
       "    </tr>\n",
       "    <tr>\n",
       "      <th>1</th>\n",
       "      <td>1</td>\n",
       "      <td>2101415595</td>\n",
       "      <td>Dipankar Das</td>\n",
       "      <td>Department of Computer Science and Engineering...</td>\n",
       "      <td>9415</td>\n",
       "      <td>Identifying Psychological Theme Words from Emo...</td>\n",
       "      <td>2013</td>\n",
       "      <td>0</td>\n",
       "      <td>Conference</td>\n",
       "      <td>4.0</td>\n",
       "      <td>7678345;2032031606;2065586386;2079521622</td>\n",
       "      <td>2755612976</td>\n",
       "      <td>International Conference on Mining Intelligenc...</td>\n",
       "      <td>C</td>\n",
       "      <td>https://doi.org/10.1007/978-3-319-03844-5_71</td>\n",
       "      <td>Sadness;Rule-based system;Ranking;Disgust;Sham...</td>\n",
       "      <td>NaN</td>\n",
       "      <td>NaN</td>\n",
       "      <td>Springer, Cham</td>\n",
       "    </tr>\n",
       "    <tr>\n",
       "      <th>2</th>\n",
       "      <td>2</td>\n",
       "      <td>123621675</td>\n",
       "      <td>Serge Sharoff</td>\n",
       "      <td>unknown</td>\n",
       "      <td>15548</td>\n",
       "      <td>Cleaneval: a Competition for Cleaning Web Pages</td>\n",
       "      <td>2008</td>\n",
       "      <td>66</td>\n",
       "      <td>Conference</td>\n",
       "      <td>3.0</td>\n",
       "      <td>1963679817;1988325139;2014516359</td>\n",
       "      <td>1164963593</td>\n",
       "      <td>Language Resources and Evaluation</td>\n",
       "      <td>C</td>\n",
       "      <td>NaN</td>\n",
       "      <td>Web design;Web development;World Wide Web;Web ...</td>\n",
       "      <td>NaN</td>\n",
       "      <td>NaN</td>\n",
       "      <td>unknown</td>\n",
       "    </tr>\n",
       "    <tr>\n",
       "      <th>3</th>\n",
       "      <td>3</td>\n",
       "      <td>2137964017</td>\n",
       "      <td>Lidija Comic</td>\n",
       "      <td>unknown</td>\n",
       "      <td>16022</td>\n",
       "      <td>Algorithms for the Construction of Digital Con...</td>\n",
       "      <td>2007</td>\n",
       "      <td>0</td>\n",
       "      <td>Conference</td>\n",
       "      <td>4.0</td>\n",
       "      <td>1898259180;1977189574;2000938288;2005314985</td>\n",
       "      <td>2754545791</td>\n",
       "      <td>European Society for Fuzzy Logic and Technolog...</td>\n",
       "      <td>C</td>\n",
       "      <td>NaN</td>\n",
       "      <td>Convexity;Computer science;Fuzzy logic;Algorit...</td>\n",
       "      <td>NaN</td>\n",
       "      <td>NaN</td>\n",
       "      <td>unknown</td>\n",
       "    </tr>\n",
       "    <tr>\n",
       "      <th>4</th>\n",
       "      <td>4</td>\n",
       "      <td>2148789325</td>\n",
       "      <td>Prudence W. H. Wong</td>\n",
       "      <td>#N# University of Liverpool#N#</td>\n",
       "      <td>20175</td>\n",
       "      <td>An 8/3 Lower Bound for Online Dynamic Bin Packing</td>\n",
       "      <td>2012</td>\n",
       "      <td>6</td>\n",
       "      <td>Conference</td>\n",
       "      <td>15.0</td>\n",
       "      <td>1526652389;1549010977;1552828154;1589873279;19...</td>\n",
       "      <td>1175727152</td>\n",
       "      <td>International Symposium on Algorithms and Comp...</td>\n",
       "      <td>C</td>\n",
       "      <td>https://doi.org/10.1007/978-3-642-35261-4_8</td>\n",
       "      <td>Online algorithm;Discrete mathematics;Combinat...</td>\n",
       "      <td>NaN</td>\n",
       "      <td>NaN</td>\n",
       "      <td>Springer, Berlin, Heidelberg</td>\n",
       "    </tr>\n",
       "  </tbody>\n",
       "</table>\n",
       "</div>"
      ],
      "text/plain": [
       "   index   author_id          author_name  \\\n",
       "0      0  2117665592              G. Earl   \n",
       "1      1  2101415595         Dipankar Das   \n",
       "2      2   123621675        Serge Sharoff   \n",
       "3      3  2137964017         Lidija Comic   \n",
       "4      4  2148789325  Prudence W. H. Wong   \n",
       "\n",
       "                                        standard_org     id  \\\n",
       "0  Archaeological Computing Research Group, Unive...   1674   \n",
       "1  Department of Computer Science and Engineering...   9415   \n",
       "2                                            unknown  15548   \n",
       "3                                            unknown  16022   \n",
       "4                     #N# University of Liverpool#N#  20175   \n",
       "\n",
       "                                               title  year  n_citation  \\\n",
       "0  A methodology for the physically accurate visu...  2011           1   \n",
       "1  Identifying Psychological Theme Words from Emo...  2013           0   \n",
       "2    Cleaneval: a Competition for Cleaning Web Pages  2008          66   \n",
       "3  Algorithms for the Construction of Digital Con...  2007           0   \n",
       "4  An 8/3 Lower Bound for Online Dynamic Bin Packing  2012           6   \n",
       "\n",
       "     doc_type  reference_count  \\\n",
       "0  Conference             15.0   \n",
       "1  Conference              4.0   \n",
       "2  Conference              3.0   \n",
       "3  Conference              4.0   \n",
       "4  Conference             15.0   \n",
       "\n",
       "                                          references    venue_id  \\\n",
       "0  1535888970;1992876689;1993710814;2035653341;20...  2754954274   \n",
       "1           7678345;2032031606;2065586386;2079521622  2755612976   \n",
       "2                   1963679817;1988325139;2014516359  1164963593   \n",
       "3        1898259180;1977189574;2000938288;2005314985  2754545791   \n",
       "4  1526652389;1549010977;1552828154;1589873279;19...  1175727152   \n",
       "\n",
       "                                          venue_name venue_type  \\\n",
       "0        International Conference on Virtual Reality          C   \n",
       "1  International Conference on Mining Intelligenc...          C   \n",
       "2                  Language Resources and Evaluation          C   \n",
       "3  European Society for Fuzzy Logic and Technolog...          C   \n",
       "4  International Symposium on Algorithms and Comp...          C   \n",
       "\n",
       "                                            doi  \\\n",
       "0   https://doi.org/10.2312/VAST/VAST11/137-144   \n",
       "1  https://doi.org/10.1007/978-3-319-03844-5_71   \n",
       "2                                           NaN   \n",
       "3                                           NaN   \n",
       "4   https://doi.org/10.1007/978-3-642-35261-4_8   \n",
       "\n",
       "                                             keyword  volume  issue  \\\n",
       "0  Statue;Engineering drawing;Virtual reconstruct...     NaN    NaN   \n",
       "1  Sadness;Rule-based system;Ranking;Disgust;Sham...     NaN    NaN   \n",
       "2  Web design;Web development;World Wide Web;Web ...     NaN    NaN   \n",
       "3  Convexity;Computer science;Fuzzy logic;Algorit...     NaN    NaN   \n",
       "4  Online algorithm;Discrete mathematics;Combinat...     NaN    NaN   \n",
       "\n",
       "                      publisher  \n",
       "0      Eurographics Association  \n",
       "1                Springer, Cham  \n",
       "2                       unknown  \n",
       "3                       unknown  \n",
       "4  Springer, Berlin, Heidelberg  "
      ]
     },
     "execution_count": 82,
     "metadata": {},
     "output_type": "execute_result"
    }
   ],
   "source": [
    "author.head()"
   ]
  },
  {
   "cell_type": "code",
   "execution_count": null,
   "metadata": {},
   "outputs": [
    {
     "data": {
      "text/plain": [
       "venue_name\n",
       "National Conference on Artificial Intelligence                                     15827\n",
       "Computer Vision and Pattern Recognition                                            15516\n",
       "International Conference on Acoustics, Speech, and Signal Processing               13433\n",
       "International Conference on Robotics and Automation                                12741\n",
       "International Conference on Image Processing                                       11525\n",
       "                                                                                   ...  \n",
       "International Symposium on Power Electronics for Distributed Generation Systems        1\n",
       "IEEE International Conference on Circuits and Systems for Communications               1\n",
       "European Conference on Radiation and Its Effects on Components and Systems             1\n",
       "Self-Sustaining Systems                                                                1\n",
       "International Conference on Software Technology and Engineering                        1\n",
       "Name: count, Length: 3013, dtype: int64"
      ]
     },
     "execution_count": 90,
     "metadata": {},
     "output_type": "execute_result"
    }
   ],
   "source": [
    "author[\"venue_name\"].value_counts()"
   ]
  },
  {
   "cell_type": "markdown",
   "metadata": {},
   "source": [
    "### Split train and validation\n"
   ]
  },
  {
   "cell_type": "code",
   "execution_count": null,
   "metadata": {},
   "outputs": [
    {
     "name": "stdout",
     "output_type": "stream",
     "text": [
      "Train size: 1048286, Validation size: 29694\n"
     ]
    }
   ],
   "source": [
    "valid = author.sort_values(\"year\", ascending=False).groupby(\"author_id\").head(1)\n",
    "train = author[~author[\"id\"].isin(valid[\"id\"])]\n",
    "\n",
    "print(f\"Train size: {len(train)}, Validation size: {len(valid)}\")\n"
   ]
  },
  {
   "cell_type": "code",
   "execution_count": null,
   "metadata": {},
   "outputs": [
    {
     "name": "stdout",
     "output_type": "stream",
     "text": [
      "Total nodes in data: 1077980\n",
      "Sample data:\n",
      "   index   author_id          author_name  \\\n",
      "0      0  2117665592              G. Earl   \n",
      "1      1  2101415595         Dipankar Das   \n",
      "2      2   123621675        Serge Sharoff   \n",
      "3      3  2137964017         Lidija Comic   \n",
      "4      4  2148789325  Prudence W. H. Wong   \n",
      "\n",
      "                                        standard_org     id  \\\n",
      "0  Archaeological Computing Research Group, Unive...   1674   \n",
      "1  Department of Computer Science and Engineering...   9415   \n",
      "2                                            unknown  15548   \n",
      "3                                            unknown  16022   \n",
      "4                     #N# University of Liverpool#N#  20175   \n",
      "\n",
      "                                               title  year  n_citation  \\\n",
      "0  A methodology for the physically accurate visu...  2011           1   \n",
      "1  Identifying Psychological Theme Words from Emo...  2013           0   \n",
      "2    Cleaneval: a Competition for Cleaning Web Pages  2008          66   \n",
      "3  Algorithms for the Construction of Digital Con...  2007           0   \n",
      "4  An 8/3 Lower Bound for Online Dynamic Bin Packing  2012           6   \n",
      "\n",
      "     doc_type  reference_count  \\\n",
      "0  Conference             15.0   \n",
      "1  Conference              4.0   \n",
      "2  Conference              3.0   \n",
      "3  Conference              4.0   \n",
      "4  Conference             15.0   \n",
      "\n",
      "                                          references    venue_id  \\\n",
      "0  1535888970;1992876689;1993710814;2035653341;20...  2754954274   \n",
      "1           7678345;2032031606;2065586386;2079521622  2755612976   \n",
      "2                   1963679817;1988325139;2014516359  1164963593   \n",
      "3        1898259180;1977189574;2000938288;2005314985  2754545791   \n",
      "4  1526652389;1549010977;1552828154;1589873279;19...  1175727152   \n",
      "\n",
      "                                          venue_name venue_type  \\\n",
      "0        International Conference on Virtual Reality          C   \n",
      "1  International Conference on Mining Intelligenc...          C   \n",
      "2                  Language Resources and Evaluation          C   \n",
      "3  European Society for Fuzzy Logic and Technolog...          C   \n",
      "4  International Symposium on Algorithms and Comp...          C   \n",
      "\n",
      "                                            doi  \\\n",
      "0   https://doi.org/10.2312/VAST/VAST11/137-144   \n",
      "1  https://doi.org/10.1007/978-3-319-03844-5_71   \n",
      "2                                           NaN   \n",
      "3                                           NaN   \n",
      "4   https://doi.org/10.1007/978-3-642-35261-4_8   \n",
      "\n",
      "                                             keyword  volume  issue  \\\n",
      "0  Statue;Engineering drawing;Virtual reconstruct...     NaN    NaN   \n",
      "1  Sadness;Rule-based system;Ranking;Disgust;Sham...     NaN    NaN   \n",
      "2  Web design;Web development;World Wide Web;Web ...     NaN    NaN   \n",
      "3  Convexity;Computer science;Fuzzy logic;Algorit...     NaN    NaN   \n",
      "4  Online algorithm;Discrete mathematics;Combinat...     NaN    NaN   \n",
      "\n",
      "                      publisher  \\\n",
      "0      Eurographics Association   \n",
      "1                Springer, Cham   \n",
      "2                       unknown   \n",
      "3                       unknown   \n",
      "4  Springer, Berlin, Heidelberg   \n",
      "\n",
      "                                   references_parsed  \n",
      "0  [1535888970, 1992876689, 1993710814, 203565334...  \n",
      "1      [7678345, 2032031606, 2065586386, 2079521622]  \n",
      "2               [1963679817, 1988325139, 2014516359]  \n",
      "3   [1898259180, 1977189574, 2000938288, 2005314985]  \n",
      "4  [1526652389, 1549010977, 1552828154, 158987327...  \n"
     ]
    }
   ],
   "source": [
    "data = pd.concat([train, valid], ignore_index=True)\n",
    "\n",
    "data[\"references_parsed\"] = data[\"references\"].apply(\n",
    "    lambda refs: [int(ref) for ref in refs.split(\";\")]\n",
    "    if pd.notna(refs) and refs\n",
    "    else []\n",
    ")\n",
    "\n",
    "print(f\"Total nodes in data: {len(data)}\")\n",
    "print(f\"Sample data:\\n{data.head()}\")\n"
   ]
  },
  {
   "cell_type": "code",
   "execution_count": null,
   "metadata": {},
   "outputs": [
    {
     "name": "stdout",
     "output_type": "stream",
     "text": [
      "Number of nodes in graph: 1589539\n",
      "Number of edges in graph: 8800995\n"
     ]
    }
   ],
   "source": [
    "import networkx as nx\n",
    "\n",
    "G = nx.DiGraph()\n",
    "for _, row in data.iterrows():\n",
    "    for ref in row[\"references_parsed\"]:\n",
    "        G.add_edge(row[\"id\"], ref)\n",
    "\n",
    "print(f\"Number of nodes in graph: {G.number_of_nodes()}\")\n",
    "print(f\"Number of edges in graph: {G.number_of_edges()}\")"
   ]
  },
  {
   "cell_type": "code",
   "execution_count": null,
   "metadata": {},
   "outputs": [
    {
     "name": "stdout",
     "output_type": "stream",
     "text": [
      "Number of isolated nodes: 0\n"
     ]
    }
   ],
   "source": [
    "isolated_nodes = list(nx.isolates(G))\n",
    "print(f\"Number of isolated nodes: {len(isolated_nodes)}\")\n"
   ]
  },
  {
   "cell_type": "code",
   "execution_count": null,
   "metadata": {},
   "outputs": [
    {
     "name": "stdout",
     "output_type": "stream",
     "text": [
      "      id    degree      pagerank  clustering_coefficient\n",
      "0   1674  0.000009  4.083786e-07                0.076190\n",
      "1   9415  0.000003  4.083786e-07                0.000000\n",
      "2  15548  0.000011  1.446101e-06                0.071895\n",
      "3  16022  0.000003  4.083786e-07                0.000000\n",
      "4  20175  0.000010  4.365232e-07                0.241667\n"
     ]
    }
   ],
   "source": [
    "# Degree\n",
    "degree = nx.degree_centrality(G)\n",
    "\n",
    "# PageRank\n",
    "pagerank = nx.pagerank(G)\n",
    "\n",
    "# Clustering Coefficient\n",
    "clustering_coefficient = nx.clustering(G.to_undirected())\n",
    "\n",
    "data[\"degree\"] = data[\"id\"].map(degree).fillna(0)\n",
    "data[\"pagerank\"] = data[\"id\"].map(pagerank).fillna(0)\n",
    "data[\"clustering_coefficient\"] = data[\"id\"].map(clustering_coefficient).fillna(0)\n",
    "\n",
    "print(data[[\"id\", \"degree\", \"pagerank\", \"clustering_coefficient\"]].head())"
   ]
  },
  {
   "cell_type": "code",
   "execution_count": null,
   "metadata": {},
   "outputs": [
    {
     "name": "stdout",
     "output_type": "stream",
     "text": [
      "Train shape: (1048286, 23)\n",
      "Valid shape: (29694, 23)\n"
     ]
    }
   ],
   "source": [
    "train = data[data[\"id\"].isin(train[\"id\"])]\n",
    "valid = data[data[\"id\"].isin(valid[\"id\"])]\n",
    "\n",
    "print(f\"Train shape: {train.shape}\")\n",
    "print(f\"Valid shape: {valid.shape}\")"
   ]
  },
  {
   "cell_type": "code",
   "execution_count": null,
   "metadata": {},
   "outputs": [
    {
     "name": "stdout",
     "output_type": "stream",
     "text": [
      "Train combined:\n",
      "       id    degree      pagerank  clustering_coefficient  year  n_citation  \\\n",
      "0   1674  0.000009  4.083786e-07                0.076190  2011           1   \n",
      "1   9415  0.000003  4.083786e-07                0.000000  2013           0   \n",
      "2  15548  0.000011  1.446101e-06                0.071895  2008          66   \n",
      "3  16022  0.000003  4.083786e-07                0.000000  2007           0   \n",
      "4  20175  0.000010  4.365232e-07                0.241667  2012           6   \n",
      "\n",
      "   log_n_citation  \n",
      "0        0.693147  \n",
      "1        0.000000  \n",
      "2        4.204693  \n",
      "3        0.000000  \n",
      "4        1.945910  \n",
      "Valid combined:\n",
      "                  id    degree      pagerank  clustering_coefficient  year  \\\n",
      "1048286  2995720360  0.000000  0.000000e+00                0.000000  2020   \n",
      "1048287  2997803662  0.000000  0.000000e+00                0.000000  2020   \n",
      "1048288  2997662139  0.000021  4.083786e-07                0.058824  2020   \n",
      "1048289  3001954018  0.000000  0.000000e+00                0.000000  2020   \n",
      "1048290  3001954018  0.000000  0.000000e+00                0.000000  2020   \n",
      "\n",
      "         n_citation  log_n_citation  \n",
      "1048286           0             0.0  \n",
      "1048287           0             0.0  \n",
      "1048288           0             0.0  \n",
      "1048289           0             0.0  \n",
      "1048290           0             0.0  \n"
     ]
    }
   ],
   "source": [
    "import pandas as pd\n",
    "import torch\n",
    "\n",
    "y_train = torch.tensor(train[\"n_citation\"].values, dtype=torch.float)\n",
    "y_valid = torch.tensor(valid[\"n_citation\"].values, dtype=torch.float)\n",
    "\n",
    "train_combined = train[\n",
    "    [\"id\", \"degree\", \"pagerank\", \"clustering_coefficient\", \"year\", \"n_citation\"]\n",
    "].copy()\n",
    "train_combined[\"log_n_citation\"] = np.log1p(train_combined[\"n_citation\"])\n",
    "\n",
    "valid_combined = valid[\n",
    "    [\"id\", \"degree\", \"pagerank\", \"clustering_coefficient\", \"year\", \"n_citation\"]\n",
    "].copy()\n",
    "valid_combined[\"log_n_citation\"] = np.log1p(valid_combined[\"n_citation\"])\n",
    "\n",
    "print(\"Train combined:\\n\", train_combined.head())\n",
    "print(\"Valid combined:\\n\", valid_combined.head())\n"
   ]
  },
  {
   "cell_type": "code",
   "execution_count": null,
   "metadata": {},
   "outputs": [
    {
     "name": "stdout",
     "output_type": "stream",
     "text": [
      "Normalized train_combined:\n",
      "       id    degree  pagerank  clustering_coefficient      year  n_citation  \\\n",
      "0   1674  0.005183  0.004006                0.076190  0.844828           1   \n",
      "1   9415  0.001382  0.004006                0.000000  0.879310           0   \n",
      "2  15548  0.006220  0.014187                0.071895  0.793103          66   \n",
      "3  16022  0.001382  0.004006                0.000000  0.775862           0   \n",
      "4  20175  0.005529  0.004282                0.241667  0.862069           6   \n",
      "\n",
      "   log_n_citation  \n",
      "0        0.693147  \n",
      "1        0.000000  \n",
      "2        4.204693  \n",
      "3        0.000000  \n",
      "4        1.945910  \n"
     ]
    }
   ],
   "source": [
    "from sklearn.preprocessing import MinMaxScaler\n",
    "\n",
    "numeric_features = [\"degree\", \"pagerank\", \"clustering_coefficient\", \"year\"]\n",
    "\n",
    "# 归一化\n",
    "scaler = MinMaxScaler()\n",
    "train_combined[numeric_features] = scaler.fit_transform(\n",
    "    train_combined[numeric_features]\n",
    ")\n",
    "valid_combined[numeric_features] = scaler.transform(valid_combined[numeric_features])\n",
    "\n",
    "print(\"Normalized train_combined:\\n\", train_combined.head())\n"
   ]
  },
  {
   "cell_type": "code",
   "execution_count": null,
   "metadata": {},
   "outputs": [],
   "source": [
    "final_features = numeric_features + [\"paper_age\"]\n",
    "\n",
    "X_train = train_combined[final_features].values\n",
    "y_train = train_combined[\"log_n_citation\"]\n",
    "\n",
    "X_valid = valid_combined[final_features].values\n",
    "y_valid = valid_combined[\"log_n_citation\"]\n"
   ]
  },
  {
   "cell_type": "code",
   "execution_count": null,
   "metadata": {},
   "outputs": [
    {
     "name": "stdout",
     "output_type": "stream",
     "text": [
      "Random Forest Validation MSE: 93.7216\n",
      "Random Forest Validation R² Score: 0.7655\n"
     ]
    }
   ],
   "source": [
    "from sklearn.ensemble import RandomForestRegressor\n",
    "from sklearn.metrics import mean_squared_error, r2_score\n",
    "\n",
    "rf_model = RandomForestRegressor(n_estimators=100, random_state=42)\n",
    "rf_model.fit(X_train, y_train)\n",
    "\n",
    "y_valid_pred_rf = rf_model.predict(X_valid)\n",
    "\n",
    "y_valid_pred_rf_exp = np.expm1(y_valid_pred_rf)\n",
    "y_valid_exp = np.expm1(y_valid)\n",
    "\n",
    "mse_rf = mean_squared_error(y_valid_exp, y_valid_pred_rf_exp)\n",
    "r2_rf = r2_score(y_valid_exp, y_valid_pred_rf_exp)\n",
    "\n",
    "print(f\"Random Forest Validation MSE: {mse_rf:.4f}\")\n",
    "print(f\"Random Forest Validation R² Score: {r2_rf:.4f}\")\n"
   ]
  },
  {
   "cell_type": "code",
   "execution_count": null,
   "metadata": {},
   "outputs": [
    {
     "name": "stdout",
     "output_type": "stream",
     "text": [
      "XGBoost Validation MSE: 91.2820\n",
      "XGBoost Validation R² Score: 0.7716\n"
     ]
    }
   ],
   "source": [
    "from xgboost import XGBRegressor\n",
    "\n",
    "xgb_model = XGBRegressor(\n",
    "    n_estimators=200, learning_rate=0.1, max_depth=6, random_state=42\n",
    ")\n",
    "xgb_model.fit(X_train, y_train)\n",
    "\n",
    "y_valid_pred_xgb = xgb_model.predict(X_valid)\n",
    "\n",
    "y_valid_pred_xgb_exp = np.expm1(y_valid_pred_xgb)\n",
    "mse_xgb = mean_squared_error(y_valid_exp, y_valid_pred_xgb_exp)\n",
    "r2_xgb = r2_score(y_valid_exp, y_valid_pred_xgb_exp)\n",
    "\n",
    "print(f\"XGBoost Validation MSE: {mse_xgb:.4f}\")\n",
    "print(f\"XGBoost Validation R² Score: {r2_xgb:.4f}\")\n"
   ]
  },
  {
   "cell_type": "code",
   "execution_count": null,
   "metadata": {},
   "outputs": [
    {
     "data": {
      "image/png": "[encoded data removed]",
      "text/plain": [
       "<Figure size 640x480 with 1 Axes>"
      ]
     },
     "metadata": {},
     "output_type": "display_data"
    },
    {
     "data": {
      "image/png": "[encoded data removed]",
      "text/plain": [
       "<Figure size 640x480 with 1 Axes>"
      ]
     },
     "metadata": {},
     "output_type": "display_data"
    }
   ],
   "source": [
    "import matplotlib.pyplot as plt\n",
    "\n",
    "residuals = y_valid_exp - y_valid_pred_xgb_exp\n",
    "plt.hist(residuals, bins=30, edgecolor=\"k\")\n",
    "plt.xlabel(\"Residuals\")\n",
    "plt.ylabel(\"Frequency\")\n",
    "plt.title(\"Distribution of Residuals\")\n",
    "plt.show()\n",
    "\n",
    "plt.scatter(y_valid_exp, y_valid_pred_xgb_exp, alpha=0.5)\n",
    "plt.xlabel(\"True Values\")\n",
    "plt.ylabel(\"Predicted Values\")\n",
    "plt.title(\"True vs. Predicted\")\n",
    "plt.plot(\n",
    "    [y_valid_exp.min(), y_valid_exp.max()],\n",
    "    [y_valid_exp.min(), y_valid_exp.max()],\n",
    "    color=\"red\",\n",
    "    linestyle=\"--\",\n",
    ")\n",
    "plt.show()\n"
   ]
  },
  {
   "cell_type": "code",
   "execution_count": null,
   "metadata": {},
   "outputs": [
    {
     "name": "stdout",
     "output_type": "stream",
     "text": [
      "Fitting 3 folds for each of 108 candidates, totalling 324 fits\n",
      "Best parameters: {'colsample_bytree': 1.0, 'learning_rate': 0.05, 'max_depth': 4, 'n_estimators': 300, 'subsample': 1.0}\n"
     ]
    }
   ],
   "source": [
    "from sklearn.model_selection import GridSearchCV\n",
    "\n",
    "params = {\n",
    "    \"n_estimators\": [100, 200, 300],\n",
    "    \"learning_rate\": [0.01, 0.05, 0.1],\n",
    "    \"max_depth\": [4, 6, 8],\n",
    "    \"subsample\": [0.8, 1.0],\n",
    "    \"colsample_bytree\": [0.8, 1.0],\n",
    "}\n",
    "xgb_model = XGBRegressor(random_state=42)\n",
    "grid_search = GridSearchCV(\n",
    "    xgb_model, param_grid=params, scoring=\"neg_mean_squared_error\", cv=3, verbose=1\n",
    ")\n",
    "grid_search.fit(X_train, y_train)\n",
    "print(\"Best parameters:\", grid_search.best_params_)\n"
   ]
  },
  {
   "cell_type": "code",
   "execution_count": null,
   "metadata": {},
   "outputs": [
    {
     "name": "stdout",
     "output_type": "stream",
     "text": [
      "XGBoost Validation MSE: 82.1710\n",
      "XGBoost Validation R² Score: 0.7944\n"
     ]
    }
   ],
   "source": [
    "from xgboost import XGBRegressor\n",
    "\n",
    "xgb_model = XGBRegressor(\n",
    "    n_estimators=300, learning_rate=0.05, max_depth=4, random_state=42\n",
    ")\n",
    "xgb_model.fit(X_train, y_train)\n",
    "\n",
    "y_valid_pred_xgb = xgb_model.predict(X_valid)\n",
    "\n",
    "y_valid_pred_xgb_exp = np.expm1(y_valid_pred_xgb)\n",
    "mse_xgb = mean_squared_error(y_valid_exp, y_valid_pred_xgb_exp)\n",
    "r2_xgb = r2_score(y_valid_exp, y_valid_pred_xgb_exp)\n",
    "\n",
    "print(f\"XGBoost Validation MSE: {mse_xgb:.4f}\")\n",
    "print(f\"XGBoost Validation R² Score: {r2_xgb:.4f}\")"
   ]
  },
  {
   "cell_type": "code",
   "execution_count": null,
   "metadata": {},
   "outputs": [
    {
     "data": {
      "image/png": "[encoded data removed]",
      "text/plain": [
       "<Figure size 640x480 with 1 Axes>"
      ]
     },
     "metadata": {},
     "output_type": "display_data"
    }
   ],
   "source": [
    "plt.scatter(y_valid_exp, y_valid_pred_xgb_exp, alpha=0.5)\n",
    "plt.xlabel(\"True Values\")\n",
    "plt.ylabel(\"Predicted Values\")\n",
    "plt.title(\"True vs. Predicted\")\n",
    "plt.plot(\n",
    "    [y_valid_exp.min(), y_valid_exp.max()],\n",
    "    [y_valid_exp.min(), y_valid_exp.max()],\n",
    "    color=\"red\",\n",
    "    linestyle=\"--\",\n",
    ")\n",
    "plt.show()"
   ]
  }
 ],
 "metadata": {
  "kernelspec": {
   "display_name": ".venv",
   "language": "python",
   "name": "python3"
  },
  "language_info": {
   "codemirror_mode": {
    "name": "ipython",
    "version": 3
   },
   "file_extension": ".py",
   "mimetype": "text/x-python",
   "name": "python",
   "nbconvert_exporter": "python",
   "pygments_lexer": "ipython3",
   "version": "3.12.3"
  }
 },
 "nbformat": 4,
 "nbformat_minor": 2
}
