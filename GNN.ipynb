{
 "cells": [
  {
   "cell_type": "markdown",
   "metadata": {},
   "source": [
    "# SI 608 "
   ]
  },
  {
   "cell_type": "markdown",
   "metadata": {},
   "source": [
    "### Data Preparation"
   ]
  },
  {
   "cell_type": "code",
   "execution_count": 3,
   "metadata": {},
   "outputs": [
    {
     "name": "stderr",
     "output_type": "stream",
     "text": [
      "/Users/yidanchang/Desktop/FALL2024/SI608/.venv/lib/python3.12/site-packages/fuzzywuzzy/fuzz.py:11: UserWarning: Using slow pure-python SequenceMatcher. Install python-Levenshtein to remove this warning\n",
      "  warnings.warn('Using slow pure-python SequenceMatcher. Install python-Levenshtein to remove this warning')\n"
     ]
    }
   ],
   "source": [
    "import pandas as pd\n",
    "import numpy as np\n",
    "import matplotlib.pyplot as plt\n",
    "import networkx as nx\n",
    "from fuzzywuzzy import process"
   ]
  },
  {
   "cell_type": "code",
   "execution_count": 4,
   "metadata": {},
   "outputs": [],
   "source": [
    "df = pd.read_csv(\"dblp_graph_conference_v12_new_author.csv\")"
   ]
  },
  {
   "cell_type": "code",
   "execution_count": 8,
   "metadata": {},
   "outputs": [
    {
     "data": {
      "text/plain": [
       "index                    0\n",
       "author_id                0\n",
       "author_name              0\n",
       "author_org           88826\n",
       "id                       0\n",
       "title                    0\n",
       "year                     0\n",
       "n_citation               0\n",
       "doc_type                 0\n",
       "reference_count          0\n",
       "references          105536\n",
       "venue_id                 0\n",
       "venue_name               0\n",
       "venue_type               0\n",
       "doi                 157790\n",
       "keyword                  0\n",
       "volume              947805\n",
       "issue              1037011\n",
       "publisher                0\n",
       "dtype: int64"
      ]
     },
     "execution_count": 8,
     "metadata": {},
     "output_type": "execute_result"
    }
   ],
   "source": [
    "df.isnull().sum()"
   ]
  },
  {
   "cell_type": "code",
   "execution_count": null,
   "metadata": {},
   "outputs": [],
   "source": [
    "df[\"author_org\"] = df[\"author_org\"].fillna(\"unknown\")\n",
    "\n"
   ]
  },
  {
   "cell_type": "markdown",
   "metadata": {},
   "source": [
    "Missing doi's do not affect the data and are not filled\n",
    "\n",
    "Volume and issue are also not filled since there are too many vacancies"
   ]
  },
  {
   "cell_type": "code",
   "execution_count": 15,
   "metadata": {},
   "outputs": [
    {
     "data": {
      "text/plain": [
       "index                    0\n",
       "author_id                0\n",
       "author_name              0\n",
       "author_org               0\n",
       "id                       0\n",
       "title                    0\n",
       "year                     0\n",
       "n_citation               0\n",
       "doc_type                 0\n",
       "reference_count          0\n",
       "references          105536\n",
       "venue_id                 0\n",
       "venue_name               0\n",
       "venue_type               0\n",
       "doi                 157790\n",
       "keyword                  0\n",
       "volume              947805\n",
       "issue              1037011\n",
       "publisher                0\n",
       "dtype: int64"
      ]
     },
     "execution_count": 15,
     "metadata": {},
     "output_type": "execute_result"
    }
   ],
   "source": [
    "df.isnull().sum()"
   ]
  },
  {
   "cell_type": "code",
   "execution_count": 16,
   "metadata": {},
   "outputs": [],
   "source": [
    "def clean_org(org):\n",
    "    if \"email\" in org:\n",
    "        org = org.rsplit(\",\", 1)[0]\n",
    "    return org\n",
    "\n",
    "\n",
    "df.loc[df[\"author_org\"] == \"nan\", \"author_org\"] = \"unknown\"\n",
    "df[\"author_org\"] = df[\"author_org\"].apply(\n",
    "    lambda x: x.strip('\"').replace(\"#TAB#\", \"\").strip()\n",
    ")\n",
    "\n",
    "df[\"author_org\"] = df[\"author_org\"].apply(clean_org)"
   ]
  },
  {
   "cell_type": "code",
   "execution_count": 17,
   "metadata": {},
   "outputs": [
    {
     "name": "stdout",
     "output_type": "stream",
     "text": [
      "author_org\n",
      "unknown                                                                   153105\n",
      "Carnegie - Mellon University                                                3996\n",
      "Stanford, University                                                        2273\n",
      "Carnegie-Mellon Univ., Pittsburgh, PA, USA                                  1954\n",
      "Carnegie Mellon University, Pittsburgh Pa                                   1756\n",
      "                                                                           ...  \n",
      "IRIT-UPS, Toulouse Cedex, France                                               1\n",
      "THALES Communications France, Colombes, France                                 1\n",
      "LIRIS, Lyon 1 Univ., Lyon, France                                              1\n",
      "INRP, ENS Cachan, Cachan, France                                               1\n",
      "Archaeological Computing Research Group, University of Southampton, UK         1\n",
      "Name: count, Length: 243247, dtype: int64\n"
     ]
    }
   ],
   "source": [
    "print(df[\"author_org\"].value_counts())"
   ]
  },
  {
   "cell_type": "code",
   "execution_count": 18,
   "metadata": {},
   "outputs": [
    {
     "data": {
      "text/plain": [
       "np.int64(0)"
      ]
     },
     "execution_count": 18,
     "metadata": {},
     "output_type": "execute_result"
    }
   ],
   "source": [
    "df[\"author_org\"].isnull().sum()"
   ]
  },
  {
   "cell_type": "markdown",
   "metadata": {},
   "source": [
    "#### Other paper related attributes"
   ]
  },
  {
   "cell_type": "code",
   "execution_count": 24,
   "metadata": {},
   "outputs": [],
   "source": [
    "df.rename(columns={\"author_org\":\"standard_org\"}, inplace=True)"
   ]
  },
  {
   "cell_type": "code",
   "execution_count": 25,
   "metadata": {},
   "outputs": [
    {
     "data": {
      "text/plain": [
       "publisher\n",
       "IEEE                                                                                               376014\n",
       "ACM                                                                                                164336\n",
       "Springer, Berlin, Heidelberg                                                                       157110\n",
       "unknown                                                                                            108753\n",
       "Springer, Cham                                                                                      63753\n",
       "                                                                                                    ...  \n",
       "IEEE EMBS Int Conf Biomed Health Inform                                                                 1\n",
       "The 26th International Conference on Software Engineering and Knowledge Engineering (SEKE 2014)         1\n",
       "The 29th Pacific Asia Conference on Language, Information and Computation                               1\n",
       "ACADEMIC PRESS LTD- ELSEVIER SCIENCE LTD                                                                1\n",
       "Massey University                                                                                       1\n",
       "Name: count, Length: 3835, dtype: int64"
      ]
     },
     "execution_count": 25,
     "metadata": {},
     "output_type": "execute_result"
    }
   ],
   "source": [
    "df[\"publisher\"].value_counts()"
   ]
  },
  {
   "cell_type": "code",
   "execution_count": 27,
   "metadata": {},
   "outputs": [
    {
     "data": {
      "text/plain": [
       "venue_name\n",
       "National Conference on Artificial Intelligence                                     15827\n",
       "Computer Vision and Pattern Recognition                                            15516\n",
       "International Conference on Acoustics, Speech, and Signal Processing               13433\n",
       "International Conference on Robotics and Automation                                12741\n",
       "International Conference on Image Processing                                       11525\n",
       "                                                                                   ...  \n",
       "International Symposium on Power Electronics for Distributed Generation Systems        1\n",
       "IEEE International Conference on Circuits and Systems for Communications               1\n",
       "European Conference on Radiation and Its Effects on Components and Systems             1\n",
       "Self-Sustaining Systems                                                                1\n",
       "International Conference on Software Technology and Engineering                        1\n",
       "Name: count, Length: 3013, dtype: int64"
      ]
     },
     "execution_count": 27,
     "metadata": {},
     "output_type": "execute_result"
    }
   ],
   "source": [
    "df['venue_name'].value_counts()"
   ]
  },
  {
   "cell_type": "code",
   "execution_count": 28,
   "metadata": {},
   "outputs": [],
   "source": [
    "citation_grouped= df.groupby(\"author_id\")['n_citation'].sum().reset_index(name=\"total_citation\")\n",
    "df=df.merge(citation_grouped, on=\"author_id\", how=\"left\")\n",
    "\n",
    "paper_grouped= df.groupby(\"author_id\")['index'].count().reset_index(name=\"total_paper\")\n",
    "df=df.merge(paper_grouped, on=\"author_id\", how=\"left\")\n",
    "\n",
    "reference_grouped= df.groupby(\"author_id\")['reference_count'].mean().reset_index(name=\"avg_reference\")\n",
    "df=df.merge(reference_grouped, on=\"author_id\", how=\"left\")\n",
    "\n"
   ]
  },
  {
   "cell_type": "code",
   "execution_count": 29,
   "metadata": {},
   "outputs": [],
   "source": [
    "def merge_keywords(keywords):\n",
    "    all_keywords = set()\n",
    "    for kw in keywords:\n",
    "        all_keywords.update(kw.split(';'))\n",
    "    return all_keywords\n",
    "\n",
    "\n",
    "author_keywords = df.groupby(\"author_id\")[\"keyword\"].apply(merge_keywords).reset_index(name='total_keyword')\n",
    "df=df.merge(author_keywords, on=\"author_id\", how=\"left\")"
   ]
  },
  {
   "cell_type": "markdown",
   "metadata": {},
   "source": [
    "### Split train and validation"
   ]
  },
  {
   "cell_type": "code",
   "execution_count": 114,
   "metadata": {},
   "outputs": [],
   "source": [
    "most_recent_indices = df.groupby(\"author_id\")[\"year\"].idxmax()\n",
    "\n",
    "valid = df.loc[most_recent_indices]\n",
    "\n",
    "train = df.drop(most_recent_indices)"
   ]
  },
  {
   "cell_type": "code",
   "execution_count": 116,
   "metadata": {},
   "outputs": [
    {
     "name": "stdout",
     "output_type": "stream",
     "text": [
      "Authors in train but not in valid: []\n"
     ]
    }
   ],
   "source": [
    "valid_author_ids = valid['author_id'].unique()\n",
    "train_author_ids = train['author_id'].unique()\n",
    "\n",
    "# Find authors present in train but not in valid\n",
    "missing_from_valid = [author_id for author_id in train_author_ids if author_id not in valid_author_ids]\n",
    "print(\"Authors in train but not in valid:\", missing_from_valid)\n"
   ]
  },
  {
   "cell_type": "markdown",
   "metadata": {},
   "source": [
    "#### Build the graph"
   ]
  },
  {
   "cell_type": "code",
   "execution_count": null,
   "metadata": {},
   "outputs": [],
   "source": [
    "G_train=nx.Graph()"
   ]
  },
  {
   "cell_type": "code",
   "execution_count": null,
   "metadata": {},
   "outputs": [],
   "source": [
    "\n",
    "for index, row in train.iterrows():\n",
    "    author_id = row['author_id']\n",
    "    if not G_train.has_node(author_id):\n",
    "        G_train.add_node(\n",
    "            author_id,\n",
    "            name=row['author_name'],\n",
    "            org=row['standard_org'],\n",
    "            total_citation=row[\"total_citation\"], \n",
    "            total_paper=row[\"total_paper\"],\n",
    "            avg_reference=row[\"avg_reference\"],     \n",
    "            keywords=row[\"total_keyword\"],   \n",
    "        )\n"
   ]
  },
  {
   "cell_type": "code",
   "execution_count": null,
   "metadata": {},
   "outputs": [],
   "source": [
    "\n",
    "for paper_id, group in train.groupby('id'):\n",
    "    authors = group['author_id'].tolist()\n",
    "    id = group['id'].iloc[0]\n",
    "    title = group['title'].iloc[0]\n",
    "    year = group['year'].iloc[0]\n",
    "    venue_id = group['venue_id'].iloc[0]\n",
    "    venue_name = group['venue_name'].iloc[0]\n",
    "    publisher = group['publisher'].iloc[0]\n",
    "    n_citation = group['n_citation'].iloc[0]  # 本篇文章的引用数\n",
    "\n",
    "    for i in range(len(authors)):\n",
    "        for j in range(i + 1, len(authors)):\n",
    "            author1 = authors[i]\n",
    "            author2 = authors[j]\n",
    "\n",
    "            if G_train.has_edge(author1, author2):\n",
    "                G_train[author1][author2]['papers'].append({\n",
    "                    'id': id,\n",
    "                    'title': title,\n",
    "                    'year': year,\n",
    "                    'venue_id': venue_id,\n",
    "                    'venue_name': venue_name,\n",
    "                    'publisher': publisher,\n",
    "                    'n_citation': n_citation,  # 添加引用数\n",
    "                })\n",
    "            else:\n",
    "                G_train.add_edge(author1, author2, papers=[{\n",
    "                    'id': id,\n",
    "                    'title': title,\n",
    "                    'year': year,\n",
    "                    'venue_id': venue_id,\n",
    "                    'venue_name': venue_name,\n",
    "                    'publisher': publisher,\n",
    "                    'n_citation': n_citation,  # 添加引用数\n",
    "                }])\n"
   ]
  },
  {
   "cell_type": "markdown",
   "metadata": {},
   "source": [
    "### Network Analysis"
   ]
  },
  {
   "cell_type": "code",
   "execution_count": 35,
   "metadata": {},
   "outputs": [
    {
     "name": "stdout",
     "output_type": "stream",
     "text": [
      "# components:  1095\n",
      "# nodes:  29694\n",
      "# edge:  153857\n",
      "%_largest component:  94.4\n",
      "average degree:  10.362834242607935\n",
      "average clustering coefficient:  0.37782319359036604\n"
     ]
    }
   ],
   "source": [
    "print(\"# components: \",nx.number_connected_components(G_train))\n",
    "\n",
    "nodes_num=len(G_train.nodes())\n",
    "print('# nodes: ',nodes_num)\n",
    "\n",
    "edges_num=len(G_train.edges())\n",
    "print('# edge: ',edges_num)\n",
    "\n",
    "largest_component = max(nx.connected_components(G_train), key=len)\n",
    "percent_lc=round(len(largest_component)/nodes_num*100,2)\n",
    "print(\"%_largest component: \",percent_lc)\n",
    "\n",
    "# average degree\n",
    "degree_dict=dict(nx.degree(G_train))\n",
    "avg_d=sum(degree_dict.values())/len(G_train.nodes())\n",
    "print(\"average degree: \",avg_d)\n",
    "\n",
    "# average clustering coefficient\n",
    "avg_cc=nx.average_clustering(G_train)\n",
    "print(\"average clustering coefficient: \",avg_cc)"
   ]
  },
  {
   "cell_type": "markdown",
   "metadata": {},
   "source": [
    "### GNN 0"
   ]
  },
  {
   "cell_type": "code",
   "execution_count": 90,
   "metadata": {},
   "outputs": [],
   "source": [
    "# tune\n",
    "import torch\n",
    "import torch.nn.functional as F\n",
    "import torch_geometric.nn as pyg_nn\n",
    "from torch_geometric.data import Data\n",
    "import numpy as np\n",
    "import pandas as pd\n",
    "from sklearn.metrics import mean_absolute_error, mean_squared_error, r2_score\n",
    "\n",
    "class TemporalAuthorGNN(torch.nn.Module):\n",
    "    def __init__(self, num_features, hidden_channels):\n",
    "        super(TemporalAuthorGNN, self).__init__()\n",
    "        # Time-series graph convolutional layer\n",
    "        self.conv1 = pyg_nn.TAGConv(num_features, hidden_channels)\n",
    "        self.conv2 = pyg_nn.TAGConv(hidden_channels, 1)  # The output layer predicts the number of citation\n",
    "        \n",
    "    def forward(self, x, edge_index, edge_attr):\n",
    "        # First layer of graph convolution, using edge_attr to pass time information\n",
    "        x = self.conv1(x, edge_index, edge_attr)\n",
    "        x = F.relu(x)\n",
    "        \n",
    "        # Second layer of graph convolution, outputting the predicted number of references\n",
    "        x = self.conv2(x, edge_index, edge_attr)\n",
    "        return x\n",
    "\n",
    "def prepare_temporal_graph_data(train, valid):\n",
    "    def calculate_h_index(citations):\n",
    "     sorted_citations = sorted(citations, reverse=True)\n",
    "     h_index = 0\n",
    "     for i, cite_count in enumerate(sorted_citations, 1):\n",
    "        if cite_count >= i:\n",
    "            h_index = i\n",
    "        else:\n",
    "            break\n",
    "     return h_index\n",
    "    def extract_author_features(group):\n",
    "        sorted_years = group.sort_values('year')\n",
    "        citations = sorted_years['n_citation'].values\n",
    "    \n",
    "        # Citation increment: subsequent year minus previous year's citations\n",
    "        citation_increments = [citations[i] - citations[i - 1] for i in range(1, len(citations))]\n",
    "    \n",
    "        return {\n",
    "            'total_citation': group['n_citation'].sum(),\n",
    "            'paper_count': len(group),\n",
    "            'avg_citation': group['n_citation'].mean(),\n",
    "            'min_year': group['year'].min(),\n",
    "            'max_year': group['year'].max(),\n",
    "            'h_index': calculate_h_index(group['n_citation']), \n",
    "            'citation_variance': group['n_citation'].var(), \n",
    "            'recent_citation_ratio': group[group['year'] > group['year'].max() - 3]['n_citation'].sum()/ group['n_citation'].sum(),\n",
    "            'citation_increment': sum(citation_increments) / len(citation_increments) if citation_increments else 0\n",
    "        }\n",
    "    \n",
    "    author_features = train.groupby('author_id').apply(extract_author_features)\n",
    "    \n",
    "    node_features = []\n",
    "    node_ids = list(author_features.index)\n",
    "    \n",
    "    for node in node_ids:\n",
    "        features = [\n",
    "            author_features.loc[node]['total_citation'],\n",
    "            author_features.loc[node]['paper_count'],\n",
    "            author_features.loc[node]['avg_citation'],\n",
    "            author_features.loc[node]['max_year'] - author_features.loc[node]['min_year'] + 1\n",
    "        ]\n",
    "        node_features.append(features)\n",
    "    \n",
    "    x = torch.tensor(node_features, dtype=torch.float)\n",
    "    \n",
    "    edges = []\n",
    "    edge_attrs = []\n",
    "    \n",
    "    for paper_id, group in train.groupby('id'):\n",
    "        authors = group['author_id'].tolist()\n",
    "        year = group['year'].iloc[0]\n",
    "        \n",
    "        for i in range(len(authors)):\n",
    "            for j in range(i + 1, len(authors)):\n",
    "                author1 = authors[i]\n",
    "                author2 = authors[j]\n",
    "                \n",
    "                edge = [node_ids.index(author1), node_ids.index(author2)]\n",
    "                edges.append(edge)\n",
    "                edges.append(edge[::-1])  # Add Reverse Edge\n",
    "                \n",
    "                # Side attributes use the year the paper was published\n",
    "                edge_attrs.append([year])\n",
    "                edge_attrs.append([year])\n",
    "    \n",
    "    # Converting Edges and Edge Properties\n",
    "    edge_index = torch.tensor(edges, dtype=torch.long).t().contiguous()\n",
    "    edge_attr = torch.tensor(edge_attrs, dtype=torch.float)\n",
    "    \n",
    "    return x, edge_index, edge_attr, node_ids\n",
    "    \n"
   ]
  },
  {
   "cell_type": "code",
   "execution_count": 91,
   "metadata": {},
   "outputs": [],
   "source": [
    "# tune\n",
    "class TemporalAuthorGNN(torch.nn.Module):\n",
    "    def __init__(self, num_features, hidden_channels):\n",
    "        super(TemporalAuthorGNN, self).__init__()\n",
    "        # Add more layers and dropout\n",
    "        self.conv1 = pyg_nn.TAGConv(num_features, hidden_channels)\n",
    "        self.conv2 = pyg_nn.TAGConv(hidden_channels, hidden_channels//2)\n",
    "        self.conv3 = pyg_nn.TAGConv(hidden_channels//2, 1)\n",
    "        \n",
    "        # Add batch normalization and dropout\n",
    "        self.bn1 = torch.nn.BatchNorm1d(hidden_channels)\n",
    "        self.bn2 = torch.nn.BatchNorm1d(hidden_channels//2)\n",
    "        self.dropout = torch.nn.Dropout(0.3)\n",
    "\n",
    "    def forward(self, x, edge_index, edge_attr):\n",
    "        x = self.conv1(x, edge_index, edge_attr)\n",
    "        x = self.bn1(x)\n",
    "        x = F.relu(x)\n",
    "        x = self.dropout(x)\n",
    "\n",
    "        x = self.conv2(x, edge_index, edge_attr)\n",
    "        x = self.bn2(x)\n",
    "        x = F.relu(x)\n",
    "        x = self.dropout(x)\n",
    "\n",
    "        x = self.conv3(x, edge_index, edge_attr)\n",
    "        return x"
   ]
  },
  {
   "cell_type": "code",
   "execution_count": 92,
   "metadata": {},
   "outputs": [],
   "source": [
    "# tune\n",
    "def train_and_evaluate_temporal_gnn(train, valid):\n",
    "    # Learning Rate Scheduler\n",
    "    lr_scheduler = torch.optim.lr_scheduler.ReduceLROnPlateau(\n",
    "        optimizer, \n",
    "        mode='min', \n",
    "        factor=0.5, \n",
    "        patience=10, \n",
    "        min_lr=1e-4\n",
    "    )\n",
    "    # early stopping\n",
    "    early_stopping_patience = 20\n",
    "    no_improvement_epochs = 0\n",
    "\n",
    "    for epoch in range(100):\n",
    "        # training\n",
    "        if mae >= best_mae:\n",
    "            no_improvement_epochs += 1\n",
    "            if no_improvement_epochs > early_stopping_patience:\n",
    "                print(\"Early stopping triggered\")\n",
    "                break\n",
    "        else:\n",
    "            no_improvement_epochs = 0\n",
    "\n",
    "        lr_scheduler.step(mae)"
   ]
  },
  {
   "cell_type": "code",
   "execution_count": 93,
   "metadata": {},
   "outputs": [],
   "source": [
    "# tune\n",
    "def cross_validation(train_data):\n",
    "    # K-Fold Cross Validation\n",
    "    kf = KFold(n_splits=5, shuffle=True)\n",
    "    \n",
    "    all_metrics = []\n",
    "    for train_index, val_index in kf.split(train_data):\n",
    "        train_fold = train_data.iloc[train_index]\n",
    "        val_fold = train_data.iloc[val_index]\n",
    "        \n",
    "        model, predictions, metrics = train_and_evaluate_temporal_gnn(train_fold, val_fold)\n",
    "        all_metrics.append(metrics)\n",
    "\n",
    "    # Average Metrics\n",
    "    avg_metrics = {\n",
    "        'mse': np.mean([m['mse'] for m in all_metrics]),\n",
    "        'mae': np.mean([m['mae'] for m in all_metrics]),\n",
    "        'r2': np.mean([m['r2'] for m in all_metrics])\n",
    "    }"
   ]
  },
  {
   "cell_type": "code",
   "execution_count": 122,
   "metadata": {},
   "outputs": [
    {
     "name": "stderr",
     "output_type": "stream",
     "text": [
      "/var/folders/p5/grng0bpx24988f1v2318bx6w0000gn/T/ipykernel_33374/152240381.py:53: RuntimeWarning: invalid value encountered in scalar divide\n",
      "  'recent_citation_ratio': group[group['year'] > group['year'].max() - 3]['n_citation'].sum()/ group['n_citation'].sum(),\n",
      "/var/folders/p5/grng0bpx24988f1v2318bx6w0000gn/T/ipykernel_33374/152240381.py:58: DeprecationWarning: DataFrameGroupBy.apply operated on the grouping columns. This behavior is deprecated, and in a future version of pandas the grouping columns will be excluded from the operation. Either pass `include_groups=False` to exclude the groupings or explicitly select the grouping columns after groupby to silence this warning.\n",
      "  author_features = train.groupby('author_id').apply(extract_author_features)\n",
      "/Users/yidanchang/Desktop/FALL2024/SI608/.venv/lib/python3.12/site-packages/torch/nn/modules/loss.py:608: UserWarning: Using a target size (torch.Size([29694])) that is different to the input size (torch.Size([29694, 1])). This will likely lead to incorrect results due to broadcasting. Please ensure they have the same size.\n",
      "  return F.mse_loss(input, target, reduction=self.reduction)\n"
     ]
    },
    {
     "name": "stdout",
     "output_type": "stream",
     "text": [
      "Epoch 0:\n",
      "MSE Loss: 445.3655\n",
      "MAE: 4.2005\n",
      "R2 Score: -0.0317\n",
      "------------------------------\n"
     ]
    },
    {
     "name": "stderr",
     "output_type": "stream",
     "text": [
      "/Users/yidanchang/Desktop/FALL2024/SI608/.venv/lib/python3.12/site-packages/torch/nn/modules/loss.py:608: UserWarning: Using a target size (torch.Size([29694])) that is different to the input size (torch.Size([29694, 1])). This will likely lead to incorrect results due to broadcasting. Please ensure they have the same size.\n",
      "  return F.mse_loss(input, target, reduction=self.reduction)\n",
      "/Users/yidanchang/Desktop/FALL2024/SI608/.venv/lib/python3.12/site-packages/torch/nn/modules/loss.py:608: UserWarning: Using a target size (torch.Size([29694])) that is different to the input size (torch.Size([29694, 1])). This will likely lead to incorrect results due to broadcasting. Please ensure they have the same size.\n",
      "  return F.mse_loss(input, target, reduction=self.reduction)\n",
      "/Users/yidanchang/Desktop/FALL2024/SI608/.venv/lib/python3.12/site-packages/torch/nn/modules/loss.py:608: UserWarning: Using a target size (torch.Size([29694])) that is different to the input size (torch.Size([29694, 1])). This will likely lead to incorrect results due to broadcasting. Please ensure they have the same size.\n",
      "  return F.mse_loss(input, target, reduction=self.reduction)\n",
      "/Users/yidanchang/Desktop/FALL2024/SI608/.venv/lib/python3.12/site-packages/torch/nn/modules/loss.py:608: UserWarning: Using a target size (torch.Size([29694])) that is different to the input size (torch.Size([29694, 1])). This will likely lead to incorrect results due to broadcasting. Please ensure they have the same size.\n",
      "  return F.mse_loss(input, target, reduction=self.reduction)\n",
      "/Users/yidanchang/Desktop/FALL2024/SI608/.venv/lib/python3.12/site-packages/torch/nn/modules/loss.py:608: UserWarning: Using a target size (torch.Size([29694])) that is different to the input size (torch.Size([29694, 1])). This will likely lead to incorrect results due to broadcasting. Please ensure they have the same size.\n",
      "  return F.mse_loss(input, target, reduction=self.reduction)\n",
      "/Users/yidanchang/Desktop/FALL2024/SI608/.venv/lib/python3.12/site-packages/torch/nn/modules/loss.py:608: UserWarning: Using a target size (torch.Size([29694])) that is different to the input size (torch.Size([29694, 1])). This will likely lead to incorrect results due to broadcasting. Please ensure they have the same size.\n",
      "  return F.mse_loss(input, target, reduction=self.reduction)\n",
      "/Users/yidanchang/Desktop/FALL2024/SI608/.venv/lib/python3.12/site-packages/torch/nn/modules/loss.py:608: UserWarning: Using a target size (torch.Size([29694])) that is different to the input size (torch.Size([29694, 1])). This will likely lead to incorrect results due to broadcasting. Please ensure they have the same size.\n",
      "  return F.mse_loss(input, target, reduction=self.reduction)\n",
      "/Users/yidanchang/Desktop/FALL2024/SI608/.venv/lib/python3.12/site-packages/torch/nn/modules/loss.py:608: UserWarning: Using a target size (torch.Size([29694])) that is different to the input size (torch.Size([29694, 1])). This will likely lead to incorrect results due to broadcasting. Please ensure they have the same size.\n",
      "  return F.mse_loss(input, target, reduction=self.reduction)\n",
      "/Users/yidanchang/Desktop/FALL2024/SI608/.venv/lib/python3.12/site-packages/torch/nn/modules/loss.py:608: UserWarning: Using a target size (torch.Size([29694])) that is different to the input size (torch.Size([29694, 1])). This will likely lead to incorrect results due to broadcasting. Please ensure they have the same size.\n",
      "  return F.mse_loss(input, target, reduction=self.reduction)\n",
      "/Users/yidanchang/Desktop/FALL2024/SI608/.venv/lib/python3.12/site-packages/torch/nn/modules/loss.py:608: UserWarning: Using a target size (torch.Size([29694])) that is different to the input size (torch.Size([29694, 1])). This will likely lead to incorrect results due to broadcasting. Please ensure they have the same size.\n",
      "  return F.mse_loss(input, target, reduction=self.reduction)\n"
     ]
    },
    {
     "name": "stdout",
     "output_type": "stream",
     "text": [
      "Epoch 10:\n",
      "MSE Loss: 436.3144\n",
      "MAE: 4.6753\n",
      "R2 Score: -0.0154\n",
      "------------------------------\n"
     ]
    },
    {
     "name": "stderr",
     "output_type": "stream",
     "text": [
      "/Users/yidanchang/Desktop/FALL2024/SI608/.venv/lib/python3.12/site-packages/torch/nn/modules/loss.py:608: UserWarning: Using a target size (torch.Size([29694])) that is different to the input size (torch.Size([29694, 1])). This will likely lead to incorrect results due to broadcasting. Please ensure they have the same size.\n",
      "  return F.mse_loss(input, target, reduction=self.reduction)\n",
      "/Users/yidanchang/Desktop/FALL2024/SI608/.venv/lib/python3.12/site-packages/torch/nn/modules/loss.py:608: UserWarning: Using a target size (torch.Size([29694])) that is different to the input size (torch.Size([29694, 1])). This will likely lead to incorrect results due to broadcasting. Please ensure they have the same size.\n",
      "  return F.mse_loss(input, target, reduction=self.reduction)\n",
      "/Users/yidanchang/Desktop/FALL2024/SI608/.venv/lib/python3.12/site-packages/torch/nn/modules/loss.py:608: UserWarning: Using a target size (torch.Size([29694])) that is different to the input size (torch.Size([29694, 1])). This will likely lead to incorrect results due to broadcasting. Please ensure they have the same size.\n",
      "  return F.mse_loss(input, target, reduction=self.reduction)\n",
      "/Users/yidanchang/Desktop/FALL2024/SI608/.venv/lib/python3.12/site-packages/torch/nn/modules/loss.py:608: UserWarning: Using a target size (torch.Size([29694])) that is different to the input size (torch.Size([29694, 1])). This will likely lead to incorrect results due to broadcasting. Please ensure they have the same size.\n",
      "  return F.mse_loss(input, target, reduction=self.reduction)\n",
      "/Users/yidanchang/Desktop/FALL2024/SI608/.venv/lib/python3.12/site-packages/torch/nn/modules/loss.py:608: UserWarning: Using a target size (torch.Size([29694])) that is different to the input size (torch.Size([29694, 1])). This will likely lead to incorrect results due to broadcasting. Please ensure they have the same size.\n",
      "  return F.mse_loss(input, target, reduction=self.reduction)\n",
      "/Users/yidanchang/Desktop/FALL2024/SI608/.venv/lib/python3.12/site-packages/torch/nn/modules/loss.py:608: UserWarning: Using a target size (torch.Size([29694])) that is different to the input size (torch.Size([29694, 1])). This will likely lead to incorrect results due to broadcasting. Please ensure they have the same size.\n",
      "  return F.mse_loss(input, target, reduction=self.reduction)\n",
      "/Users/yidanchang/Desktop/FALL2024/SI608/.venv/lib/python3.12/site-packages/torch/nn/modules/loss.py:608: UserWarning: Using a target size (torch.Size([29694])) that is different to the input size (torch.Size([29694, 1])). This will likely lead to incorrect results due to broadcasting. Please ensure they have the same size.\n",
      "  return F.mse_loss(input, target, reduction=self.reduction)\n",
      "/Users/yidanchang/Desktop/FALL2024/SI608/.venv/lib/python3.12/site-packages/torch/nn/modules/loss.py:608: UserWarning: Using a target size (torch.Size([29694])) that is different to the input size (torch.Size([29694, 1])). This will likely lead to incorrect results due to broadcasting. Please ensure they have the same size.\n",
      "  return F.mse_loss(input, target, reduction=self.reduction)\n",
      "/Users/yidanchang/Desktop/FALL2024/SI608/.venv/lib/python3.12/site-packages/torch/nn/modules/loss.py:608: UserWarning: Using a target size (torch.Size([29694])) that is different to the input size (torch.Size([29694, 1])). This will likely lead to incorrect results due to broadcasting. Please ensure they have the same size.\n",
      "  return F.mse_loss(input, target, reduction=self.reduction)\n",
      "/Users/yidanchang/Desktop/FALL2024/SI608/.venv/lib/python3.12/site-packages/torch/nn/modules/loss.py:608: UserWarning: Using a target size (torch.Size([29694])) that is different to the input size (torch.Size([29694, 1])). This will likely lead to incorrect results due to broadcasting. Please ensure they have the same size.\n",
      "  return F.mse_loss(input, target, reduction=self.reduction)\n"
     ]
    },
    {
     "name": "stdout",
     "output_type": "stream",
     "text": [
      "Epoch 20:\n",
      "MSE Loss: 433.3614\n",
      "MAE: 5.2509\n",
      "R2 Score: -0.0177\n",
      "------------------------------\n"
     ]
    },
    {
     "name": "stderr",
     "output_type": "stream",
     "text": [
      "/Users/yidanchang/Desktop/FALL2024/SI608/.venv/lib/python3.12/site-packages/torch/nn/modules/loss.py:608: UserWarning: Using a target size (torch.Size([29694])) that is different to the input size (torch.Size([29694, 1])). This will likely lead to incorrect results due to broadcasting. Please ensure they have the same size.\n",
      "  return F.mse_loss(input, target, reduction=self.reduction)\n",
      "/Users/yidanchang/Desktop/FALL2024/SI608/.venv/lib/python3.12/site-packages/torch/nn/modules/loss.py:608: UserWarning: Using a target size (torch.Size([29694])) that is different to the input size (torch.Size([29694, 1])). This will likely lead to incorrect results due to broadcasting. Please ensure they have the same size.\n",
      "  return F.mse_loss(input, target, reduction=self.reduction)\n",
      "/Users/yidanchang/Desktop/FALL2024/SI608/.venv/lib/python3.12/site-packages/torch/nn/modules/loss.py:608: UserWarning: Using a target size (torch.Size([29694])) that is different to the input size (torch.Size([29694, 1])). This will likely lead to incorrect results due to broadcasting. Please ensure they have the same size.\n",
      "  return F.mse_loss(input, target, reduction=self.reduction)\n",
      "/Users/yidanchang/Desktop/FALL2024/SI608/.venv/lib/python3.12/site-packages/torch/nn/modules/loss.py:608: UserWarning: Using a target size (torch.Size([29694])) that is different to the input size (torch.Size([29694, 1])). This will likely lead to incorrect results due to broadcasting. Please ensure they have the same size.\n",
      "  return F.mse_loss(input, target, reduction=self.reduction)\n",
      "/Users/yidanchang/Desktop/FALL2024/SI608/.venv/lib/python3.12/site-packages/torch/nn/modules/loss.py:608: UserWarning: Using a target size (torch.Size([29694])) that is different to the input size (torch.Size([29694, 1])). This will likely lead to incorrect results due to broadcasting. Please ensure they have the same size.\n",
      "  return F.mse_loss(input, target, reduction=self.reduction)\n",
      "/Users/yidanchang/Desktop/FALL2024/SI608/.venv/lib/python3.12/site-packages/torch/nn/modules/loss.py:608: UserWarning: Using a target size (torch.Size([29694])) that is different to the input size (torch.Size([29694, 1])). This will likely lead to incorrect results due to broadcasting. Please ensure they have the same size.\n",
      "  return F.mse_loss(input, target, reduction=self.reduction)\n",
      "/Users/yidanchang/Desktop/FALL2024/SI608/.venv/lib/python3.12/site-packages/torch/nn/modules/loss.py:608: UserWarning: Using a target size (torch.Size([29694])) that is different to the input size (torch.Size([29694, 1])). This will likely lead to incorrect results due to broadcasting. Please ensure they have the same size.\n",
      "  return F.mse_loss(input, target, reduction=self.reduction)\n",
      "/Users/yidanchang/Desktop/FALL2024/SI608/.venv/lib/python3.12/site-packages/torch/nn/modules/loss.py:608: UserWarning: Using a target size (torch.Size([29694])) that is different to the input size (torch.Size([29694, 1])). This will likely lead to incorrect results due to broadcasting. Please ensure they have the same size.\n",
      "  return F.mse_loss(input, target, reduction=self.reduction)\n",
      "/Users/yidanchang/Desktop/FALL2024/SI608/.venv/lib/python3.12/site-packages/torch/nn/modules/loss.py:608: UserWarning: Using a target size (torch.Size([29694])) that is different to the input size (torch.Size([29694, 1])). This will likely lead to incorrect results due to broadcasting. Please ensure they have the same size.\n",
      "  return F.mse_loss(input, target, reduction=self.reduction)\n",
      "/Users/yidanchang/Desktop/FALL2024/SI608/.venv/lib/python3.12/site-packages/torch/nn/modules/loss.py:608: UserWarning: Using a target size (torch.Size([29694])) that is different to the input size (torch.Size([29694, 1])). This will likely lead to incorrect results due to broadcasting. Please ensure they have the same size.\n",
      "  return F.mse_loss(input, target, reduction=self.reduction)\n"
     ]
    },
    {
     "name": "stdout",
     "output_type": "stream",
     "text": [
      "Epoch 30:\n",
      "MSE Loss: 431.8066\n",
      "MAE: 5.6734\n",
      "R2 Score: -0.0088\n",
      "------------------------------\n"
     ]
    },
    {
     "name": "stderr",
     "output_type": "stream",
     "text": [
      "/Users/yidanchang/Desktop/FALL2024/SI608/.venv/lib/python3.12/site-packages/torch/nn/modules/loss.py:608: UserWarning: Using a target size (torch.Size([29694])) that is different to the input size (torch.Size([29694, 1])). This will likely lead to incorrect results due to broadcasting. Please ensure they have the same size.\n",
      "  return F.mse_loss(input, target, reduction=self.reduction)\n",
      "/Users/yidanchang/Desktop/FALL2024/SI608/.venv/lib/python3.12/site-packages/torch/nn/modules/loss.py:608: UserWarning: Using a target size (torch.Size([29694])) that is different to the input size (torch.Size([29694, 1])). This will likely lead to incorrect results due to broadcasting. Please ensure they have the same size.\n",
      "  return F.mse_loss(input, target, reduction=self.reduction)\n",
      "/Users/yidanchang/Desktop/FALL2024/SI608/.venv/lib/python3.12/site-packages/torch/nn/modules/loss.py:608: UserWarning: Using a target size (torch.Size([29694])) that is different to the input size (torch.Size([29694, 1])). This will likely lead to incorrect results due to broadcasting. Please ensure they have the same size.\n",
      "  return F.mse_loss(input, target, reduction=self.reduction)\n",
      "/Users/yidanchang/Desktop/FALL2024/SI608/.venv/lib/python3.12/site-packages/torch/nn/modules/loss.py:608: UserWarning: Using a target size (torch.Size([29694])) that is different to the input size (torch.Size([29694, 1])). This will likely lead to incorrect results due to broadcasting. Please ensure they have the same size.\n",
      "  return F.mse_loss(input, target, reduction=self.reduction)\n",
      "/Users/yidanchang/Desktop/FALL2024/SI608/.venv/lib/python3.12/site-packages/torch/nn/modules/loss.py:608: UserWarning: Using a target size (torch.Size([29694])) that is different to the input size (torch.Size([29694, 1])). This will likely lead to incorrect results due to broadcasting. Please ensure they have the same size.\n",
      "  return F.mse_loss(input, target, reduction=self.reduction)\n",
      "/Users/yidanchang/Desktop/FALL2024/SI608/.venv/lib/python3.12/site-packages/torch/nn/modules/loss.py:608: UserWarning: Using a target size (torch.Size([29694])) that is different to the input size (torch.Size([29694, 1])). This will likely lead to incorrect results due to broadcasting. Please ensure they have the same size.\n",
      "  return F.mse_loss(input, target, reduction=self.reduction)\n",
      "/Users/yidanchang/Desktop/FALL2024/SI608/.venv/lib/python3.12/site-packages/torch/nn/modules/loss.py:608: UserWarning: Using a target size (torch.Size([29694])) that is different to the input size (torch.Size([29694, 1])). This will likely lead to incorrect results due to broadcasting. Please ensure they have the same size.\n",
      "  return F.mse_loss(input, target, reduction=self.reduction)\n",
      "/Users/yidanchang/Desktop/FALL2024/SI608/.venv/lib/python3.12/site-packages/torch/nn/modules/loss.py:608: UserWarning: Using a target size (torch.Size([29694])) that is different to the input size (torch.Size([29694, 1])). This will likely lead to incorrect results due to broadcasting. Please ensure they have the same size.\n",
      "  return F.mse_loss(input, target, reduction=self.reduction)\n",
      "/Users/yidanchang/Desktop/FALL2024/SI608/.venv/lib/python3.12/site-packages/torch/nn/modules/loss.py:608: UserWarning: Using a target size (torch.Size([29694])) that is different to the input size (torch.Size([29694, 1])). This will likely lead to incorrect results due to broadcasting. Please ensure they have the same size.\n",
      "  return F.mse_loss(input, target, reduction=self.reduction)\n",
      "/Users/yidanchang/Desktop/FALL2024/SI608/.venv/lib/python3.12/site-packages/torch/nn/modules/loss.py:608: UserWarning: Using a target size (torch.Size([29694])) that is different to the input size (torch.Size([29694, 1])). This will likely lead to incorrect results due to broadcasting. Please ensure they have the same size.\n",
      "  return F.mse_loss(input, target, reduction=self.reduction)\n"
     ]
    },
    {
     "name": "stdout",
     "output_type": "stream",
     "text": [
      "Epoch 40:\n",
      "MSE Loss: 430.8446\n",
      "MAE: 5.6505\n",
      "R2 Score: 0.0012\n",
      "------------------------------\n"
     ]
    },
    {
     "name": "stderr",
     "output_type": "stream",
     "text": [
      "/Users/yidanchang/Desktop/FALL2024/SI608/.venv/lib/python3.12/site-packages/torch/nn/modules/loss.py:608: UserWarning: Using a target size (torch.Size([29694])) that is different to the input size (torch.Size([29694, 1])). This will likely lead to incorrect results due to broadcasting. Please ensure they have the same size.\n",
      "  return F.mse_loss(input, target, reduction=self.reduction)\n",
      "/Users/yidanchang/Desktop/FALL2024/SI608/.venv/lib/python3.12/site-packages/torch/nn/modules/loss.py:608: UserWarning: Using a target size (torch.Size([29694])) that is different to the input size (torch.Size([29694, 1])). This will likely lead to incorrect results due to broadcasting. Please ensure they have the same size.\n",
      "  return F.mse_loss(input, target, reduction=self.reduction)\n",
      "/Users/yidanchang/Desktop/FALL2024/SI608/.venv/lib/python3.12/site-packages/torch/nn/modules/loss.py:608: UserWarning: Using a target size (torch.Size([29694])) that is different to the input size (torch.Size([29694, 1])). This will likely lead to incorrect results due to broadcasting. Please ensure they have the same size.\n",
      "  return F.mse_loss(input, target, reduction=self.reduction)\n",
      "/Users/yidanchang/Desktop/FALL2024/SI608/.venv/lib/python3.12/site-packages/torch/nn/modules/loss.py:608: UserWarning: Using a target size (torch.Size([29694])) that is different to the input size (torch.Size([29694, 1])). This will likely lead to incorrect results due to broadcasting. Please ensure they have the same size.\n",
      "  return F.mse_loss(input, target, reduction=self.reduction)\n",
      "/Users/yidanchang/Desktop/FALL2024/SI608/.venv/lib/python3.12/site-packages/torch/nn/modules/loss.py:608: UserWarning: Using a target size (torch.Size([29694])) that is different to the input size (torch.Size([29694, 1])). This will likely lead to incorrect results due to broadcasting. Please ensure they have the same size.\n",
      "  return F.mse_loss(input, target, reduction=self.reduction)\n",
      "/Users/yidanchang/Desktop/FALL2024/SI608/.venv/lib/python3.12/site-packages/torch/nn/modules/loss.py:608: UserWarning: Using a target size (torch.Size([29694])) that is different to the input size (torch.Size([29694, 1])). This will likely lead to incorrect results due to broadcasting. Please ensure they have the same size.\n",
      "  return F.mse_loss(input, target, reduction=self.reduction)\n",
      "/Users/yidanchang/Desktop/FALL2024/SI608/.venv/lib/python3.12/site-packages/torch/nn/modules/loss.py:608: UserWarning: Using a target size (torch.Size([29694])) that is different to the input size (torch.Size([29694, 1])). This will likely lead to incorrect results due to broadcasting. Please ensure they have the same size.\n",
      "  return F.mse_loss(input, target, reduction=self.reduction)\n",
      "/Users/yidanchang/Desktop/FALL2024/SI608/.venv/lib/python3.12/site-packages/torch/nn/modules/loss.py:608: UserWarning: Using a target size (torch.Size([29694])) that is different to the input size (torch.Size([29694, 1])). This will likely lead to incorrect results due to broadcasting. Please ensure they have the same size.\n",
      "  return F.mse_loss(input, target, reduction=self.reduction)\n",
      "/Users/yidanchang/Desktop/FALL2024/SI608/.venv/lib/python3.12/site-packages/torch/nn/modules/loss.py:608: UserWarning: Using a target size (torch.Size([29694])) that is different to the input size (torch.Size([29694, 1])). This will likely lead to incorrect results due to broadcasting. Please ensure they have the same size.\n",
      "  return F.mse_loss(input, target, reduction=self.reduction)\n",
      "/Users/yidanchang/Desktop/FALL2024/SI608/.venv/lib/python3.12/site-packages/torch/nn/modules/loss.py:608: UserWarning: Using a target size (torch.Size([29694])) that is different to the input size (torch.Size([29694, 1])). This will likely lead to incorrect results due to broadcasting. Please ensure they have the same size.\n",
      "  return F.mse_loss(input, target, reduction=self.reduction)\n"
     ]
    },
    {
     "name": "stdout",
     "output_type": "stream",
     "text": [
      "Epoch 50:\n",
      "MSE Loss: 430.6040\n",
      "MAE: 5.6913\n",
      "R2 Score: 0.0001\n",
      "------------------------------\n"
     ]
    },
    {
     "name": "stderr",
     "output_type": "stream",
     "text": [
      "/Users/yidanchang/Desktop/FALL2024/SI608/.venv/lib/python3.12/site-packages/torch/nn/modules/loss.py:608: UserWarning: Using a target size (torch.Size([29694])) that is different to the input size (torch.Size([29694, 1])). This will likely lead to incorrect results due to broadcasting. Please ensure they have the same size.\n",
      "  return F.mse_loss(input, target, reduction=self.reduction)\n",
      "/Users/yidanchang/Desktop/FALL2024/SI608/.venv/lib/python3.12/site-packages/torch/nn/modules/loss.py:608: UserWarning: Using a target size (torch.Size([29694])) that is different to the input size (torch.Size([29694, 1])). This will likely lead to incorrect results due to broadcasting. Please ensure they have the same size.\n",
      "  return F.mse_loss(input, target, reduction=self.reduction)\n",
      "/Users/yidanchang/Desktop/FALL2024/SI608/.venv/lib/python3.12/site-packages/torch/nn/modules/loss.py:608: UserWarning: Using a target size (torch.Size([29694])) that is different to the input size (torch.Size([29694, 1])). This will likely lead to incorrect results due to broadcasting. Please ensure they have the same size.\n",
      "  return F.mse_loss(input, target, reduction=self.reduction)\n",
      "/Users/yidanchang/Desktop/FALL2024/SI608/.venv/lib/python3.12/site-packages/torch/nn/modules/loss.py:608: UserWarning: Using a target size (torch.Size([29694])) that is different to the input size (torch.Size([29694, 1])). This will likely lead to incorrect results due to broadcasting. Please ensure they have the same size.\n",
      "  return F.mse_loss(input, target, reduction=self.reduction)\n",
      "/Users/yidanchang/Desktop/FALL2024/SI608/.venv/lib/python3.12/site-packages/torch/nn/modules/loss.py:608: UserWarning: Using a target size (torch.Size([29694])) that is different to the input size (torch.Size([29694, 1])). This will likely lead to incorrect results due to broadcasting. Please ensure they have the same size.\n",
      "  return F.mse_loss(input, target, reduction=self.reduction)\n",
      "/Users/yidanchang/Desktop/FALL2024/SI608/.venv/lib/python3.12/site-packages/torch/nn/modules/loss.py:608: UserWarning: Using a target size (torch.Size([29694])) that is different to the input size (torch.Size([29694, 1])). This will likely lead to incorrect results due to broadcasting. Please ensure they have the same size.\n",
      "  return F.mse_loss(input, target, reduction=self.reduction)\n",
      "/Users/yidanchang/Desktop/FALL2024/SI608/.venv/lib/python3.12/site-packages/torch/nn/modules/loss.py:608: UserWarning: Using a target size (torch.Size([29694])) that is different to the input size (torch.Size([29694, 1])). This will likely lead to incorrect results due to broadcasting. Please ensure they have the same size.\n",
      "  return F.mse_loss(input, target, reduction=self.reduction)\n",
      "/Users/yidanchang/Desktop/FALL2024/SI608/.venv/lib/python3.12/site-packages/torch/nn/modules/loss.py:608: UserWarning: Using a target size (torch.Size([29694])) that is different to the input size (torch.Size([29694, 1])). This will likely lead to incorrect results due to broadcasting. Please ensure they have the same size.\n",
      "  return F.mse_loss(input, target, reduction=self.reduction)\n",
      "/Users/yidanchang/Desktop/FALL2024/SI608/.venv/lib/python3.12/site-packages/torch/nn/modules/loss.py:608: UserWarning: Using a target size (torch.Size([29694])) that is different to the input size (torch.Size([29694, 1])). This will likely lead to incorrect results due to broadcasting. Please ensure they have the same size.\n",
      "  return F.mse_loss(input, target, reduction=self.reduction)\n"
     ]
    },
    {
     "name": "stdout",
     "output_type": "stream",
     "text": [
      "\n",
      "最终模型性能:\n",
      "MSE: 429.3036\n",
      "MAE: 5.8410\n",
      "R2 Score: 0.0025\n"
     ]
    },
    {
     "data": {
      "image/png": "[encoded data removed]",
      "text/plain": [
       "<Figure size 640x480 with 1 Axes>"
      ]
     },
     "metadata": {},
     "output_type": "display_data"
    }
   ],
   "source": [
    "\n",
    "def train_and_evaluate_temporal_gnn(train, valid):\n",
    "    # prepare data\n",
    "    x, edge_index, edge_attr, node_ids = prepare_temporal_graph_data(train, valid)\n",
    "    \n",
    "    # define model\n",
    "    num_features = x.shape[1]\n",
    "    hidden_channels = 64\n",
    "    \n",
    "    # Initialization Model\n",
    "    model = TemporalAuthorGNN(num_features, hidden_channels)\n",
    "    \n",
    "    # Loss Functions and Optimizers\n",
    "    optimizer = torch.optim.Adam(model.parameters(), lr=0.01)\n",
    "    mse_criterion = torch.nn.MSELoss()\n",
    "    \n",
    "    # Prepare validation set target values\n",
    "    valid_author_ids = valid['author_id'].unique()\n",
    "    valid_targets = []\n",
    "    valid_indices = []\n",
    "    \n",
    "    for author_id in valid_author_ids:\n",
    "        author_index = node_ids.index(author_id)\n",
    "        valid_target = valid[valid['author_id'] == author_id]['n_citation'].values[0]\n",
    "        \n",
    "        valid_targets.append(valid_target)\n",
    "        valid_indices.append(author_index)\n",
    "    \n",
    "    valid_targets = torch.tensor(valid_targets, dtype=torch.float)\n",
    "    \n",
    "    # training cycle\n",
    "    model.train()\n",
    "    best_mae = float('inf')\n",
    "    best_model = None\n",
    "    \n",
    "    for epoch in range(60):\n",
    "        optimizer.zero_grad()\n",
    "        \n",
    "        # Forward Pass\n",
    "        predictions = model(x, edge_index, edge_attr)\n",
    "        \n",
    "        # Calculate Loss\n",
    "        loss = mse_criterion(predictions[valid_indices], valid_targets)\n",
    "        \n",
    "        # Backward Pass\n",
    "        loss.backward()\n",
    "        optimizer.step()\n",
    "        \n",
    "        # Evaluation\n",
    "        with torch.no_grad():\n",
    "            model.eval()\n",
    "            pred_values = predictions[valid_indices].numpy()\n",
    "            true_values = valid_targets.numpy()\n",
    "            \n",
    "            # Calculate Metrics\n",
    "            mae = mean_absolute_error(true_values, pred_values)\n",
    "            r2 = r2_score(true_values, pred_values)\n",
    "            \n",
    "            # Save the best model\n",
    "            if mae < best_mae:\n",
    "                best_mae = mae\n",
    "                best_model = model.state_dict().copy()\n",
    "            \n",
    "            # Print Metrics\n",
    "            if epoch % 10 == 0:\n",
    "                print(f'Epoch {epoch}:')\n",
    "                print(f'MSE Loss: {loss.item():.4f}')\n",
    "                print(f'MAE: {mae:.4f}')\n",
    "                print(f'R2 Score: {r2:.4f}')\n",
    "                print('-' * 30)\n",
    "    \n",
    "    # Load the best model\n",
    "    model.load_state_dict(best_model)\n",
    "    \n",
    "    # Final Evaluation\n",
    "    model.eval()\n",
    "    with torch.no_grad():\n",
    "        final_predictions = model(x, edge_index, edge_attr)[valid_indices].numpy()\n",
    "        final_true_values = valid_targets.numpy()\n",
    "        \n",
    "        final_mse = mean_squared_error(final_true_values, final_predictions)\n",
    "        final_mae = mean_absolute_error(final_true_values, final_predictions)\n",
    "        final_r2 = r2_score(final_true_values, final_predictions)\n",
    "        \n",
    "        print(\"\\nfinal_model:\")\n",
    "        print(f\"MSE: {final_mse:.4f}\")\n",
    "        print(f\"MAE: {final_mae:.4f}\")\n",
    "        print(f\"R2 Score: {final_r2:.4f}\")\n",
    "    \n",
    "    plt.scatter(final_true_values, final_predictions)\n",
    "    plt.plot([final_true_values.min(), final_true_values.max()], \n",
    "            [final_true_values.min(), final_true_values.max()], \n",
    "            'r--', lw=2)\n",
    "    plt.xlabel(\"True Citation Increment\")\n",
    "    plt.ylabel(\"Predicted Citation Increment\")\n",
    "    plt.title(\"True vs Predicted Citation Increment\")\n",
    "\n",
    "    plt.show()\n",
    "    \n",
    "    return model, final_predictions, {\n",
    "        'mse': final_mse,\n",
    "        'mae': final_mae,\n",
    "        'r2': final_r2\n",
    "    }\n",
    "\n",
    "model, predictions, metrics = train_and_evaluate_temporal_gnn(train, valid)"
   ]
  },
  {
   "cell_type": "code",
   "execution_count": 80,
   "metadata": {},
   "outputs": [
    {
     "data": {
      "text/plain": [
       "(29694, 1)"
      ]
     },
     "execution_count": 80,
     "metadata": {},
     "output_type": "execute_result"
    }
   ],
   "source": [
    "predictions.shape"
   ]
  },
  {
   "cell_type": "code",
   "execution_count": 98,
   "metadata": {},
   "outputs": [
    {
     "name": "stdout",
     "output_type": "stream",
     "text": [
      "[[3.6793044]\n",
      " [4.027608 ]\n",
      " [4.2797637]\n",
      " ...\n",
      " [4.0865855]\n",
      " [3.7077227]\n",
      " [4.4538975]]\n"
     ]
    }
   ],
   "source": [
    "print(predictions)"
   ]
  },
  {
   "cell_type": "code",
   "execution_count": 102,
   "metadata": {},
   "outputs": [
    {
     "name": "stdout",
     "output_type": "stream",
     "text": [
      "20%阈值准确率: 0.0526\n",
      "10%阈值准确率: 0.0284\n"
     ]
    },
    {
     "data": {
      "image/png": "[encoded data removed]",
      "text/plain": [
       "<Figure size 1200x600 with 2 Axes>"
      ]
     },
     "metadata": {},
     "output_type": "display_data"
    },
    {
     "name": "stdout",
     "output_type": "stream",
     "text": [
      "Accuracy_10.0%: 0.0284\n",
      "Mean_Error_10.0%: 0.0424\n",
      "Count_10.0%: 844.0000\n",
      "Accuracy_20.0%: 0.0526\n",
      "Mean_Error_20.0%: 0.0946\n",
      "Count_20.0%: 1563.0000\n",
      "Accuracy_30.0%: 0.0723\n",
      "Mean_Error_30.0%: 0.1384\n",
      "Count_30.0%: 2146.0000\n",
      "Accuracy_50.0%: 0.1497\n",
      "Mean_Error_50.0%: 0.2718\n",
      "Count_50.0%: 4446.0000\n"
     ]
    }
   ],
   "source": [
    "predictions_1d = predictions.reshape(-1)\n",
    "\n",
    "predicted_citations_series = pd.Series(predictions_1d, index=valid.index)\n",
    "\n",
    "valid_with_predictions = valid.copy()\n",
    "valid_with_predictions['predicted_citations'] = predicted_citations_series\n",
    "\n",
    "valid_with_predictions['relative_error'] = np.abs(\n",
    "    valid_with_predictions['n_citation'] - valid_with_predictions['predicted_citations']\n",
    ") / valid_with_predictions['n_citation']\n",
    "\n",
    "def calculate_accuracy(df, threshold=0.2):\n",
    "    accurate_predictions = df[df['relative_error'] <= threshold]\n",
    "    accuracy = len(accurate_predictions) / len(df)\n",
    "    return accuracy\n",
    "\n",
    "accuracy_20percent = calculate_accuracy(valid_with_predictions, threshold=0.2)\n",
    "accuracy_10percent = calculate_accuracy(valid_with_predictions, threshold=0.1)\n",
    "\n",
    "print(f\"20% threshold accuracy: {accuracy_20percent:.4f}\")\n",
    "print(f\"10% threshold accuracy: {accuracy_10percent:.4f}\")\n",
    "\n",
    "import matplotlib.pyplot as plt\n",
    "import seaborn as sns\n",
    "\n",
    "plt.figure(figsize=(12, 6))\n",
    "\n",
    "plt.subplot(1, 2, 1)\n",
    "sns.histplot(valid_with_predictions['relative_error'], bins=30, kde=True)\n",
    "plt.title('Relative Error Distribution')\n",
    "plt.xlabel('Relative Error')\n",
    "plt.ylabel('Frequency')\n",
    "\n",
    "plt.subplot(1, 2, 2)\n",
    "plt.scatter(\n",
    "    valid_with_predictions['n_citation'], \n",
    "    valid_with_predictions['predicted_citations']\n",
    ")\n",
    "plt.plot(\n",
    "    [valid_with_predictions['n_citation'].min(), valid_with_predictions['n_citation'].max()],\n",
    "    [valid_with_predictions['n_citation'].min(), valid_with_predictions['n_citation'].max()],\n",
    "    'r--', \n",
    "    lw=2\n",
    ")\n",
    "plt.title('True vs Predicted Citations')\n",
    "plt.xlabel('True Citations')\n",
    "plt.ylabel('Predicted Citations')\n",
    "\n",
    "plt.tight_layout()\n",
    "plt.show()\n",
    "\n",
    "\n",
    "def detailed_accuracy_analysis(df, thresholds=[0.1, 0.2, 0.3, 0.5]):\n",
    "    accuracy_results = {}\n",
    "    for threshold in thresholds:\n",
    "        accuracy = calculate_accuracy(df, threshold)\n",
    "        accuracy_results[f'Accuracy_{threshold*100}%'] = accuracy\n",
    "        \n",
    "        accurate_predictions = df[df['relative_error'] <= threshold]\n",
    "        accuracy_results[f'Mean_Error_{threshold*100}%'] = accurate_predictions['relative_error'].mean()\n",
    "        accuracy_results[f'Count_{threshold*100}%'] = len(accurate_predictions)\n",
    "    \n",
    "    return accuracy_results\n",
    "\n",
    "detailed_results = detailed_accuracy_analysis(valid_with_predictions)\n",
    "for key, value in detailed_results.items():\n",
    "    print(f\"{key}: {value:.4f}\")"
   ]
  }
 ],
 "metadata": {
  "kernelspec": {
   "display_name": ".venv",
   "language": "python",
   "name": "python3"
  },
  "language_info": {
   "codemirror_mode": {
    "name": "ipython",
    "version": 3
   },
   "file_extension": ".py",
   "mimetype": "text/x-python",
   "name": "python",
   "nbconvert_exporter": "python",
   "pygments_lexer": "ipython3",
   "version": "3.12.3"
  }
 },
 "nbformat": 4,
 "nbformat_minor": 2
}
