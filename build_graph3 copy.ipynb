{
 "cells": [
  {
   "cell_type": "markdown",
   "metadata": {},
   "source": [
    "# SI 608 "
   ]
  },
  {
   "cell_type": "markdown",
   "metadata": {},
   "source": [
    "### Build graph"
   ]
  },
  {
   "cell_type": "code",
   "execution_count": 3,
   "metadata": {},
   "outputs": [
    {
     "name": "stderr",
     "output_type": "stream",
     "text": [
      "/Users/yidanchang/Desktop/FALL2024/SI608/.venv/lib/python3.12/site-packages/fuzzywuzzy/fuzz.py:11: UserWarning: Using slow pure-python SequenceMatcher. Install python-Levenshtein to remove this warning\n",
      "  warnings.warn('Using slow pure-python SequenceMatcher. Install python-Levenshtein to remove this warning')\n"
     ]
    }
   ],
   "source": [
    "import pandas as pd\n",
    "import numpy as np\n",
    "import matplotlib.pyplot as plt\n",
    "import networkx as nx\n",
    "from fuzzywuzzy import process"
   ]
  },
  {
   "cell_type": "code",
   "execution_count": 4,
   "metadata": {},
   "outputs": [],
   "source": [
    "df = pd.read_csv(\"dblp_graph_conference_v12_new_author.csv\")"
   ]
  },
  {
   "cell_type": "code",
   "execution_count": 8,
   "metadata": {},
   "outputs": [
    {
     "data": {
      "text/plain": [
       "index                    0\n",
       "author_id                0\n",
       "author_name              0\n",
       "author_org           88826\n",
       "id                       0\n",
       "title                    0\n",
       "year                     0\n",
       "n_citation               0\n",
       "doc_type                 0\n",
       "reference_count          0\n",
       "references          105536\n",
       "venue_id                 0\n",
       "venue_name               0\n",
       "venue_type               0\n",
       "doi                 157790\n",
       "keyword                  0\n",
       "volume              947805\n",
       "issue              1037011\n",
       "publisher                0\n",
       "dtype: int64"
      ]
     },
     "execution_count": 8,
     "metadata": {},
     "output_type": "execute_result"
    }
   ],
   "source": [
    "df.isnull().sum()"
   ]
  },
  {
   "cell_type": "code",
   "execution_count": null,
   "metadata": {},
   "outputs": [],
   "source": [
    "df[\"author_org\"] = df[\"author_org\"].fillna(\"unknown\")\n",
    "\n"
   ]
  },
  {
   "cell_type": "markdown",
   "metadata": {},
   "source": [
    "Missing doi's do not affect the data and are not filled\n",
    "\n",
    "Volume and issue are also not filled since there are too many vacancies"
   ]
  },
  {
   "cell_type": "markdown",
   "metadata": {},
   "source": [
    "#### Title df to Author df"
   ]
  },
  {
   "cell_type": "code",
   "execution_count": 12,
   "metadata": {},
   "outputs": [],
   "source": [
    "author_df=df"
   ]
  },
  {
   "cell_type": "markdown",
   "metadata": {},
   "source": [
    "#### Clean org"
   ]
  },
  {
   "cell_type": "code",
   "execution_count": 15,
   "metadata": {},
   "outputs": [
    {
     "data": {
      "text/plain": [
       "index                    0\n",
       "author_id                0\n",
       "author_name              0\n",
       "author_org               0\n",
       "id                       0\n",
       "title                    0\n",
       "year                     0\n",
       "n_citation               0\n",
       "doc_type                 0\n",
       "reference_count          0\n",
       "references          105536\n",
       "venue_id                 0\n",
       "venue_name               0\n",
       "venue_type               0\n",
       "doi                 157790\n",
       "keyword                  0\n",
       "volume              947805\n",
       "issue              1037011\n",
       "publisher                0\n",
       "dtype: int64"
      ]
     },
     "execution_count": 15,
     "metadata": {},
     "output_type": "execute_result"
    }
   ],
   "source": [
    "author_df.isnull().sum()"
   ]
  },
  {
   "cell_type": "code",
   "execution_count": 16,
   "metadata": {},
   "outputs": [],
   "source": [
    "def clean_org(org):\n",
    "    if \"email\" in org:\n",
    "        org = org.rsplit(\",\", 1)[0]\n",
    "    return org\n",
    "\n",
    "\n",
    "author_df.loc[author_df[\"author_org\"] == \"nan\", \"author_org\"] = \"unknown\"\n",
    "author_df[\"author_org\"] = author_df[\"author_org\"].apply(\n",
    "    lambda x: x.strip('\"').replace(\"#TAB#\", \"\").strip()\n",
    ")\n",
    "\n",
    "author_df[\"author_org\"] = author_df[\"author_org\"].apply(clean_org)"
   ]
  },
  {
   "cell_type": "code",
   "execution_count": 17,
   "metadata": {},
   "outputs": [
    {
     "name": "stdout",
     "output_type": "stream",
     "text": [
      "author_org\n",
      "unknown                                                                   153105\n",
      "Carnegie - Mellon University                                                3996\n",
      "Stanford, University                                                        2273\n",
      "Carnegie-Mellon Univ., Pittsburgh, PA, USA                                  1954\n",
      "Carnegie Mellon University, Pittsburgh Pa                                   1756\n",
      "                                                                           ...  \n",
      "IRIT-UPS, Toulouse Cedex, France                                               1\n",
      "THALES Communications France, Colombes, France                                 1\n",
      "LIRIS, Lyon 1 Univ., Lyon, France                                              1\n",
      "INRP, ENS Cachan, Cachan, France                                               1\n",
      "Archaeological Computing Research Group, University of Southampton, UK         1\n",
      "Name: count, Length: 243247, dtype: int64\n"
     ]
    }
   ],
   "source": [
    "print(author_df[\"author_org\"].value_counts())"
   ]
  },
  {
   "cell_type": "code",
   "execution_count": 18,
   "metadata": {},
   "outputs": [
    {
     "data": {
      "text/plain": [
       "np.int64(0)"
      ]
     },
     "execution_count": 18,
     "metadata": {},
     "output_type": "execute_result"
    }
   ],
   "source": [
    "author_df[\"author_org\"].isnull().sum()"
   ]
  },
  {
   "cell_type": "markdown",
   "metadata": {},
   "source": [
    "#### Other paper related attributes"
   ]
  },
  {
   "cell_type": "code",
   "execution_count": 24,
   "metadata": {},
   "outputs": [],
   "source": [
    "author=author_df\n",
    "author.rename(columns={\"author_org\":\"standard_org\"}, inplace=True)"
   ]
  },
  {
   "cell_type": "code",
   "execution_count": 25,
   "metadata": {},
   "outputs": [
    {
     "data": {
      "text/plain": [
       "publisher\n",
       "IEEE                                                                                               376014\n",
       "ACM                                                                                                164336\n",
       "Springer, Berlin, Heidelberg                                                                       157110\n",
       "unknown                                                                                            108753\n",
       "Springer, Cham                                                                                      63753\n",
       "                                                                                                    ...  \n",
       "IEEE EMBS Int Conf Biomed Health Inform                                                                 1\n",
       "The 26th International Conference on Software Engineering and Knowledge Engineering (SEKE 2014)         1\n",
       "The 29th Pacific Asia Conference on Language, Information and Computation                               1\n",
       "ACADEMIC PRESS LTD- ELSEVIER SCIENCE LTD                                                                1\n",
       "Massey University                                                                                       1\n",
       "Name: count, Length: 3835, dtype: int64"
      ]
     },
     "execution_count": 25,
     "metadata": {},
     "output_type": "execute_result"
    }
   ],
   "source": [
    "author[\"publisher\"].value_counts()"
   ]
  },
  {
   "cell_type": "code",
   "execution_count": 27,
   "metadata": {},
   "outputs": [
    {
     "data": {
      "text/plain": [
       "venue_name\n",
       "National Conference on Artificial Intelligence                                     15827\n",
       "Computer Vision and Pattern Recognition                                            15516\n",
       "International Conference on Acoustics, Speech, and Signal Processing               13433\n",
       "International Conference on Robotics and Automation                                12741\n",
       "International Conference on Image Processing                                       11525\n",
       "                                                                                   ...  \n",
       "International Symposium on Power Electronics for Distributed Generation Systems        1\n",
       "IEEE International Conference on Circuits and Systems for Communications               1\n",
       "European Conference on Radiation and Its Effects on Components and Systems             1\n",
       "Self-Sustaining Systems                                                                1\n",
       "International Conference on Software Technology and Engineering                        1\n",
       "Name: count, Length: 3013, dtype: int64"
      ]
     },
     "execution_count": 27,
     "metadata": {},
     "output_type": "execute_result"
    }
   ],
   "source": [
    "author['venue_name'].value_counts()"
   ]
  },
  {
   "cell_type": "code",
   "execution_count": 28,
   "metadata": {},
   "outputs": [],
   "source": [
    "citation_grouped= author.groupby(\"author_id\")['n_citation'].sum().reset_index(name=\"total_citation\")\n",
    "author=author.merge(citation_grouped, on=\"author_id\", how=\"left\")\n",
    "\n",
    "paper_grouped= author.groupby(\"author_id\")['index'].count().reset_index(name=\"total_paper\")\n",
    "author=author.merge(paper_grouped, on=\"author_id\", how=\"left\")\n",
    "\n",
    "reference_grouped= author.groupby(\"author_id\")['reference_count'].mean().reset_index(name=\"avg_reference\")\n",
    "author=author.merge(reference_grouped, on=\"author_id\", how=\"left\")\n",
    "\n"
   ]
  },
  {
   "cell_type": "code",
   "execution_count": 29,
   "metadata": {},
   "outputs": [],
   "source": [
    "def merge_keywords(keywords):\n",
    "    all_keywords = set()\n",
    "    for kw in keywords:\n",
    "        all_keywords.update(kw.split(';'))\n",
    "    return all_keywords\n",
    "\n",
    "\n",
    "author_keywords = author.groupby(\"author_id\")[\"keyword\"].apply(merge_keywords).reset_index(name='total_keyword')\n",
    "author=author.merge(author_keywords, on=\"author_id\", how=\"left\")"
   ]
  },
  {
   "cell_type": "markdown",
   "metadata": {},
   "source": [
    "### Split train and validation"
   ]
  },
  {
   "cell_type": "code",
   "execution_count": 114,
   "metadata": {},
   "outputs": [],
   "source": [
    "most_recent_indices = author.groupby(\"author_id\")[\"year\"].idxmax()\n",
    "\n",
    "valid = author.loc[most_recent_indices]\n",
    "\n",
    "train = author.drop(most_recent_indices)"
   ]
  },
  {
   "cell_type": "code",
   "execution_count": 116,
   "metadata": {},
   "outputs": [
    {
     "name": "stdout",
     "output_type": "stream",
     "text": [
      "Authors in train but not in valid: []\n"
     ]
    }
   ],
   "source": [
    "valid_author_ids = valid['author_id'].unique()\n",
    "train_author_ids = train['author_id'].unique()\n",
    "\n",
    "# Find authors present in train but not in valid\n",
    "missing_from_valid = [author_id for author_id in train_author_ids if author_id not in valid_author_ids]\n",
    "print(\"Authors in train but not in valid:\", missing_from_valid)\n"
   ]
  },
  {
   "cell_type": "code",
   "execution_count": 118,
   "metadata": {},
   "outputs": [
    {
     "name": "stdout",
     "output_type": "stream",
     "text": [
      "         index   author_id        author_name               standard_org  \\\n",
      "473459  321708  2009849051  Michael O. Jewell  University Of Southampton   \n",
      "\n",
      "                id                                              title  year  \\\n",
      "473459  2096264819  Understanding Energy Consumption at Work: Lear...  2016   \n",
      "\n",
      "        n_citation    doc_type  reference_count  ... venue_type  \\\n",
      "473459           8  Conference             29.0  ...          C   \n",
      "\n",
      "                                            doi  \\\n",
      "473459  https://doi.org/10.1145/2818048.2819993   \n",
      "\n",
      "                                                  keyword volume issue  \\\n",
      "473459  Energy conservation;Psychological intervention...    NaN   NaN   \n",
      "\n",
      "       publisher  total_citation  total_paper avg_reference  \\\n",
      "473459       ACM              93           13     16.230769   \n",
      "\n",
      "                                            total_keyword  \n",
      "473459  {Computer science, Correctness, Arrow, Themati...  \n",
      "\n",
      "[1 rows x 23 columns]\n"
     ]
    }
   ],
   "source": [
    "print(valid.loc[valid[\"author_id\"] == 2009849051])"
   ]
  },
  {
   "cell_type": "markdown",
   "metadata": {},
   "source": [
    "#### Build the graph"
   ]
  },
  {
   "cell_type": "code",
   "execution_count": null,
   "metadata": {},
   "outputs": [],
   "source": [
    "# G_train = nx.Graph()"
   ]
  },
  {
   "cell_type": "code",
   "execution_count": null,
   "metadata": {},
   "outputs": [],
   "source": [
    "\n",
    "# for index, row in train.iterrows():\n",
    "#     author_id = row['author_id']\n",
    "#     if not G_train.has_node(author_id):\n",
    "#         G_train.add_node(\n",
    "#             author_id,\n",
    "#             name=row['author_name'],\n",
    "#             org=row['standard_org'],\n",
    "#             total_citation=row[\"total_citation\"], \n",
    "#             total_paper=row[\"total_paper\"],\n",
    "#             avg_reference=row[\"avg_reference\"],     \n",
    "#             keywords=row[\"total_keyword\"],   \n",
    "#         )\n"
   ]
  },
  {
   "cell_type": "code",
   "execution_count": null,
   "metadata": {},
   "outputs": [],
   "source": [
    "\n",
    "# for paper_id, group in train.groupby('id'):\n",
    "#     authors = group['author_id'].tolist()\n",
    "#     id = group['id'].iloc[0]\n",
    "#     title = group['title'].iloc[0]\n",
    "#     year = group['year'].iloc[0]\n",
    "#     venue_id = group['venue_id'].iloc[0]\n",
    "#     venue_name = group['venue_name'].iloc[0]\n",
    "#     publisher = group['publisher'].iloc[0]\n",
    "#     n_citation = group['n_citation'].iloc[0]  # 本篇文章的引用数\n",
    "\n",
    "#     for i in range(len(authors)):\n",
    "#         for j in range(i + 1, len(authors)):\n",
    "#             author1 = authors[i]\n",
    "#             author2 = authors[j]\n",
    "\n",
    "#             if G_train.has_edge(author1, author2):\n",
    "#                 G_train[author1][author2]['papers'].append({\n",
    "#                     'id': id,\n",
    "#                     'title': title,\n",
    "#                     'year': year,\n",
    "#                     'venue_id': venue_id,\n",
    "#                     'venue_name': venue_name,\n",
    "#                     'publisher': publisher,\n",
    "#                     'n_citation': n_citation,  # 添加引用数\n",
    "#                 })\n",
    "#             else:\n",
    "#                 G_train.add_edge(author1, author2, papers=[{\n",
    "#                     'id': id,\n",
    "#                     'title': title,\n",
    "#                     'year': year,\n",
    "#                     'venue_id': venue_id,\n",
    "#                     'venue_name': venue_name,\n",
    "#                     'publisher': publisher,\n",
    "#                     'n_citation': n_citation,  # 添加引用数\n",
    "#                 }])\n"
   ]
  },
  {
   "cell_type": "markdown",
   "metadata": {},
   "source": [
    "### Network Analysis"
   ]
  },
  {
   "cell_type": "code",
   "execution_count": 35,
   "metadata": {},
   "outputs": [
    {
     "name": "stdout",
     "output_type": "stream",
     "text": [
      "# components:  1095\n",
      "# nodes:  29694\n",
      "# edge:  153857\n",
      "%_largest component:  94.4\n",
      "average degree:  10.362834242607935\n",
      "average clustering coefficient:  0.37782319359036604\n"
     ]
    }
   ],
   "source": [
    "print(\"# components: \",nx.number_connected_components(G_train))\n",
    "\n",
    "nodes_num=len(G_train.nodes())\n",
    "print('# nodes: ',nodes_num)\n",
    "\n",
    "edges_num=len(G_train.edges())\n",
    "print('# edge: ',edges_num)\n",
    "\n",
    "largest_component = max(nx.connected_components(G_train), key=len)\n",
    "percent_lc=round(len(largest_component)/nodes_num*100,2)\n",
    "print(\"%_largest component: \",percent_lc)\n",
    "\n",
    "# average degree\n",
    "degree_dict=dict(nx.degree(G_train))\n",
    "avg_d=sum(degree_dict.values())/len(G_train.nodes())\n",
    "print(\"average degree: \",avg_d)\n",
    "\n",
    "# average clustering coefficient\n",
    "avg_cc=nx.average_clustering(G_train)\n",
    "print(\"average clustering coefficient: \",avg_cc)"
   ]
  },
  {
   "cell_type": "markdown",
   "metadata": {},
   "source": [
    "### GNN 0"
   ]
  },
  {
   "cell_type": "code",
   "execution_count": 90,
   "metadata": {},
   "outputs": [],
   "source": [
    "# 优化\n",
    "import torch\n",
    "import torch.nn.functional as F\n",
    "import torch_geometric.nn as pyg_nn\n",
    "from torch_geometric.data import Data\n",
    "import numpy as np\n",
    "import pandas as pd\n",
    "from sklearn.metrics import mean_absolute_error, mean_squared_error, r2_score\n",
    "\n",
    "class TemporalAuthorGNN(torch.nn.Module):\n",
    "    def __init__(self, num_features, hidden_channels):\n",
    "        super(TemporalAuthorGNN, self).__init__()\n",
    "        # 时序图卷积层\n",
    "        self.conv1 = pyg_nn.TAGConv(num_features, hidden_channels)\n",
    "        self.conv2 = pyg_nn.TAGConv(hidden_channels, 1)  # 输出层预测citation数量\n",
    "        \n",
    "    def forward(self, x, edge_index, edge_attr):\n",
    "        # 第一层图卷积，使用edge_attr传递时间信息\n",
    "        x = self.conv1(x, edge_index, edge_attr)\n",
    "        x = F.relu(x)\n",
    "        \n",
    "        # 第二层图卷积，输出预测的引用数量\n",
    "        x = self.conv2(x, edge_index, edge_attr)\n",
    "        return x\n",
    "\n",
    "def prepare_temporal_graph_data(train, valid):\n",
    "    # 前面的准备图数据的代码保持不变\n",
    "    # ...（使用之前的实现）\n",
    "    def calculate_h_index(citations):\n",
    "     sorted_citations = sorted(citations, reverse=True)\n",
    "     h_index = 0\n",
    "     for i, cite_count in enumerate(sorted_citations, 1):\n",
    "        if cite_count >= i:\n",
    "            h_index = i\n",
    "        else:\n",
    "            break\n",
    "     return h_index\n",
    "    def extract_author_features(group):\n",
    "        sorted_years = group.sort_values('year')\n",
    "        citations = sorted_years['n_citation'].values\n",
    "    \n",
    "        # 引用增量：后一年减去前一年的引用数\n",
    "        citation_increments = [citations[i] - citations[i - 1] for i in range(1, len(citations))]\n",
    "    \n",
    "        return {\n",
    "            'total_citation': group['n_citation'].sum(),\n",
    "            'paper_count': len(group),\n",
    "            'avg_citation': group['n_citation'].mean(),\n",
    "            'min_year': group['year'].min(),\n",
    "            'max_year': group['year'].max(),\n",
    "            'h_index': calculate_h_index(group['n_citation']),  # 学术影响力指标\n",
    "            'citation_variance': group['n_citation'].var(),  # 引用数方差\n",
    "            'recent_citation_ratio': group[group['year'] > group['year'].max() - 3]['n_citation'].sum()/ group['n_citation'].sum(),\n",
    "            'citation_increment': sum(citation_increments) / len(citation_increments) if citation_increments else 0\n",
    "        }\n",
    "    \n",
    "    # 计算作者历史特征\n",
    "    author_features = train.groupby('author_id').apply(extract_author_features)\n",
    "    \n",
    "    # 准备节点特征\n",
    "    node_features = []\n",
    "    node_ids = list(author_features.index)\n",
    "    \n",
    "    for node in node_ids:\n",
    "        features = [\n",
    "            author_features.loc[node]['total_citation'],\n",
    "            author_features.loc[node]['paper_count'],\n",
    "            author_features.loc[node]['avg_citation'],\n",
    "            author_features.loc[node]['max_year'] - author_features.loc[node]['min_year'] + 1\n",
    "        ]\n",
    "        node_features.append(features)\n",
    "    \n",
    "    # 转换节点特征\n",
    "    x = torch.tensor(node_features, dtype=torch.float)\n",
    "    \n",
    "    # 构建边和边属性\n",
    "    edges = []\n",
    "    edge_attrs = []\n",
    "    \n",
    "    # 遍历每篇论文的合作关系\n",
    "    for paper_id, group in train.groupby('id'):\n",
    "        authors = group['author_id'].tolist()\n",
    "        year = group['year'].iloc[0]\n",
    "        \n",
    "        # 创建作者间的边\n",
    "        for i in range(len(authors)):\n",
    "            for j in range(i + 1, len(authors)):\n",
    "                author1 = authors[i]\n",
    "                author2 = authors[j]\n",
    "                \n",
    "                # 边的索引\n",
    "                edge = [node_ids.index(author1), node_ids.index(author2)]\n",
    "                edges.append(edge)\n",
    "                edges.append(edge[::-1])  # 添加反向边\n",
    "                \n",
    "                # 边属性使用论文发表年份\n",
    "                edge_attrs.append([year])\n",
    "                edge_attrs.append([year])\n",
    "    \n",
    "    # 转换边和边属性\n",
    "    edge_index = torch.tensor(edges, dtype=torch.long).t().contiguous()\n",
    "    edge_attr = torch.tensor(edge_attrs, dtype=torch.float)\n",
    "    \n",
    "    return x, edge_index, edge_attr, node_ids\n",
    "    \n"
   ]
  },
  {
   "cell_type": "code",
   "execution_count": 91,
   "metadata": {},
   "outputs": [],
   "source": [
    "#优化\n",
    "class TemporalAuthorGNN(torch.nn.Module):\n",
    "    def __init__(self, num_features, hidden_channels):\n",
    "        super(TemporalAuthorGNN, self).__init__()\n",
    "        # 增加更多层和dropout\n",
    "        self.conv1 = pyg_nn.TAGConv(num_features, hidden_channels)\n",
    "        self.conv2 = pyg_nn.TAGConv(hidden_channels, hidden_channels//2)\n",
    "        self.conv3 = pyg_nn.TAGConv(hidden_channels//2, 1)\n",
    "        \n",
    "        # 添加批归一化和dropout\n",
    "        self.bn1 = torch.nn.BatchNorm1d(hidden_channels)\n",
    "        self.bn2 = torch.nn.BatchNorm1d(hidden_channels//2)\n",
    "        self.dropout = torch.nn.Dropout(0.3)\n",
    "\n",
    "    def forward(self, x, edge_index, edge_attr):\n",
    "        x = self.conv1(x, edge_index, edge_attr)\n",
    "        x = self.bn1(x)\n",
    "        x = F.relu(x)\n",
    "        x = self.dropout(x)\n",
    "\n",
    "        x = self.conv2(x, edge_index, edge_attr)\n",
    "        x = self.bn2(x)\n",
    "        x = F.relu(x)\n",
    "        x = self.dropout(x)\n",
    "\n",
    "        x = self.conv3(x, edge_index, edge_attr)\n",
    "        return x"
   ]
  },
  {
   "cell_type": "code",
   "execution_count": 92,
   "metadata": {},
   "outputs": [],
   "source": [
    "#优化\n",
    "def train_and_evaluate_temporal_gnn(train, valid):\n",
    "    # 学习率调度器\n",
    "    lr_scheduler = torch.optim.lr_scheduler.ReduceLROnPlateau(\n",
    "        optimizer, \n",
    "        mode='min', \n",
    "        factor=0.5, \n",
    "        patience=10, \n",
    "        min_lr=1e-4\n",
    "    )\n",
    "\n",
    "    # 早停\n",
    "    early_stopping_patience = 20\n",
    "    no_improvement_epochs = 0\n",
    "\n",
    "    for epoch in range(100):\n",
    "        # 训练代码...\n",
    "        # 如果验证误差没有改善\n",
    "        if mae >= best_mae:\n",
    "            no_improvement_epochs += 1\n",
    "            if no_improvement_epochs > early_stopping_patience:\n",
    "                print(\"Early stopping triggered\")\n",
    "                break\n",
    "        else:\n",
    "            no_improvement_epochs = 0\n",
    "\n",
    "        # 更新学习率\n",
    "        lr_scheduler.step(mae)"
   ]
  },
  {
   "cell_type": "code",
   "execution_count": 93,
   "metadata": {},
   "outputs": [],
   "source": [
    "# 优化\n",
    "def cross_validation(train_data):\n",
    "    # K折交叉验证\n",
    "    kf = KFold(n_splits=5, shuffle=True)\n",
    "    \n",
    "    all_metrics = []\n",
    "    for train_index, val_index in kf.split(train_data):\n",
    "        train_fold = train_data.iloc[train_index]\n",
    "        val_fold = train_data.iloc[val_index]\n",
    "        \n",
    "        model, predictions, metrics = train_and_evaluate_temporal_gnn(train_fold, val_fold)\n",
    "        all_metrics.append(metrics)\n",
    "\n",
    "    # 平均指标\n",
    "    avg_metrics = {\n",
    "        'mse': np.mean([m['mse'] for m in all_metrics]),\n",
    "        'mae': np.mean([m['mae'] for m in all_metrics]),\n",
    "        'r2': np.mean([m['r2'] for m in all_metrics])\n",
    "    }"
   ]
  },
  {
   "cell_type": "code",
   "execution_count": 97,
   "metadata": {},
   "outputs": [
    {
     "name": "stderr",
     "output_type": "stream",
     "text": [
      "/var/folders/p5/grng0bpx24988f1v2318bx6w0000gn/T/ipykernel_33374/152240381.py:53: RuntimeWarning: invalid value encountered in scalar divide\n",
      "  'recent_citation_ratio': group[group['year'] > group['year'].max() - 3]['n_citation'].sum()/ group['n_citation'].sum(),\n",
      "/var/folders/p5/grng0bpx24988f1v2318bx6w0000gn/T/ipykernel_33374/152240381.py:58: DeprecationWarning: DataFrameGroupBy.apply operated on the grouping columns. This behavior is deprecated, and in a future version of pandas the grouping columns will be excluded from the operation. Either pass `include_groups=False` to exclude the groupings or explicitly select the grouping columns after groupby to silence this warning.\n",
      "  author_features = train.groupby('author_id').apply(extract_author_features)\n",
      "/Users/yidanchang/Desktop/FALL2024/SI608/.venv/lib/python3.12/site-packages/torch/nn/modules/loss.py:608: UserWarning: Using a target size (torch.Size([29694])) that is different to the input size (torch.Size([29694, 1])). This will likely lead to incorrect results due to broadcasting. Please ensure they have the same size.\n",
      "  return F.mse_loss(input, target, reduction=self.reduction)\n"
     ]
    },
    {
     "name": "stdout",
     "output_type": "stream",
     "text": [
      "Epoch 0:\n",
      "MSE Loss: 448.3621\n",
      "MAE: 4.3284\n",
      "R2 Score: -0.0400\n",
      "------------------------------\n"
     ]
    },
    {
     "name": "stderr",
     "output_type": "stream",
     "text": [
      "/Users/yidanchang/Desktop/FALL2024/SI608/.venv/lib/python3.12/site-packages/torch/nn/modules/loss.py:608: UserWarning: Using a target size (torch.Size([29694])) that is different to the input size (torch.Size([29694, 1])). This will likely lead to incorrect results due to broadcasting. Please ensure they have the same size.\n",
      "  return F.mse_loss(input, target, reduction=self.reduction)\n",
      "/Users/yidanchang/Desktop/FALL2024/SI608/.venv/lib/python3.12/site-packages/torch/nn/modules/loss.py:608: UserWarning: Using a target size (torch.Size([29694])) that is different to the input size (torch.Size([29694, 1])). This will likely lead to incorrect results due to broadcasting. Please ensure they have the same size.\n",
      "  return F.mse_loss(input, target, reduction=self.reduction)\n",
      "/Users/yidanchang/Desktop/FALL2024/SI608/.venv/lib/python3.12/site-packages/torch/nn/modules/loss.py:608: UserWarning: Using a target size (torch.Size([29694])) that is different to the input size (torch.Size([29694, 1])). This will likely lead to incorrect results due to broadcasting. Please ensure they have the same size.\n",
      "  return F.mse_loss(input, target, reduction=self.reduction)\n",
      "/Users/yidanchang/Desktop/FALL2024/SI608/.venv/lib/python3.12/site-packages/torch/nn/modules/loss.py:608: UserWarning: Using a target size (torch.Size([29694])) that is different to the input size (torch.Size([29694, 1])). This will likely lead to incorrect results due to broadcasting. Please ensure they have the same size.\n",
      "  return F.mse_loss(input, target, reduction=self.reduction)\n",
      "/Users/yidanchang/Desktop/FALL2024/SI608/.venv/lib/python3.12/site-packages/torch/nn/modules/loss.py:608: UserWarning: Using a target size (torch.Size([29694])) that is different to the input size (torch.Size([29694, 1])). This will likely lead to incorrect results due to broadcasting. Please ensure they have the same size.\n",
      "  return F.mse_loss(input, target, reduction=self.reduction)\n",
      "/Users/yidanchang/Desktop/FALL2024/SI608/.venv/lib/python3.12/site-packages/torch/nn/modules/loss.py:608: UserWarning: Using a target size (torch.Size([29694])) that is different to the input size (torch.Size([29694, 1])). This will likely lead to incorrect results due to broadcasting. Please ensure they have the same size.\n",
      "  return F.mse_loss(input, target, reduction=self.reduction)\n",
      "/Users/yidanchang/Desktop/FALL2024/SI608/.venv/lib/python3.12/site-packages/torch/nn/modules/loss.py:608: UserWarning: Using a target size (torch.Size([29694])) that is different to the input size (torch.Size([29694, 1])). This will likely lead to incorrect results due to broadcasting. Please ensure they have the same size.\n",
      "  return F.mse_loss(input, target, reduction=self.reduction)\n",
      "/Users/yidanchang/Desktop/FALL2024/SI608/.venv/lib/python3.12/site-packages/torch/nn/modules/loss.py:608: UserWarning: Using a target size (torch.Size([29694])) that is different to the input size (torch.Size([29694, 1])). This will likely lead to incorrect results due to broadcasting. Please ensure they have the same size.\n",
      "  return F.mse_loss(input, target, reduction=self.reduction)\n",
      "/Users/yidanchang/Desktop/FALL2024/SI608/.venv/lib/python3.12/site-packages/torch/nn/modules/loss.py:608: UserWarning: Using a target size (torch.Size([29694])) that is different to the input size (torch.Size([29694, 1])). This will likely lead to incorrect results due to broadcasting. Please ensure they have the same size.\n",
      "  return F.mse_loss(input, target, reduction=self.reduction)\n",
      "/Users/yidanchang/Desktop/FALL2024/SI608/.venv/lib/python3.12/site-packages/torch/nn/modules/loss.py:608: UserWarning: Using a target size (torch.Size([29694])) that is different to the input size (torch.Size([29694, 1])). This will likely lead to incorrect results due to broadcasting. Please ensure they have the same size.\n",
      "  return F.mse_loss(input, target, reduction=self.reduction)\n"
     ]
    },
    {
     "name": "stdout",
     "output_type": "stream",
     "text": [
      "Epoch 10:\n",
      "MSE Loss: 439.5737\n",
      "MAE: 5.3247\n",
      "R2 Score: -0.0074\n",
      "------------------------------\n"
     ]
    },
    {
     "name": "stderr",
     "output_type": "stream",
     "text": [
      "/Users/yidanchang/Desktop/FALL2024/SI608/.venv/lib/python3.12/site-packages/torch/nn/modules/loss.py:608: UserWarning: Using a target size (torch.Size([29694])) that is different to the input size (torch.Size([29694, 1])). This will likely lead to incorrect results due to broadcasting. Please ensure they have the same size.\n",
      "  return F.mse_loss(input, target, reduction=self.reduction)\n",
      "/Users/yidanchang/Desktop/FALL2024/SI608/.venv/lib/python3.12/site-packages/torch/nn/modules/loss.py:608: UserWarning: Using a target size (torch.Size([29694])) that is different to the input size (torch.Size([29694, 1])). This will likely lead to incorrect results due to broadcasting. Please ensure they have the same size.\n",
      "  return F.mse_loss(input, target, reduction=self.reduction)\n",
      "/Users/yidanchang/Desktop/FALL2024/SI608/.venv/lib/python3.12/site-packages/torch/nn/modules/loss.py:608: UserWarning: Using a target size (torch.Size([29694])) that is different to the input size (torch.Size([29694, 1])). This will likely lead to incorrect results due to broadcasting. Please ensure they have the same size.\n",
      "  return F.mse_loss(input, target, reduction=self.reduction)\n",
      "/Users/yidanchang/Desktop/FALL2024/SI608/.venv/lib/python3.12/site-packages/torch/nn/modules/loss.py:608: UserWarning: Using a target size (torch.Size([29694])) that is different to the input size (torch.Size([29694, 1])). This will likely lead to incorrect results due to broadcasting. Please ensure they have the same size.\n",
      "  return F.mse_loss(input, target, reduction=self.reduction)\n",
      "/Users/yidanchang/Desktop/FALL2024/SI608/.venv/lib/python3.12/site-packages/torch/nn/modules/loss.py:608: UserWarning: Using a target size (torch.Size([29694])) that is different to the input size (torch.Size([29694, 1])). This will likely lead to incorrect results due to broadcasting. Please ensure they have the same size.\n",
      "  return F.mse_loss(input, target, reduction=self.reduction)\n",
      "/Users/yidanchang/Desktop/FALL2024/SI608/.venv/lib/python3.12/site-packages/torch/nn/modules/loss.py:608: UserWarning: Using a target size (torch.Size([29694])) that is different to the input size (torch.Size([29694, 1])). This will likely lead to incorrect results due to broadcasting. Please ensure they have the same size.\n",
      "  return F.mse_loss(input, target, reduction=self.reduction)\n",
      "/Users/yidanchang/Desktop/FALL2024/SI608/.venv/lib/python3.12/site-packages/torch/nn/modules/loss.py:608: UserWarning: Using a target size (torch.Size([29694])) that is different to the input size (torch.Size([29694, 1])). This will likely lead to incorrect results due to broadcasting. Please ensure they have the same size.\n",
      "  return F.mse_loss(input, target, reduction=self.reduction)\n",
      "/Users/yidanchang/Desktop/FALL2024/SI608/.venv/lib/python3.12/site-packages/torch/nn/modules/loss.py:608: UserWarning: Using a target size (torch.Size([29694])) that is different to the input size (torch.Size([29694, 1])). This will likely lead to incorrect results due to broadcasting. Please ensure they have the same size.\n",
      "  return F.mse_loss(input, target, reduction=self.reduction)\n",
      "/Users/yidanchang/Desktop/FALL2024/SI608/.venv/lib/python3.12/site-packages/torch/nn/modules/loss.py:608: UserWarning: Using a target size (torch.Size([29694])) that is different to the input size (torch.Size([29694, 1])). This will likely lead to incorrect results due to broadcasting. Please ensure they have the same size.\n",
      "  return F.mse_loss(input, target, reduction=self.reduction)\n",
      "/Users/yidanchang/Desktop/FALL2024/SI608/.venv/lib/python3.12/site-packages/torch/nn/modules/loss.py:608: UserWarning: Using a target size (torch.Size([29694])) that is different to the input size (torch.Size([29694, 1])). This will likely lead to incorrect results due to broadcasting. Please ensure they have the same size.\n",
      "  return F.mse_loss(input, target, reduction=self.reduction)\n"
     ]
    },
    {
     "name": "stdout",
     "output_type": "stream",
     "text": [
      "Epoch 20:\n",
      "MSE Loss: 433.2318\n",
      "MAE: 5.6597\n",
      "R2 Score: -0.0236\n",
      "------------------------------\n"
     ]
    },
    {
     "name": "stderr",
     "output_type": "stream",
     "text": [
      "/Users/yidanchang/Desktop/FALL2024/SI608/.venv/lib/python3.12/site-packages/torch/nn/modules/loss.py:608: UserWarning: Using a target size (torch.Size([29694])) that is different to the input size (torch.Size([29694, 1])). This will likely lead to incorrect results due to broadcasting. Please ensure they have the same size.\n",
      "  return F.mse_loss(input, target, reduction=self.reduction)\n",
      "/Users/yidanchang/Desktop/FALL2024/SI608/.venv/lib/python3.12/site-packages/torch/nn/modules/loss.py:608: UserWarning: Using a target size (torch.Size([29694])) that is different to the input size (torch.Size([29694, 1])). This will likely lead to incorrect results due to broadcasting. Please ensure they have the same size.\n",
      "  return F.mse_loss(input, target, reduction=self.reduction)\n",
      "/Users/yidanchang/Desktop/FALL2024/SI608/.venv/lib/python3.12/site-packages/torch/nn/modules/loss.py:608: UserWarning: Using a target size (torch.Size([29694])) that is different to the input size (torch.Size([29694, 1])). This will likely lead to incorrect results due to broadcasting. Please ensure they have the same size.\n",
      "  return F.mse_loss(input, target, reduction=self.reduction)\n",
      "/Users/yidanchang/Desktop/FALL2024/SI608/.venv/lib/python3.12/site-packages/torch/nn/modules/loss.py:608: UserWarning: Using a target size (torch.Size([29694])) that is different to the input size (torch.Size([29694, 1])). This will likely lead to incorrect results due to broadcasting. Please ensure they have the same size.\n",
      "  return F.mse_loss(input, target, reduction=self.reduction)\n",
      "/Users/yidanchang/Desktop/FALL2024/SI608/.venv/lib/python3.12/site-packages/torch/nn/modules/loss.py:608: UserWarning: Using a target size (torch.Size([29694])) that is different to the input size (torch.Size([29694, 1])). This will likely lead to incorrect results due to broadcasting. Please ensure they have the same size.\n",
      "  return F.mse_loss(input, target, reduction=self.reduction)\n",
      "/Users/yidanchang/Desktop/FALL2024/SI608/.venv/lib/python3.12/site-packages/torch/nn/modules/loss.py:608: UserWarning: Using a target size (torch.Size([29694])) that is different to the input size (torch.Size([29694, 1])). This will likely lead to incorrect results due to broadcasting. Please ensure they have the same size.\n",
      "  return F.mse_loss(input, target, reduction=self.reduction)\n",
      "/Users/yidanchang/Desktop/FALL2024/SI608/.venv/lib/python3.12/site-packages/torch/nn/modules/loss.py:608: UserWarning: Using a target size (torch.Size([29694])) that is different to the input size (torch.Size([29694, 1])). This will likely lead to incorrect results due to broadcasting. Please ensure they have the same size.\n",
      "  return F.mse_loss(input, target, reduction=self.reduction)\n",
      "/Users/yidanchang/Desktop/FALL2024/SI608/.venv/lib/python3.12/site-packages/torch/nn/modules/loss.py:608: UserWarning: Using a target size (torch.Size([29694])) that is different to the input size (torch.Size([29694, 1])). This will likely lead to incorrect results due to broadcasting. Please ensure they have the same size.\n",
      "  return F.mse_loss(input, target, reduction=self.reduction)\n",
      "/Users/yidanchang/Desktop/FALL2024/SI608/.venv/lib/python3.12/site-packages/torch/nn/modules/loss.py:608: UserWarning: Using a target size (torch.Size([29694])) that is different to the input size (torch.Size([29694, 1])). This will likely lead to incorrect results due to broadcasting. Please ensure they have the same size.\n",
      "  return F.mse_loss(input, target, reduction=self.reduction)\n",
      "/Users/yidanchang/Desktop/FALL2024/SI608/.venv/lib/python3.12/site-packages/torch/nn/modules/loss.py:608: UserWarning: Using a target size (torch.Size([29694])) that is different to the input size (torch.Size([29694, 1])). This will likely lead to incorrect results due to broadcasting. Please ensure they have the same size.\n",
      "  return F.mse_loss(input, target, reduction=self.reduction)\n"
     ]
    },
    {
     "name": "stdout",
     "output_type": "stream",
     "text": [
      "Epoch 30:\n",
      "MSE Loss: 431.7821\n",
      "MAE: 5.4391\n",
      "R2 Score: -0.0074\n",
      "------------------------------\n"
     ]
    },
    {
     "name": "stderr",
     "output_type": "stream",
     "text": [
      "/Users/yidanchang/Desktop/FALL2024/SI608/.venv/lib/python3.12/site-packages/torch/nn/modules/loss.py:608: UserWarning: Using a target size (torch.Size([29694])) that is different to the input size (torch.Size([29694, 1])). This will likely lead to incorrect results due to broadcasting. Please ensure they have the same size.\n",
      "  return F.mse_loss(input, target, reduction=self.reduction)\n",
      "/Users/yidanchang/Desktop/FALL2024/SI608/.venv/lib/python3.12/site-packages/torch/nn/modules/loss.py:608: UserWarning: Using a target size (torch.Size([29694])) that is different to the input size (torch.Size([29694, 1])). This will likely lead to incorrect results due to broadcasting. Please ensure they have the same size.\n",
      "  return F.mse_loss(input, target, reduction=self.reduction)\n",
      "/Users/yidanchang/Desktop/FALL2024/SI608/.venv/lib/python3.12/site-packages/torch/nn/modules/loss.py:608: UserWarning: Using a target size (torch.Size([29694])) that is different to the input size (torch.Size([29694, 1])). This will likely lead to incorrect results due to broadcasting. Please ensure they have the same size.\n",
      "  return F.mse_loss(input, target, reduction=self.reduction)\n",
      "/Users/yidanchang/Desktop/FALL2024/SI608/.venv/lib/python3.12/site-packages/torch/nn/modules/loss.py:608: UserWarning: Using a target size (torch.Size([29694])) that is different to the input size (torch.Size([29694, 1])). This will likely lead to incorrect results due to broadcasting. Please ensure they have the same size.\n",
      "  return F.mse_loss(input, target, reduction=self.reduction)\n",
      "/Users/yidanchang/Desktop/FALL2024/SI608/.venv/lib/python3.12/site-packages/torch/nn/modules/loss.py:608: UserWarning: Using a target size (torch.Size([29694])) that is different to the input size (torch.Size([29694, 1])). This will likely lead to incorrect results due to broadcasting. Please ensure they have the same size.\n",
      "  return F.mse_loss(input, target, reduction=self.reduction)\n",
      "/Users/yidanchang/Desktop/FALL2024/SI608/.venv/lib/python3.12/site-packages/torch/nn/modules/loss.py:608: UserWarning: Using a target size (torch.Size([29694])) that is different to the input size (torch.Size([29694, 1])). This will likely lead to incorrect results due to broadcasting. Please ensure they have the same size.\n",
      "  return F.mse_loss(input, target, reduction=self.reduction)\n",
      "/Users/yidanchang/Desktop/FALL2024/SI608/.venv/lib/python3.12/site-packages/torch/nn/modules/loss.py:608: UserWarning: Using a target size (torch.Size([29694])) that is different to the input size (torch.Size([29694, 1])). This will likely lead to incorrect results due to broadcasting. Please ensure they have the same size.\n",
      "  return F.mse_loss(input, target, reduction=self.reduction)\n",
      "/Users/yidanchang/Desktop/FALL2024/SI608/.venv/lib/python3.12/site-packages/torch/nn/modules/loss.py:608: UserWarning: Using a target size (torch.Size([29694])) that is different to the input size (torch.Size([29694, 1])). This will likely lead to incorrect results due to broadcasting. Please ensure they have the same size.\n",
      "  return F.mse_loss(input, target, reduction=self.reduction)\n",
      "/Users/yidanchang/Desktop/FALL2024/SI608/.venv/lib/python3.12/site-packages/torch/nn/modules/loss.py:608: UserWarning: Using a target size (torch.Size([29694])) that is different to the input size (torch.Size([29694, 1])). This will likely lead to incorrect results due to broadcasting. Please ensure they have the same size.\n",
      "  return F.mse_loss(input, target, reduction=self.reduction)\n",
      "/Users/yidanchang/Desktop/FALL2024/SI608/.venv/lib/python3.12/site-packages/torch/nn/modules/loss.py:608: UserWarning: Using a target size (torch.Size([29694])) that is different to the input size (torch.Size([29694, 1])). This will likely lead to incorrect results due to broadcasting. Please ensure they have the same size.\n",
      "  return F.mse_loss(input, target, reduction=self.reduction)\n"
     ]
    },
    {
     "name": "stdout",
     "output_type": "stream",
     "text": [
      "Epoch 40:\n",
      "MSE Loss: 431.0801\n",
      "MAE: 5.7008\n",
      "R2 Score: -0.0093\n",
      "------------------------------\n"
     ]
    },
    {
     "name": "stderr",
     "output_type": "stream",
     "text": [
      "/Users/yidanchang/Desktop/FALL2024/SI608/.venv/lib/python3.12/site-packages/torch/nn/modules/loss.py:608: UserWarning: Using a target size (torch.Size([29694])) that is different to the input size (torch.Size([29694, 1])). This will likely lead to incorrect results due to broadcasting. Please ensure they have the same size.\n",
      "  return F.mse_loss(input, target, reduction=self.reduction)\n",
      "/Users/yidanchang/Desktop/FALL2024/SI608/.venv/lib/python3.12/site-packages/torch/nn/modules/loss.py:608: UserWarning: Using a target size (torch.Size([29694])) that is different to the input size (torch.Size([29694, 1])). This will likely lead to incorrect results due to broadcasting. Please ensure they have the same size.\n",
      "  return F.mse_loss(input, target, reduction=self.reduction)\n",
      "/Users/yidanchang/Desktop/FALL2024/SI608/.venv/lib/python3.12/site-packages/torch/nn/modules/loss.py:608: UserWarning: Using a target size (torch.Size([29694])) that is different to the input size (torch.Size([29694, 1])). This will likely lead to incorrect results due to broadcasting. Please ensure they have the same size.\n",
      "  return F.mse_loss(input, target, reduction=self.reduction)\n",
      "/Users/yidanchang/Desktop/FALL2024/SI608/.venv/lib/python3.12/site-packages/torch/nn/modules/loss.py:608: UserWarning: Using a target size (torch.Size([29694])) that is different to the input size (torch.Size([29694, 1])). This will likely lead to incorrect results due to broadcasting. Please ensure they have the same size.\n",
      "  return F.mse_loss(input, target, reduction=self.reduction)\n",
      "/Users/yidanchang/Desktop/FALL2024/SI608/.venv/lib/python3.12/site-packages/torch/nn/modules/loss.py:608: UserWarning: Using a target size (torch.Size([29694])) that is different to the input size (torch.Size([29694, 1])). This will likely lead to incorrect results due to broadcasting. Please ensure they have the same size.\n",
      "  return F.mse_loss(input, target, reduction=self.reduction)\n",
      "/Users/yidanchang/Desktop/FALL2024/SI608/.venv/lib/python3.12/site-packages/torch/nn/modules/loss.py:608: UserWarning: Using a target size (torch.Size([29694])) that is different to the input size (torch.Size([29694, 1])). This will likely lead to incorrect results due to broadcasting. Please ensure they have the same size.\n",
      "  return F.mse_loss(input, target, reduction=self.reduction)\n",
      "/Users/yidanchang/Desktop/FALL2024/SI608/.venv/lib/python3.12/site-packages/torch/nn/modules/loss.py:608: UserWarning: Using a target size (torch.Size([29694])) that is different to the input size (torch.Size([29694, 1])). This will likely lead to incorrect results due to broadcasting. Please ensure they have the same size.\n",
      "  return F.mse_loss(input, target, reduction=self.reduction)\n",
      "/Users/yidanchang/Desktop/FALL2024/SI608/.venv/lib/python3.12/site-packages/torch/nn/modules/loss.py:608: UserWarning: Using a target size (torch.Size([29694])) that is different to the input size (torch.Size([29694, 1])). This will likely lead to incorrect results due to broadcasting. Please ensure they have the same size.\n",
      "  return F.mse_loss(input, target, reduction=self.reduction)\n",
      "/Users/yidanchang/Desktop/FALL2024/SI608/.venv/lib/python3.12/site-packages/torch/nn/modules/loss.py:608: UserWarning: Using a target size (torch.Size([29694])) that is different to the input size (torch.Size([29694, 1])). This will likely lead to incorrect results due to broadcasting. Please ensure they have the same size.\n",
      "  return F.mse_loss(input, target, reduction=self.reduction)\n",
      "/Users/yidanchang/Desktop/FALL2024/SI608/.venv/lib/python3.12/site-packages/torch/nn/modules/loss.py:608: UserWarning: Using a target size (torch.Size([29694])) that is different to the input size (torch.Size([29694, 1])). This will likely lead to incorrect results due to broadcasting. Please ensure they have the same size.\n",
      "  return F.mse_loss(input, target, reduction=self.reduction)\n"
     ]
    },
    {
     "name": "stdout",
     "output_type": "stream",
     "text": [
      "Epoch 50:\n",
      "MSE Loss: 430.7357\n",
      "MAE: 5.7786\n",
      "R2 Score: 0.0013\n",
      "------------------------------\n"
     ]
    },
    {
     "name": "stderr",
     "output_type": "stream",
     "text": [
      "/Users/yidanchang/Desktop/FALL2024/SI608/.venv/lib/python3.12/site-packages/torch/nn/modules/loss.py:608: UserWarning: Using a target size (torch.Size([29694])) that is different to the input size (torch.Size([29694, 1])). This will likely lead to incorrect results due to broadcasting. Please ensure they have the same size.\n",
      "  return F.mse_loss(input, target, reduction=self.reduction)\n",
      "/Users/yidanchang/Desktop/FALL2024/SI608/.venv/lib/python3.12/site-packages/torch/nn/modules/loss.py:608: UserWarning: Using a target size (torch.Size([29694])) that is different to the input size (torch.Size([29694, 1])). This will likely lead to incorrect results due to broadcasting. Please ensure they have the same size.\n",
      "  return F.mse_loss(input, target, reduction=self.reduction)\n",
      "/Users/yidanchang/Desktop/FALL2024/SI608/.venv/lib/python3.12/site-packages/torch/nn/modules/loss.py:608: UserWarning: Using a target size (torch.Size([29694])) that is different to the input size (torch.Size([29694, 1])). This will likely lead to incorrect results due to broadcasting. Please ensure they have the same size.\n",
      "  return F.mse_loss(input, target, reduction=self.reduction)\n",
      "/Users/yidanchang/Desktop/FALL2024/SI608/.venv/lib/python3.12/site-packages/torch/nn/modules/loss.py:608: UserWarning: Using a target size (torch.Size([29694])) that is different to the input size (torch.Size([29694, 1])). This will likely lead to incorrect results due to broadcasting. Please ensure they have the same size.\n",
      "  return F.mse_loss(input, target, reduction=self.reduction)\n",
      "/Users/yidanchang/Desktop/FALL2024/SI608/.venv/lib/python3.12/site-packages/torch/nn/modules/loss.py:608: UserWarning: Using a target size (torch.Size([29694])) that is different to the input size (torch.Size([29694, 1])). This will likely lead to incorrect results due to broadcasting. Please ensure they have the same size.\n",
      "  return F.mse_loss(input, target, reduction=self.reduction)\n",
      "/Users/yidanchang/Desktop/FALL2024/SI608/.venv/lib/python3.12/site-packages/torch/nn/modules/loss.py:608: UserWarning: Using a target size (torch.Size([29694])) that is different to the input size (torch.Size([29694, 1])). This will likely lead to incorrect results due to broadcasting. Please ensure they have the same size.\n",
      "  return F.mse_loss(input, target, reduction=self.reduction)\n",
      "/Users/yidanchang/Desktop/FALL2024/SI608/.venv/lib/python3.12/site-packages/torch/nn/modules/loss.py:608: UserWarning: Using a target size (torch.Size([29694])) that is different to the input size (torch.Size([29694, 1])). This will likely lead to incorrect results due to broadcasting. Please ensure they have the same size.\n",
      "  return F.mse_loss(input, target, reduction=self.reduction)\n",
      "/Users/yidanchang/Desktop/FALL2024/SI608/.venv/lib/python3.12/site-packages/torch/nn/modules/loss.py:608: UserWarning: Using a target size (torch.Size([29694])) that is different to the input size (torch.Size([29694, 1])). This will likely lead to incorrect results due to broadcasting. Please ensure they have the same size.\n",
      "  return F.mse_loss(input, target, reduction=self.reduction)\n",
      "/Users/yidanchang/Desktop/FALL2024/SI608/.venv/lib/python3.12/site-packages/torch/nn/modules/loss.py:608: UserWarning: Using a target size (torch.Size([29694])) that is different to the input size (torch.Size([29694, 1])). This will likely lead to incorrect results due to broadcasting. Please ensure they have the same size.\n",
      "  return F.mse_loss(input, target, reduction=self.reduction)\n",
      "/Users/yidanchang/Desktop/FALL2024/SI608/.venv/lib/python3.12/site-packages/torch/nn/modules/loss.py:608: UserWarning: Using a target size (torch.Size([29694])) that is different to the input size (torch.Size([29694, 1])). This will likely lead to incorrect results due to broadcasting. Please ensure they have the same size.\n",
      "  return F.mse_loss(input, target, reduction=self.reduction)\n"
     ]
    },
    {
     "name": "stdout",
     "output_type": "stream",
     "text": [
      "Epoch 60:\n",
      "MSE Loss: 430.6352\n",
      "MAE: 5.7850\n",
      "R2 Score: 0.0005\n",
      "------------------------------\n"
     ]
    },
    {
     "name": "stderr",
     "output_type": "stream",
     "text": [
      "/Users/yidanchang/Desktop/FALL2024/SI608/.venv/lib/python3.12/site-packages/torch/nn/modules/loss.py:608: UserWarning: Using a target size (torch.Size([29694])) that is different to the input size (torch.Size([29694, 1])). This will likely lead to incorrect results due to broadcasting. Please ensure they have the same size.\n",
      "  return F.mse_loss(input, target, reduction=self.reduction)\n",
      "/Users/yidanchang/Desktop/FALL2024/SI608/.venv/lib/python3.12/site-packages/torch/nn/modules/loss.py:608: UserWarning: Using a target size (torch.Size([29694])) that is different to the input size (torch.Size([29694, 1])). This will likely lead to incorrect results due to broadcasting. Please ensure they have the same size.\n",
      "  return F.mse_loss(input, target, reduction=self.reduction)\n",
      "/Users/yidanchang/Desktop/FALL2024/SI608/.venv/lib/python3.12/site-packages/torch/nn/modules/loss.py:608: UserWarning: Using a target size (torch.Size([29694])) that is different to the input size (torch.Size([29694, 1])). This will likely lead to incorrect results due to broadcasting. Please ensure they have the same size.\n",
      "  return F.mse_loss(input, target, reduction=self.reduction)\n",
      "/Users/yidanchang/Desktop/FALL2024/SI608/.venv/lib/python3.12/site-packages/torch/nn/modules/loss.py:608: UserWarning: Using a target size (torch.Size([29694])) that is different to the input size (torch.Size([29694, 1])). This will likely lead to incorrect results due to broadcasting. Please ensure they have the same size.\n",
      "  return F.mse_loss(input, target, reduction=self.reduction)\n",
      "/Users/yidanchang/Desktop/FALL2024/SI608/.venv/lib/python3.12/site-packages/torch/nn/modules/loss.py:608: UserWarning: Using a target size (torch.Size([29694])) that is different to the input size (torch.Size([29694, 1])). This will likely lead to incorrect results due to broadcasting. Please ensure they have the same size.\n",
      "  return F.mse_loss(input, target, reduction=self.reduction)\n",
      "/Users/yidanchang/Desktop/FALL2024/SI608/.venv/lib/python3.12/site-packages/torch/nn/modules/loss.py:608: UserWarning: Using a target size (torch.Size([29694])) that is different to the input size (torch.Size([29694, 1])). This will likely lead to incorrect results due to broadcasting. Please ensure they have the same size.\n",
      "  return F.mse_loss(input, target, reduction=self.reduction)\n",
      "/Users/yidanchang/Desktop/FALL2024/SI608/.venv/lib/python3.12/site-packages/torch/nn/modules/loss.py:608: UserWarning: Using a target size (torch.Size([29694])) that is different to the input size (torch.Size([29694, 1])). This will likely lead to incorrect results due to broadcasting. Please ensure they have the same size.\n",
      "  return F.mse_loss(input, target, reduction=self.reduction)\n",
      "/Users/yidanchang/Desktop/FALL2024/SI608/.venv/lib/python3.12/site-packages/torch/nn/modules/loss.py:608: UserWarning: Using a target size (torch.Size([29694])) that is different to the input size (torch.Size([29694, 1])). This will likely lead to incorrect results due to broadcasting. Please ensure they have the same size.\n",
      "  return F.mse_loss(input, target, reduction=self.reduction)\n",
      "/Users/yidanchang/Desktop/FALL2024/SI608/.venv/lib/python3.12/site-packages/torch/nn/modules/loss.py:608: UserWarning: Using a target size (torch.Size([29694])) that is different to the input size (torch.Size([29694, 1])). This will likely lead to incorrect results due to broadcasting. Please ensure they have the same size.\n",
      "  return F.mse_loss(input, target, reduction=self.reduction)\n",
      "/Users/yidanchang/Desktop/FALL2024/SI608/.venv/lib/python3.12/site-packages/torch/nn/modules/loss.py:608: UserWarning: Using a target size (torch.Size([29694])) that is different to the input size (torch.Size([29694, 1])). This will likely lead to incorrect results due to broadcasting. Please ensure they have the same size.\n",
      "  return F.mse_loss(input, target, reduction=self.reduction)\n"
     ]
    },
    {
     "name": "stdout",
     "output_type": "stream",
     "text": [
      "Epoch 70:\n",
      "MSE Loss: 430.5115\n",
      "MAE: 5.6825\n",
      "R2 Score: 0.0005\n",
      "------------------------------\n"
     ]
    },
    {
     "name": "stderr",
     "output_type": "stream",
     "text": [
      "/Users/yidanchang/Desktop/FALL2024/SI608/.venv/lib/python3.12/site-packages/torch/nn/modules/loss.py:608: UserWarning: Using a target size (torch.Size([29694])) that is different to the input size (torch.Size([29694, 1])). This will likely lead to incorrect results due to broadcasting. Please ensure they have the same size.\n",
      "  return F.mse_loss(input, target, reduction=self.reduction)\n",
      "/Users/yidanchang/Desktop/FALL2024/SI608/.venv/lib/python3.12/site-packages/torch/nn/modules/loss.py:608: UserWarning: Using a target size (torch.Size([29694])) that is different to the input size (torch.Size([29694, 1])). This will likely lead to incorrect results due to broadcasting. Please ensure they have the same size.\n",
      "  return F.mse_loss(input, target, reduction=self.reduction)\n",
      "/Users/yidanchang/Desktop/FALL2024/SI608/.venv/lib/python3.12/site-packages/torch/nn/modules/loss.py:608: UserWarning: Using a target size (torch.Size([29694])) that is different to the input size (torch.Size([29694, 1])). This will likely lead to incorrect results due to broadcasting. Please ensure they have the same size.\n",
      "  return F.mse_loss(input, target, reduction=self.reduction)\n",
      "/Users/yidanchang/Desktop/FALL2024/SI608/.venv/lib/python3.12/site-packages/torch/nn/modules/loss.py:608: UserWarning: Using a target size (torch.Size([29694])) that is different to the input size (torch.Size([29694, 1])). This will likely lead to incorrect results due to broadcasting. Please ensure they have the same size.\n",
      "  return F.mse_loss(input, target, reduction=self.reduction)\n",
      "/Users/yidanchang/Desktop/FALL2024/SI608/.venv/lib/python3.12/site-packages/torch/nn/modules/loss.py:608: UserWarning: Using a target size (torch.Size([29694])) that is different to the input size (torch.Size([29694, 1])). This will likely lead to incorrect results due to broadcasting. Please ensure they have the same size.\n",
      "  return F.mse_loss(input, target, reduction=self.reduction)\n",
      "/Users/yidanchang/Desktop/FALL2024/SI608/.venv/lib/python3.12/site-packages/torch/nn/modules/loss.py:608: UserWarning: Using a target size (torch.Size([29694])) that is different to the input size (torch.Size([29694, 1])). This will likely lead to incorrect results due to broadcasting. Please ensure they have the same size.\n",
      "  return F.mse_loss(input, target, reduction=self.reduction)\n",
      "/Users/yidanchang/Desktop/FALL2024/SI608/.venv/lib/python3.12/site-packages/torch/nn/modules/loss.py:608: UserWarning: Using a target size (torch.Size([29694])) that is different to the input size (torch.Size([29694, 1])). This will likely lead to incorrect results due to broadcasting. Please ensure they have the same size.\n",
      "  return F.mse_loss(input, target, reduction=self.reduction)\n",
      "/Users/yidanchang/Desktop/FALL2024/SI608/.venv/lib/python3.12/site-packages/torch/nn/modules/loss.py:608: UserWarning: Using a target size (torch.Size([29694])) that is different to the input size (torch.Size([29694, 1])). This will likely lead to incorrect results due to broadcasting. Please ensure they have the same size.\n",
      "  return F.mse_loss(input, target, reduction=self.reduction)\n",
      "/Users/yidanchang/Desktop/FALL2024/SI608/.venv/lib/python3.12/site-packages/torch/nn/modules/loss.py:608: UserWarning: Using a target size (torch.Size([29694])) that is different to the input size (torch.Size([29694, 1])). This will likely lead to incorrect results due to broadcasting. Please ensure they have the same size.\n",
      "  return F.mse_loss(input, target, reduction=self.reduction)\n"
     ]
    },
    {
     "name": "stdout",
     "output_type": "stream",
     "text": [
      "\n",
      "最终模型性能:\n",
      "MSE: 430.1070\n",
      "MAE: 5.6910\n",
      "R2 Score: 0.0007\n"
     ]
    },
    {
     "data": {
      "image/png": "[encoded data removed]",
      "text/plain": [
       "<Figure size 640x480 with 1 Axes>"
      ]
     },
     "metadata": {},
     "output_type": "display_data"
    }
   ],
   "source": [
    "\n",
    "def train_and_evaluate_temporal_gnn(train, valid):\n",
    "    # 准备图数据\n",
    "    x, edge_index, edge_attr, node_ids = prepare_temporal_graph_data(train, valid)\n",
    "    \n",
    "    # 定义模型超参数\n",
    "    num_features = x.shape[1]\n",
    "    hidden_channels = 64\n",
    "    \n",
    "    # 初始化模型\n",
    "    model = TemporalAuthorGNN(num_features, hidden_channels)\n",
    "    \n",
    "    # 损失函数和优化器\n",
    "    optimizer = torch.optim.Adam(model.parameters(), lr=0.01)\n",
    "    mse_criterion = torch.nn.MSELoss()\n",
    "    \n",
    "    # 准备验证集目标值\n",
    "    valid_author_ids = valid['author_id'].unique()\n",
    "    valid_targets = []\n",
    "    valid_indices = []\n",
    "    \n",
    "    for author_id in valid_author_ids:\n",
    "        author_index = node_ids.index(author_id)\n",
    "        valid_target = valid[valid['author_id'] == author_id]['n_citation'].values[0]\n",
    "        \n",
    "        valid_targets.append(valid_target)\n",
    "        valid_indices.append(author_index)\n",
    "    \n",
    "    valid_targets = torch.tensor(valid_targets, dtype=torch.float)\n",
    "    \n",
    "    # 训练循环\n",
    "    model.train()\n",
    "    best_mae = float('inf')\n",
    "    best_model = None\n",
    "    \n",
    "    for epoch in range(80):\n",
    "        optimizer.zero_grad()\n",
    "        \n",
    "        # 前向传播\n",
    "        predictions = model(x, edge_index, edge_attr)\n",
    "        \n",
    "        # 计算损失\n",
    "        loss = mse_criterion(predictions[valid_indices], valid_targets)\n",
    "        \n",
    "        # 反向传播\n",
    "        loss.backward()\n",
    "        optimizer.step()\n",
    "        \n",
    "        # 模型评估\n",
    "        with torch.no_grad():\n",
    "            model.eval()\n",
    "            pred_values = predictions[valid_indices].numpy()\n",
    "            true_values = valid_targets.numpy()\n",
    "            \n",
    "            # 计算评估指标\n",
    "            mae = mean_absolute_error(true_values, pred_values)\n",
    "            r2 = r2_score(true_values, pred_values)\n",
    "            \n",
    "            # 保存最佳模型\n",
    "            if mae < best_mae:\n",
    "                best_mae = mae\n",
    "                best_model = model.state_dict().copy()\n",
    "            \n",
    "            # 每10轮打印一次评估指标\n",
    "            if epoch % 10 == 0:\n",
    "                print(f'Epoch {epoch}:')\n",
    "                print(f'MSE Loss: {loss.item():.4f}')\n",
    "                print(f'MAE: {mae:.4f}')\n",
    "                print(f'R2 Score: {r2:.4f}')\n",
    "                print('-' * 30)\n",
    "    \n",
    "    # 恢复最佳模型\n",
    "    model.load_state_dict(best_model)\n",
    "    \n",
    "    # 最终评估\n",
    "    model.eval()\n",
    "    with torch.no_grad():\n",
    "        final_predictions = model(x, edge_index, edge_attr)[valid_indices].numpy()\n",
    "        final_true_values = valid_targets.numpy()\n",
    "        \n",
    "        final_mse = mean_squared_error(final_true_values, final_predictions)\n",
    "        final_mae = mean_absolute_error(final_true_values, final_predictions)\n",
    "        final_r2 = r2_score(final_true_values, final_predictions)\n",
    "        \n",
    "        print(\"\\n最终模型性能:\")\n",
    "        print(f\"MSE: {final_mse:.4f}\")\n",
    "        print(f\"MAE: {final_mae:.4f}\")\n",
    "        print(f\"R2 Score: {final_r2:.4f}\")\n",
    "    \n",
    "    # 可视化预测结果\n",
    "    # plt.figure(figsize=(10, 6))\n",
    "    # plt.scatter(final_true_values, final_predictions)\n",
    "    # plt.plot([final_true_values.min(), final_true_values.max()], \n",
    "    #          [final_true_values.min(), final_true_values.max()], \n",
    "    #          'r--', lw=2)\n",
    "    # plt.xlabel(\"True Citations\")\n",
    "    # plt.ylabel(\"Predicted Citations\")\n",
    "    # plt.title(\"True vs Predicted Citations\")\n",
    "    plt.scatter(final_true_values, final_predictions)\n",
    "    plt.plot([final_true_values.min(), final_true_values.max()], \n",
    "            [final_true_values.min(), final_true_values.max()], \n",
    "            'r--', lw=2)\n",
    "    plt.xlabel(\"True Citation Increment\")\n",
    "    plt.ylabel(\"Predicted Citation Increment\")\n",
    "    plt.title(\"True vs Predicted Citation Increment\")\n",
    "\n",
    "    plt.show()\n",
    "    \n",
    "    return model, final_predictions, {\n",
    "        'mse': final_mse,\n",
    "        'mae': final_mae,\n",
    "        'r2': final_r2\n",
    "    }\n",
    "\n",
    "# 使用示例\n",
    "model, predictions, metrics = train_and_evaluate_temporal_gnn(train, valid)"
   ]
  },
  {
   "cell_type": "code",
   "execution_count": 80,
   "metadata": {},
   "outputs": [
    {
     "data": {
      "text/plain": [
       "(29694, 1)"
      ]
     },
     "execution_count": 80,
     "metadata": {},
     "output_type": "execute_result"
    }
   ],
   "source": [
    "predictions.shape"
   ]
  },
  {
   "cell_type": "code",
   "execution_count": 98,
   "metadata": {},
   "outputs": [
    {
     "name": "stdout",
     "output_type": "stream",
     "text": [
      "[[3.6793044]\n",
      " [4.027608 ]\n",
      " [4.2797637]\n",
      " ...\n",
      " [4.0865855]\n",
      " [3.7077227]\n",
      " [4.4538975]]\n"
     ]
    }
   ],
   "source": [
    "print(predictions)"
   ]
  },
  {
   "cell_type": "code",
   "execution_count": 101,
   "metadata": {},
   "outputs": [
    {
     "name": "stdout",
     "output_type": "stream",
     "text": [
      "Collecting seaborn\n",
      "  Using cached seaborn-0.13.2-py3-none-any.whl.metadata (5.4 kB)\n",
      "Requirement already satisfied: numpy!=1.24.0,>=1.20 in /Users/yidanchang/Desktop/FALL2024/SI608/.venv/lib/python3.12/site-packages (from seaborn) (2.1.1)\n",
      "Requirement already satisfied: pandas>=1.2 in /Users/yidanchang/Desktop/FALL2024/SI608/.venv/lib/python3.12/site-packages (from seaborn) (2.2.3)\n",
      "Requirement already satisfied: matplotlib!=3.6.1,>=3.4 in /Users/yidanchang/Desktop/FALL2024/SI608/.venv/lib/python3.12/site-packages (from seaborn) (3.9.2)\n",
      "Requirement already satisfied: contourpy>=1.0.1 in /Users/yidanchang/Desktop/FALL2024/SI608/.venv/lib/python3.12/site-packages (from matplotlib!=3.6.1,>=3.4->seaborn) (1.3.0)\n",
      "Requirement already satisfied: cycler>=0.10 in /Users/yidanchang/Desktop/FALL2024/SI608/.venv/lib/python3.12/site-packages (from matplotlib!=3.6.1,>=3.4->seaborn) (0.12.1)\n",
      "Requirement already satisfied: fonttools>=4.22.0 in /Users/yidanchang/Desktop/FALL2024/SI608/.venv/lib/python3.12/site-packages (from matplotlib!=3.6.1,>=3.4->seaborn) (4.53.1)\n",
      "Requirement already satisfied: kiwisolver>=1.3.1 in /Users/yidanchang/Desktop/FALL2024/SI608/.venv/lib/python3.12/site-packages (from matplotlib!=3.6.1,>=3.4->seaborn) (1.4.7)\n",
      "Requirement already satisfied: packaging>=20.0 in /Users/yidanchang/Desktop/FALL2024/SI608/.venv/lib/python3.12/site-packages (from matplotlib!=3.6.1,>=3.4->seaborn) (24.1)\n",
      "Requirement already satisfied: pillow>=8 in /Users/yidanchang/Desktop/FALL2024/SI608/.venv/lib/python3.12/site-packages (from matplotlib!=3.6.1,>=3.4->seaborn) (10.4.0)\n",
      "Requirement already satisfied: pyparsing>=2.3.1 in /Users/yidanchang/Desktop/FALL2024/SI608/.venv/lib/python3.12/site-packages (from matplotlib!=3.6.1,>=3.4->seaborn) (3.1.4)\n",
      "Requirement already satisfied: python-dateutil>=2.7 in /Users/yidanchang/Desktop/FALL2024/SI608/.venv/lib/python3.12/site-packages (from matplotlib!=3.6.1,>=3.4->seaborn) (2.9.0.post0)\n",
      "Requirement already satisfied: pytz>=2020.1 in /Users/yidanchang/Desktop/FALL2024/SI608/.venv/lib/python3.12/site-packages (from pandas>=1.2->seaborn) (2024.2)\n",
      "Requirement already satisfied: tzdata>=2022.7 in /Users/yidanchang/Desktop/FALL2024/SI608/.venv/lib/python3.12/site-packages (from pandas>=1.2->seaborn) (2024.2)\n",
      "Requirement already satisfied: six>=1.5 in /Users/yidanchang/Desktop/FALL2024/SI608/.venv/lib/python3.12/site-packages (from python-dateutil>=2.7->matplotlib!=3.6.1,>=3.4->seaborn) (1.16.0)\n",
      "Using cached seaborn-0.13.2-py3-none-any.whl (294 kB)\n",
      "Installing collected packages: seaborn\n",
      "Successfully installed seaborn-0.13.2\n",
      "\n",
      "\u001b[1m[\u001b[0m\u001b[34;49mnotice\u001b[0m\u001b[1;39;49m]\u001b[0m\u001b[39;49m A new release of pip is available: \u001b[0m\u001b[31;49m24.2\u001b[0m\u001b[39;49m -> \u001b[0m\u001b[32;49m24.3.1\u001b[0m\n",
      "\u001b[1m[\u001b[0m\u001b[34;49mnotice\u001b[0m\u001b[1;39;49m]\u001b[0m\u001b[39;49m To update, run: \u001b[0m\u001b[32;49mpip install --upgrade pip\u001b[0m\n",
      "Note: you may need to restart the kernel to use updated packages.\n"
     ]
    }
   ],
   "source": [
    "pip install seaborn"
   ]
  },
  {
   "cell_type": "code",
   "execution_count": 102,
   "metadata": {},
   "outputs": [
    {
     "name": "stdout",
     "output_type": "stream",
     "text": [
      "20%阈值准确率: 0.0526\n",
      "10%阈值准确率: 0.0284\n"
     ]
    },
    {
     "data": {
      "image/png": "[encoded data removed]",
      "text/plain": [
       "<Figure size 1200x600 with 2 Axes>"
      ]
     },
     "metadata": {},
     "output_type": "display_data"
    },
    {
     "name": "stdout",
     "output_type": "stream",
     "text": [
      "Accuracy_10.0%: 0.0284\n",
      "Mean_Error_10.0%: 0.0424\n",
      "Count_10.0%: 844.0000\n",
      "Accuracy_20.0%: 0.0526\n",
      "Mean_Error_20.0%: 0.0946\n",
      "Count_20.0%: 1563.0000\n",
      "Accuracy_30.0%: 0.0723\n",
      "Mean_Error_30.0%: 0.1384\n",
      "Count_30.0%: 2146.0000\n",
      "Accuracy_50.0%: 0.1497\n",
      "Mean_Error_50.0%: 0.2718\n",
      "Count_50.0%: 4446.0000\n"
     ]
    }
   ],
   "source": [
    "predictions_1d = predictions.reshape(-1)\n",
    "\n",
    "# 创建一个包含index和预测值的Series\n",
    "predicted_citations_series = pd.Series(predictions_1d, index=valid.index)\n",
    "\n",
    "\n",
    "# 将预测值添加到验证集DataFrame\n",
    "valid_with_predictions = valid.copy()\n",
    "valid_with_predictions['predicted_citations'] = predicted_citations_series\n",
    "\n",
    "# 计算相对误差\n",
    "valid_with_predictions['relative_error'] = np.abs(\n",
    "    valid_with_predictions['n_citation'] - valid_with_predictions['predicted_citations']\n",
    ") / valid_with_predictions['n_citation']\n",
    "\n",
    "# 计算不同阈值下的准确率\n",
    "def calculate_accuracy(df, threshold=0.2):\n",
    "    \"\"\"\n",
    "    计算在给定阈值下的准确率\n",
    "    \n",
    "    Args:\n",
    "    - df: 包含真实和预测引用数的DataFrame\n",
    "    - threshold: 相对误差阈值\n",
    "    \n",
    "    Returns:\n",
    "    - accuracy: 准确率\n",
    "    \"\"\"\n",
    "    accurate_predictions = df[df['relative_error'] <= threshold]\n",
    "    accuracy = len(accurate_predictions) / len(df)\n",
    "    return accuracy\n",
    "\n",
    "# 计算不同阈值的准确率\n",
    "accuracy_20percent = calculate_accuracy(valid_with_predictions, threshold=0.2)\n",
    "accuracy_10percent = calculate_accuracy(valid_with_predictions, threshold=0.1)\n",
    "\n",
    "print(f\"20%阈值准确率: {accuracy_20percent:.4f}\")\n",
    "print(f\"10%阈值准确率: {accuracy_10percent:.4f}\")\n",
    "\n",
    "# 可视化预测误差分布\n",
    "import matplotlib.pyplot as plt\n",
    "import seaborn as sns\n",
    "\n",
    "plt.figure(figsize=(12, 6))\n",
    "\n",
    "# 相对误差直方图\n",
    "plt.subplot(1, 2, 1)\n",
    "sns.histplot(valid_with_predictions['relative_error'], bins=30, kde=True)\n",
    "plt.title('Relative Error Distribution')\n",
    "plt.xlabel('Relative Error')\n",
    "plt.ylabel('Frequency')\n",
    "\n",
    "# 真实值vs预测值散点图\n",
    "plt.subplot(1, 2, 2)\n",
    "plt.scatter(\n",
    "    valid_with_predictions['n_citation'], \n",
    "    valid_with_predictions['predicted_citations']\n",
    ")\n",
    "plt.plot(\n",
    "    [valid_with_predictions['n_citation'].min(), valid_with_predictions['n_citation'].max()],\n",
    "    [valid_with_predictions['n_citation'].min(), valid_with_predictions['n_citation'].max()],\n",
    "    'r--', \n",
    "    lw=2\n",
    ")\n",
    "plt.title('True vs Predicted Citations')\n",
    "plt.xlabel('True Citations')\n",
    "plt.ylabel('Predicted Citations')\n",
    "\n",
    "plt.tight_layout()\n",
    "plt.show()\n",
    "\n",
    "# 详细的准确率分析\n",
    "def detailed_accuracy_analysis(df, thresholds=[0.1, 0.2, 0.3, 0.5]):\n",
    "    \"\"\"\n",
    "    详细分析不同阈值下的准确率\n",
    "    \n",
    "    Args:\n",
    "    - df: 包含真实和预测引用数的DataFrame\n",
    "    - thresholds: 要分析的相对误差阈值列表\n",
    "    \n",
    "    Returns:\n",
    "    - accuracy_results: 不同阈值下的准确率\n",
    "    \"\"\"\n",
    "    accuracy_results = {}\n",
    "    for threshold in thresholds:\n",
    "        accuracy = calculate_accuracy(df, threshold)\n",
    "        accuracy_results[f'Accuracy_{threshold*100}%'] = accuracy\n",
    "        \n",
    "        # 额外的统计信息\n",
    "        accurate_predictions = df[df['relative_error'] <= threshold]\n",
    "        accuracy_results[f'Mean_Error_{threshold*100}%'] = accurate_predictions['relative_error'].mean()\n",
    "        accuracy_results[f'Count_{threshold*100}%'] = len(accurate_predictions)\n",
    "    \n",
    "    return accuracy_results\n",
    "\n",
    "# 执行详细准确率分析\n",
    "detailed_results = detailed_accuracy_analysis(valid_with_predictions)\n",
    "for key, value in detailed_results.items():\n",
    "    print(f\"{key}: {value:.4f}\")"
   ]
  },
  {
   "cell_type": "markdown",
   "metadata": {},
   "source": [
    "#### 加入nx版本"
   ]
  },
  {
   "cell_type": "code",
   "execution_count": 108,
   "metadata": {},
   "outputs": [],
   "source": [
    "import torch\n",
    "import networkx as nx\n",
    "from torch_geometric.data import Data\n",
    "from sklearn.metrics import mean_absolute_error, r2_score, mean_squared_error\n",
    "import matplotlib.pyplot as plt\n",
    "\n",
    "# Step 1: 将 NetworkX 图转换为 PyTorch Geometric 格式\n",
    "def prepare_graph_data(train):\n",
    "    G_train = nx.Graph()\n",
    "    \n",
    "    # 添加节点\n",
    "    author_id_to_index = {}  # 用于映射 author_id 到节点索引\n",
    "    node_id = 0  # 节点ID从0开始\n",
    "    for index, row in train.iterrows():\n",
    "        author_id = row['author_id']\n",
    "        if not G_train.has_node(author_id):\n",
    "            G_train.add_node(\n",
    "                author_id,\n",
    "                name=row['author_name'],\n",
    "                org=row['standard_org'],\n",
    "                total_citation=row[\"total_citation\"], \n",
    "                total_paper=row[\"total_paper\"],\n",
    "                avg_reference=row[\"avg_reference\"],     \n",
    "                keywords=row[\"total_keyword\"],   \n",
    "            )\n",
    "            author_id_to_index[author_id] = node_id  # 将 author_id 映射到当前节点 ID\n",
    "            node_id += 1  # 更新节点ID\n",
    "    \n",
    "    # 添加边\n",
    "    for paper_id, group in train.groupby('id'):\n",
    "        authors = group['author_id'].tolist()\n",
    "        for i in range(len(authors)):\n",
    "            for j in range(i + 1, len(authors)):\n",
    "                author1 = authors[i]\n",
    "                author2 = authors[j]\n",
    "                if G_train.has_edge(author1, author2):\n",
    "                    G_train[author1][author2]['papers'].append({\n",
    "                        'id': paper_id,\n",
    "                        'n_citation': group['n_citation'].iloc[0],  # 本篇文章的引用数\n",
    "                    })\n",
    "                else:\n",
    "                    G_train.add_edge(author1, author2, papers=[{\n",
    "                        'id': paper_id,\n",
    "                        'n_citation': group['n_citation'].iloc[0],\n",
    "                    }])\n",
    "    \n",
    "    # 转换为 PyTorch Geometric 格式\n",
    "    edge_index = torch.tensor(list(G_train.edges), dtype=torch.long).t().contiguous()\n",
    "    edge_attr = torch.tensor([data['papers'][0]['n_citation'] for _, _, data in G_train.edges(data=True)], dtype=torch.float).view(-1, 1)\n",
    "    \n",
    "    # 获取节点特征 (选择一些基本特征)\n",
    "    node_features = []\n",
    "    for node in G_train.nodes(data=True):\n",
    "        features = [\n",
    "            node[1]['total_citation'],  # total_citation\n",
    "            node[1]['total_paper'],     # total_paper\n",
    "            node[1]['avg_reference'],   # avg_reference\n",
    "        ]\n",
    "        node_features.append(features)\n",
    "    \n",
    "    x = torch.tensor(node_features, dtype=torch.float)\n",
    "    \n",
    "    data = Data(x=x, edge_index=edge_index, edge_attr=edge_attr)\n",
    "    \n",
    "    return data, author_id_to_index"
   ]
  },
  {
   "cell_type": "code",
   "execution_count": 113,
   "metadata": {},
   "outputs": [
    {
     "name": "stdout",
     "output_type": "stream",
     "text": [
      "Empty DataFrame\n",
      "Columns: [index, author_id, author_name, standard_org, id, title, year, n_citation, doc_type, reference_count, references, venue_id, venue_name, venue_type, doi, keyword, volume, issue, publisher, total_citation, total_paper, avg_reference, total_keyword]\n",
      "Index: []\n",
      "\n",
      "[0 rows x 23 columns]\n"
     ]
    }
   ],
   "source": [
    "print(valid.loc[valid['author_id'] == '2009849051'])"
   ]
  },
  {
   "cell_type": "code",
   "execution_count": 120,
   "metadata": {},
   "outputs": [
    {
     "name": "stderr",
     "output_type": "stream",
     "text": [
      "/var/folders/p5/grng0bpx24988f1v2318bx6w0000gn/T/ipykernel_33374/152240381.py:53: RuntimeWarning: invalid value encountered in scalar divide\n",
      "  'recent_citation_ratio': group[group['year'] > group['year'].max() - 3]['n_citation'].sum()/ group['n_citation'].sum(),\n",
      "/var/folders/p5/grng0bpx24988f1v2318bx6w0000gn/T/ipykernel_33374/152240381.py:58: DeprecationWarning: DataFrameGroupBy.apply operated on the grouping columns. This behavior is deprecated, and in a future version of pandas the grouping columns will be excluded from the operation. Either pass `include_groups=False` to exclude the groupings or explicitly select the grouping columns after groupby to silence this warning.\n",
      "  author_features = train.groupby('author_id').apply(extract_author_features)\n",
      "/Users/yidanchang/Desktop/FALL2024/SI608/.venv/lib/python3.12/site-packages/torch/nn/modules/loss.py:608: UserWarning: Using a target size (torch.Size([29694])) that is different to the input size (torch.Size([29694, 1])). This will likely lead to incorrect results due to broadcasting. Please ensure they have the same size.\n",
      "  return F.mse_loss(input, target, reduction=self.reduction)\n"
     ]
    },
    {
     "name": "stdout",
     "output_type": "stream",
     "text": [
      "Epoch 0:\n",
      "MSE Loss: 450.6155\n",
      "MAE: 4.4936\n",
      "R2 Score: -0.0510\n",
      "------------------------------\n"
     ]
    },
    {
     "name": "stderr",
     "output_type": "stream",
     "text": [
      "/Users/yidanchang/Desktop/FALL2024/SI608/.venv/lib/python3.12/site-packages/torch/nn/modules/loss.py:608: UserWarning: Using a target size (torch.Size([29694])) that is different to the input size (torch.Size([29694, 1])). This will likely lead to incorrect results due to broadcasting. Please ensure they have the same size.\n",
      "  return F.mse_loss(input, target, reduction=self.reduction)\n",
      "/Users/yidanchang/Desktop/FALL2024/SI608/.venv/lib/python3.12/site-packages/torch/nn/modules/loss.py:608: UserWarning: Using a target size (torch.Size([29694])) that is different to the input size (torch.Size([29694, 1])). This will likely lead to incorrect results due to broadcasting. Please ensure they have the same size.\n",
      "  return F.mse_loss(input, target, reduction=self.reduction)\n",
      "/Users/yidanchang/Desktop/FALL2024/SI608/.venv/lib/python3.12/site-packages/torch/nn/modules/loss.py:608: UserWarning: Using a target size (torch.Size([29694])) that is different to the input size (torch.Size([29694, 1])). This will likely lead to incorrect results due to broadcasting. Please ensure they have the same size.\n",
      "  return F.mse_loss(input, target, reduction=self.reduction)\n",
      "/Users/yidanchang/Desktop/FALL2024/SI608/.venv/lib/python3.12/site-packages/torch/nn/modules/loss.py:608: UserWarning: Using a target size (torch.Size([29694])) that is different to the input size (torch.Size([29694, 1])). This will likely lead to incorrect results due to broadcasting. Please ensure they have the same size.\n",
      "  return F.mse_loss(input, target, reduction=self.reduction)\n",
      "/Users/yidanchang/Desktop/FALL2024/SI608/.venv/lib/python3.12/site-packages/torch/nn/modules/loss.py:608: UserWarning: Using a target size (torch.Size([29694])) that is different to the input size (torch.Size([29694, 1])). This will likely lead to incorrect results due to broadcasting. Please ensure they have the same size.\n",
      "  return F.mse_loss(input, target, reduction=self.reduction)\n",
      "/Users/yidanchang/Desktop/FALL2024/SI608/.venv/lib/python3.12/site-packages/torch/nn/modules/loss.py:608: UserWarning: Using a target size (torch.Size([29694])) that is different to the input size (torch.Size([29694, 1])). This will likely lead to incorrect results due to broadcasting. Please ensure they have the same size.\n",
      "  return F.mse_loss(input, target, reduction=self.reduction)\n",
      "/Users/yidanchang/Desktop/FALL2024/SI608/.venv/lib/python3.12/site-packages/torch/nn/modules/loss.py:608: UserWarning: Using a target size (torch.Size([29694])) that is different to the input size (torch.Size([29694, 1])). This will likely lead to incorrect results due to broadcasting. Please ensure they have the same size.\n",
      "  return F.mse_loss(input, target, reduction=self.reduction)\n",
      "/Users/yidanchang/Desktop/FALL2024/SI608/.venv/lib/python3.12/site-packages/torch/nn/modules/loss.py:608: UserWarning: Using a target size (torch.Size([29694])) that is different to the input size (torch.Size([29694, 1])). This will likely lead to incorrect results due to broadcasting. Please ensure they have the same size.\n",
      "  return F.mse_loss(input, target, reduction=self.reduction)\n",
      "/Users/yidanchang/Desktop/FALL2024/SI608/.venv/lib/python3.12/site-packages/torch/nn/modules/loss.py:608: UserWarning: Using a target size (torch.Size([29694])) that is different to the input size (torch.Size([29694, 1])). This will likely lead to incorrect results due to broadcasting. Please ensure they have the same size.\n",
      "  return F.mse_loss(input, target, reduction=self.reduction)\n",
      "/Users/yidanchang/Desktop/FALL2024/SI608/.venv/lib/python3.12/site-packages/torch/nn/modules/loss.py:608: UserWarning: Using a target size (torch.Size([29694])) that is different to the input size (torch.Size([29694, 1])). This will likely lead to incorrect results due to broadcasting. Please ensure they have the same size.\n",
      "  return F.mse_loss(input, target, reduction=self.reduction)\n"
     ]
    },
    {
     "name": "stdout",
     "output_type": "stream",
     "text": [
      "Epoch 10:\n",
      "MSE Loss: 435.2096\n",
      "MAE: 4.8203\n",
      "R2 Score: -0.0141\n",
      "------------------------------\n"
     ]
    },
    {
     "name": "stderr",
     "output_type": "stream",
     "text": [
      "/Users/yidanchang/Desktop/FALL2024/SI608/.venv/lib/python3.12/site-packages/torch/nn/modules/loss.py:608: UserWarning: Using a target size (torch.Size([29694])) that is different to the input size (torch.Size([29694, 1])). This will likely lead to incorrect results due to broadcasting. Please ensure they have the same size.\n",
      "  return F.mse_loss(input, target, reduction=self.reduction)\n",
      "/Users/yidanchang/Desktop/FALL2024/SI608/.venv/lib/python3.12/site-packages/torch/nn/modules/loss.py:608: UserWarning: Using a target size (torch.Size([29694])) that is different to the input size (torch.Size([29694, 1])). This will likely lead to incorrect results due to broadcasting. Please ensure they have the same size.\n",
      "  return F.mse_loss(input, target, reduction=self.reduction)\n",
      "/Users/yidanchang/Desktop/FALL2024/SI608/.venv/lib/python3.12/site-packages/torch/nn/modules/loss.py:608: UserWarning: Using a target size (torch.Size([29694])) that is different to the input size (torch.Size([29694, 1])). This will likely lead to incorrect results due to broadcasting. Please ensure they have the same size.\n",
      "  return F.mse_loss(input, target, reduction=self.reduction)\n",
      "/Users/yidanchang/Desktop/FALL2024/SI608/.venv/lib/python3.12/site-packages/torch/nn/modules/loss.py:608: UserWarning: Using a target size (torch.Size([29694])) that is different to the input size (torch.Size([29694, 1])). This will likely lead to incorrect results due to broadcasting. Please ensure they have the same size.\n",
      "  return F.mse_loss(input, target, reduction=self.reduction)\n",
      "/Users/yidanchang/Desktop/FALL2024/SI608/.venv/lib/python3.12/site-packages/torch/nn/modules/loss.py:608: UserWarning: Using a target size (torch.Size([29694])) that is different to the input size (torch.Size([29694, 1])). This will likely lead to incorrect results due to broadcasting. Please ensure they have the same size.\n",
      "  return F.mse_loss(input, target, reduction=self.reduction)\n",
      "/Users/yidanchang/Desktop/FALL2024/SI608/.venv/lib/python3.12/site-packages/torch/nn/modules/loss.py:608: UserWarning: Using a target size (torch.Size([29694])) that is different to the input size (torch.Size([29694, 1])). This will likely lead to incorrect results due to broadcasting. Please ensure they have the same size.\n",
      "  return F.mse_loss(input, target, reduction=self.reduction)\n",
      "/Users/yidanchang/Desktop/FALL2024/SI608/.venv/lib/python3.12/site-packages/torch/nn/modules/loss.py:608: UserWarning: Using a target size (torch.Size([29694])) that is different to the input size (torch.Size([29694, 1])). This will likely lead to incorrect results due to broadcasting. Please ensure they have the same size.\n",
      "  return F.mse_loss(input, target, reduction=self.reduction)\n",
      "/Users/yidanchang/Desktop/FALL2024/SI608/.venv/lib/python3.12/site-packages/torch/nn/modules/loss.py:608: UserWarning: Using a target size (torch.Size([29694])) that is different to the input size (torch.Size([29694, 1])). This will likely lead to incorrect results due to broadcasting. Please ensure they have the same size.\n",
      "  return F.mse_loss(input, target, reduction=self.reduction)\n",
      "/Users/yidanchang/Desktop/FALL2024/SI608/.venv/lib/python3.12/site-packages/torch/nn/modules/loss.py:608: UserWarning: Using a target size (torch.Size([29694])) that is different to the input size (torch.Size([29694, 1])). This will likely lead to incorrect results due to broadcasting. Please ensure they have the same size.\n",
      "  return F.mse_loss(input, target, reduction=self.reduction)\n",
      "/Users/yidanchang/Desktop/FALL2024/SI608/.venv/lib/python3.12/site-packages/torch/nn/modules/loss.py:608: UserWarning: Using a target size (torch.Size([29694])) that is different to the input size (torch.Size([29694, 1])). This will likely lead to incorrect results due to broadcasting. Please ensure they have the same size.\n",
      "  return F.mse_loss(input, target, reduction=self.reduction)\n"
     ]
    },
    {
     "name": "stdout",
     "output_type": "stream",
     "text": [
      "Epoch 20:\n",
      "MSE Loss: 432.5714\n",
      "MAE: 5.9540\n",
      "R2 Score: -0.0148\n",
      "------------------------------\n"
     ]
    },
    {
     "name": "stderr",
     "output_type": "stream",
     "text": [
      "/Users/yidanchang/Desktop/FALL2024/SI608/.venv/lib/python3.12/site-packages/torch/nn/modules/loss.py:608: UserWarning: Using a target size (torch.Size([29694])) that is different to the input size (torch.Size([29694, 1])). This will likely lead to incorrect results due to broadcasting. Please ensure they have the same size.\n",
      "  return F.mse_loss(input, target, reduction=self.reduction)\n",
      "/Users/yidanchang/Desktop/FALL2024/SI608/.venv/lib/python3.12/site-packages/torch/nn/modules/loss.py:608: UserWarning: Using a target size (torch.Size([29694])) that is different to the input size (torch.Size([29694, 1])). This will likely lead to incorrect results due to broadcasting. Please ensure they have the same size.\n",
      "  return F.mse_loss(input, target, reduction=self.reduction)\n",
      "/Users/yidanchang/Desktop/FALL2024/SI608/.venv/lib/python3.12/site-packages/torch/nn/modules/loss.py:608: UserWarning: Using a target size (torch.Size([29694])) that is different to the input size (torch.Size([29694, 1])). This will likely lead to incorrect results due to broadcasting. Please ensure they have the same size.\n",
      "  return F.mse_loss(input, target, reduction=self.reduction)\n",
      "/Users/yidanchang/Desktop/FALL2024/SI608/.venv/lib/python3.12/site-packages/torch/nn/modules/loss.py:608: UserWarning: Using a target size (torch.Size([29694])) that is different to the input size (torch.Size([29694, 1])). This will likely lead to incorrect results due to broadcasting. Please ensure they have the same size.\n",
      "  return F.mse_loss(input, target, reduction=self.reduction)\n",
      "/Users/yidanchang/Desktop/FALL2024/SI608/.venv/lib/python3.12/site-packages/torch/nn/modules/loss.py:608: UserWarning: Using a target size (torch.Size([29694])) that is different to the input size (torch.Size([29694, 1])). This will likely lead to incorrect results due to broadcasting. Please ensure they have the same size.\n",
      "  return F.mse_loss(input, target, reduction=self.reduction)\n",
      "/Users/yidanchang/Desktop/FALL2024/SI608/.venv/lib/python3.12/site-packages/torch/nn/modules/loss.py:608: UserWarning: Using a target size (torch.Size([29694])) that is different to the input size (torch.Size([29694, 1])). This will likely lead to incorrect results due to broadcasting. Please ensure they have the same size.\n",
      "  return F.mse_loss(input, target, reduction=self.reduction)\n",
      "/Users/yidanchang/Desktop/FALL2024/SI608/.venv/lib/python3.12/site-packages/torch/nn/modules/loss.py:608: UserWarning: Using a target size (torch.Size([29694])) that is different to the input size (torch.Size([29694, 1])). This will likely lead to incorrect results due to broadcasting. Please ensure they have the same size.\n",
      "  return F.mse_loss(input, target, reduction=self.reduction)\n",
      "/Users/yidanchang/Desktop/FALL2024/SI608/.venv/lib/python3.12/site-packages/torch/nn/modules/loss.py:608: UserWarning: Using a target size (torch.Size([29694])) that is different to the input size (torch.Size([29694, 1])). This will likely lead to incorrect results due to broadcasting. Please ensure they have the same size.\n",
      "  return F.mse_loss(input, target, reduction=self.reduction)\n",
      "/Users/yidanchang/Desktop/FALL2024/SI608/.venv/lib/python3.12/site-packages/torch/nn/modules/loss.py:608: UserWarning: Using a target size (torch.Size([29694])) that is different to the input size (torch.Size([29694, 1])). This will likely lead to incorrect results due to broadcasting. Please ensure they have the same size.\n",
      "  return F.mse_loss(input, target, reduction=self.reduction)\n",
      "/Users/yidanchang/Desktop/FALL2024/SI608/.venv/lib/python3.12/site-packages/torch/nn/modules/loss.py:608: UserWarning: Using a target size (torch.Size([29694])) that is different to the input size (torch.Size([29694, 1])). This will likely lead to incorrect results due to broadcasting. Please ensure they have the same size.\n",
      "  return F.mse_loss(input, target, reduction=self.reduction)\n"
     ]
    },
    {
     "name": "stdout",
     "output_type": "stream",
     "text": [
      "Epoch 30:\n",
      "MSE Loss: 431.4259\n",
      "MAE: 5.5426\n",
      "R2 Score: -0.0061\n",
      "------------------------------\n"
     ]
    },
    {
     "name": "stderr",
     "output_type": "stream",
     "text": [
      "/Users/yidanchang/Desktop/FALL2024/SI608/.venv/lib/python3.12/site-packages/torch/nn/modules/loss.py:608: UserWarning: Using a target size (torch.Size([29694])) that is different to the input size (torch.Size([29694, 1])). This will likely lead to incorrect results due to broadcasting. Please ensure they have the same size.\n",
      "  return F.mse_loss(input, target, reduction=self.reduction)\n",
      "/Users/yidanchang/Desktop/FALL2024/SI608/.venv/lib/python3.12/site-packages/torch/nn/modules/loss.py:608: UserWarning: Using a target size (torch.Size([29694])) that is different to the input size (torch.Size([29694, 1])). This will likely lead to incorrect results due to broadcasting. Please ensure they have the same size.\n",
      "  return F.mse_loss(input, target, reduction=self.reduction)\n",
      "/Users/yidanchang/Desktop/FALL2024/SI608/.venv/lib/python3.12/site-packages/torch/nn/modules/loss.py:608: UserWarning: Using a target size (torch.Size([29694])) that is different to the input size (torch.Size([29694, 1])). This will likely lead to incorrect results due to broadcasting. Please ensure they have the same size.\n",
      "  return F.mse_loss(input, target, reduction=self.reduction)\n",
      "/Users/yidanchang/Desktop/FALL2024/SI608/.venv/lib/python3.12/site-packages/torch/nn/modules/loss.py:608: UserWarning: Using a target size (torch.Size([29694])) that is different to the input size (torch.Size([29694, 1])). This will likely lead to incorrect results due to broadcasting. Please ensure they have the same size.\n",
      "  return F.mse_loss(input, target, reduction=self.reduction)\n",
      "/Users/yidanchang/Desktop/FALL2024/SI608/.venv/lib/python3.12/site-packages/torch/nn/modules/loss.py:608: UserWarning: Using a target size (torch.Size([29694])) that is different to the input size (torch.Size([29694, 1])). This will likely lead to incorrect results due to broadcasting. Please ensure they have the same size.\n",
      "  return F.mse_loss(input, target, reduction=self.reduction)\n",
      "/Users/yidanchang/Desktop/FALL2024/SI608/.venv/lib/python3.12/site-packages/torch/nn/modules/loss.py:608: UserWarning: Using a target size (torch.Size([29694])) that is different to the input size (torch.Size([29694, 1])). This will likely lead to incorrect results due to broadcasting. Please ensure they have the same size.\n",
      "  return F.mse_loss(input, target, reduction=self.reduction)\n",
      "/Users/yidanchang/Desktop/FALL2024/SI608/.venv/lib/python3.12/site-packages/torch/nn/modules/loss.py:608: UserWarning: Using a target size (torch.Size([29694])) that is different to the input size (torch.Size([29694, 1])). This will likely lead to incorrect results due to broadcasting. Please ensure they have the same size.\n",
      "  return F.mse_loss(input, target, reduction=self.reduction)\n",
      "/Users/yidanchang/Desktop/FALL2024/SI608/.venv/lib/python3.12/site-packages/torch/nn/modules/loss.py:608: UserWarning: Using a target size (torch.Size([29694])) that is different to the input size (torch.Size([29694, 1])). This will likely lead to incorrect results due to broadcasting. Please ensure they have the same size.\n",
      "  return F.mse_loss(input, target, reduction=self.reduction)\n",
      "/Users/yidanchang/Desktop/FALL2024/SI608/.venv/lib/python3.12/site-packages/torch/nn/modules/loss.py:608: UserWarning: Using a target size (torch.Size([29694])) that is different to the input size (torch.Size([29694, 1])). This will likely lead to incorrect results due to broadcasting. Please ensure they have the same size.\n",
      "  return F.mse_loss(input, target, reduction=self.reduction)\n",
      "/Users/yidanchang/Desktop/FALL2024/SI608/.venv/lib/python3.12/site-packages/torch/nn/modules/loss.py:608: UserWarning: Using a target size (torch.Size([29694])) that is different to the input size (torch.Size([29694, 1])). This will likely lead to incorrect results due to broadcasting. Please ensure they have the same size.\n",
      "  return F.mse_loss(input, target, reduction=self.reduction)\n"
     ]
    },
    {
     "name": "stdout",
     "output_type": "stream",
     "text": [
      "Epoch 40:\n",
      "MSE Loss: 430.8441\n",
      "MAE: 5.6942\n",
      "R2 Score: -0.0018\n",
      "------------------------------\n"
     ]
    },
    {
     "name": "stderr",
     "output_type": "stream",
     "text": [
      "/Users/yidanchang/Desktop/FALL2024/SI608/.venv/lib/python3.12/site-packages/torch/nn/modules/loss.py:608: UserWarning: Using a target size (torch.Size([29694])) that is different to the input size (torch.Size([29694, 1])). This will likely lead to incorrect results due to broadcasting. Please ensure they have the same size.\n",
      "  return F.mse_loss(input, target, reduction=self.reduction)\n",
      "/Users/yidanchang/Desktop/FALL2024/SI608/.venv/lib/python3.12/site-packages/torch/nn/modules/loss.py:608: UserWarning: Using a target size (torch.Size([29694])) that is different to the input size (torch.Size([29694, 1])). This will likely lead to incorrect results due to broadcasting. Please ensure they have the same size.\n",
      "  return F.mse_loss(input, target, reduction=self.reduction)\n",
      "/Users/yidanchang/Desktop/FALL2024/SI608/.venv/lib/python3.12/site-packages/torch/nn/modules/loss.py:608: UserWarning: Using a target size (torch.Size([29694])) that is different to the input size (torch.Size([29694, 1])). This will likely lead to incorrect results due to broadcasting. Please ensure they have the same size.\n",
      "  return F.mse_loss(input, target, reduction=self.reduction)\n",
      "/Users/yidanchang/Desktop/FALL2024/SI608/.venv/lib/python3.12/site-packages/torch/nn/modules/loss.py:608: UserWarning: Using a target size (torch.Size([29694])) that is different to the input size (torch.Size([29694, 1])). This will likely lead to incorrect results due to broadcasting. Please ensure they have the same size.\n",
      "  return F.mse_loss(input, target, reduction=self.reduction)\n",
      "/Users/yidanchang/Desktop/FALL2024/SI608/.venv/lib/python3.12/site-packages/torch/nn/modules/loss.py:608: UserWarning: Using a target size (torch.Size([29694])) that is different to the input size (torch.Size([29694, 1])). This will likely lead to incorrect results due to broadcasting. Please ensure they have the same size.\n",
      "  return F.mse_loss(input, target, reduction=self.reduction)\n",
      "/Users/yidanchang/Desktop/FALL2024/SI608/.venv/lib/python3.12/site-packages/torch/nn/modules/loss.py:608: UserWarning: Using a target size (torch.Size([29694])) that is different to the input size (torch.Size([29694, 1])). This will likely lead to incorrect results due to broadcasting. Please ensure they have the same size.\n",
      "  return F.mse_loss(input, target, reduction=self.reduction)\n",
      "/Users/yidanchang/Desktop/FALL2024/SI608/.venv/lib/python3.12/site-packages/torch/nn/modules/loss.py:608: UserWarning: Using a target size (torch.Size([29694])) that is different to the input size (torch.Size([29694, 1])). This will likely lead to incorrect results due to broadcasting. Please ensure they have the same size.\n",
      "  return F.mse_loss(input, target, reduction=self.reduction)\n",
      "/Users/yidanchang/Desktop/FALL2024/SI608/.venv/lib/python3.12/site-packages/torch/nn/modules/loss.py:608: UserWarning: Using a target size (torch.Size([29694])) that is different to the input size (torch.Size([29694, 1])). This will likely lead to incorrect results due to broadcasting. Please ensure they have the same size.\n",
      "  return F.mse_loss(input, target, reduction=self.reduction)\n",
      "/Users/yidanchang/Desktop/FALL2024/SI608/.venv/lib/python3.12/site-packages/torch/nn/modules/loss.py:608: UserWarning: Using a target size (torch.Size([29694])) that is different to the input size (torch.Size([29694, 1])). This will likely lead to incorrect results due to broadcasting. Please ensure they have the same size.\n",
      "  return F.mse_loss(input, target, reduction=self.reduction)\n",
      "/Users/yidanchang/Desktop/FALL2024/SI608/.venv/lib/python3.12/site-packages/torch/nn/modules/loss.py:608: UserWarning: Using a target size (torch.Size([29694])) that is different to the input size (torch.Size([29694, 1])). This will likely lead to incorrect results due to broadcasting. Please ensure they have the same size.\n",
      "  return F.mse_loss(input, target, reduction=self.reduction)\n"
     ]
    },
    {
     "name": "stdout",
     "output_type": "stream",
     "text": [
      "Epoch 50:\n",
      "MSE Loss: 430.5706\n",
      "MAE: 5.6656\n",
      "R2 Score: 0.0009\n",
      "------------------------------\n"
     ]
    },
    {
     "name": "stderr",
     "output_type": "stream",
     "text": [
      "/Users/yidanchang/Desktop/FALL2024/SI608/.venv/lib/python3.12/site-packages/torch/nn/modules/loss.py:608: UserWarning: Using a target size (torch.Size([29694])) that is different to the input size (torch.Size([29694, 1])). This will likely lead to incorrect results due to broadcasting. Please ensure they have the same size.\n",
      "  return F.mse_loss(input, target, reduction=self.reduction)\n",
      "/Users/yidanchang/Desktop/FALL2024/SI608/.venv/lib/python3.12/site-packages/torch/nn/modules/loss.py:608: UserWarning: Using a target size (torch.Size([29694])) that is different to the input size (torch.Size([29694, 1])). This will likely lead to incorrect results due to broadcasting. Please ensure they have the same size.\n",
      "  return F.mse_loss(input, target, reduction=self.reduction)\n",
      "/Users/yidanchang/Desktop/FALL2024/SI608/.venv/lib/python3.12/site-packages/torch/nn/modules/loss.py:608: UserWarning: Using a target size (torch.Size([29694])) that is different to the input size (torch.Size([29694, 1])). This will likely lead to incorrect results due to broadcasting. Please ensure they have the same size.\n",
      "  return F.mse_loss(input, target, reduction=self.reduction)\n",
      "/Users/yidanchang/Desktop/FALL2024/SI608/.venv/lib/python3.12/site-packages/torch/nn/modules/loss.py:608: UserWarning: Using a target size (torch.Size([29694])) that is different to the input size (torch.Size([29694, 1])). This will likely lead to incorrect results due to broadcasting. Please ensure they have the same size.\n",
      "  return F.mse_loss(input, target, reduction=self.reduction)\n",
      "/Users/yidanchang/Desktop/FALL2024/SI608/.venv/lib/python3.12/site-packages/torch/nn/modules/loss.py:608: UserWarning: Using a target size (torch.Size([29694])) that is different to the input size (torch.Size([29694, 1])). This will likely lead to incorrect results due to broadcasting. Please ensure they have the same size.\n",
      "  return F.mse_loss(input, target, reduction=self.reduction)\n",
      "/Users/yidanchang/Desktop/FALL2024/SI608/.venv/lib/python3.12/site-packages/torch/nn/modules/loss.py:608: UserWarning: Using a target size (torch.Size([29694])) that is different to the input size (torch.Size([29694, 1])). This will likely lead to incorrect results due to broadcasting. Please ensure they have the same size.\n",
      "  return F.mse_loss(input, target, reduction=self.reduction)\n",
      "/Users/yidanchang/Desktop/FALL2024/SI608/.venv/lib/python3.12/site-packages/torch/nn/modules/loss.py:608: UserWarning: Using a target size (torch.Size([29694])) that is different to the input size (torch.Size([29694, 1])). This will likely lead to incorrect results due to broadcasting. Please ensure they have the same size.\n",
      "  return F.mse_loss(input, target, reduction=self.reduction)\n",
      "/Users/yidanchang/Desktop/FALL2024/SI608/.venv/lib/python3.12/site-packages/torch/nn/modules/loss.py:608: UserWarning: Using a target size (torch.Size([29694])) that is different to the input size (torch.Size([29694, 1])). This will likely lead to incorrect results due to broadcasting. Please ensure they have the same size.\n",
      "  return F.mse_loss(input, target, reduction=self.reduction)\n",
      "/Users/yidanchang/Desktop/FALL2024/SI608/.venv/lib/python3.12/site-packages/torch/nn/modules/loss.py:608: UserWarning: Using a target size (torch.Size([29694])) that is different to the input size (torch.Size([29694, 1])). This will likely lead to incorrect results due to broadcasting. Please ensure they have the same size.\n",
      "  return F.mse_loss(input, target, reduction=self.reduction)\n",
      "/Users/yidanchang/Desktop/FALL2024/SI608/.venv/lib/python3.12/site-packages/torch/nn/modules/loss.py:608: UserWarning: Using a target size (torch.Size([29694])) that is different to the input size (torch.Size([29694, 1])). This will likely lead to incorrect results due to broadcasting. Please ensure they have the same size.\n",
      "  return F.mse_loss(input, target, reduction=self.reduction)\n"
     ]
    },
    {
     "name": "stdout",
     "output_type": "stream",
     "text": [
      "Epoch 60:\n",
      "MSE Loss: 430.4772\n",
      "MAE: 5.7422\n",
      "R2 Score: 0.0017\n",
      "------------------------------\n"
     ]
    },
    {
     "name": "stderr",
     "output_type": "stream",
     "text": [
      "/Users/yidanchang/Desktop/FALL2024/SI608/.venv/lib/python3.12/site-packages/torch/nn/modules/loss.py:608: UserWarning: Using a target size (torch.Size([29694])) that is different to the input size (torch.Size([29694, 1])). This will likely lead to incorrect results due to broadcasting. Please ensure they have the same size.\n",
      "  return F.mse_loss(input, target, reduction=self.reduction)\n",
      "/Users/yidanchang/Desktop/FALL2024/SI608/.venv/lib/python3.12/site-packages/torch/nn/modules/loss.py:608: UserWarning: Using a target size (torch.Size([29694])) that is different to the input size (torch.Size([29694, 1])). This will likely lead to incorrect results due to broadcasting. Please ensure they have the same size.\n",
      "  return F.mse_loss(input, target, reduction=self.reduction)\n",
      "/Users/yidanchang/Desktop/FALL2024/SI608/.venv/lib/python3.12/site-packages/torch/nn/modules/loss.py:608: UserWarning: Using a target size (torch.Size([29694])) that is different to the input size (torch.Size([29694, 1])). This will likely lead to incorrect results due to broadcasting. Please ensure they have the same size.\n",
      "  return F.mse_loss(input, target, reduction=self.reduction)\n",
      "/Users/yidanchang/Desktop/FALL2024/SI608/.venv/lib/python3.12/site-packages/torch/nn/modules/loss.py:608: UserWarning: Using a target size (torch.Size([29694])) that is different to the input size (torch.Size([29694, 1])). This will likely lead to incorrect results due to broadcasting. Please ensure they have the same size.\n",
      "  return F.mse_loss(input, target, reduction=self.reduction)\n",
      "/Users/yidanchang/Desktop/FALL2024/SI608/.venv/lib/python3.12/site-packages/torch/nn/modules/loss.py:608: UserWarning: Using a target size (torch.Size([29694])) that is different to the input size (torch.Size([29694, 1])). This will likely lead to incorrect results due to broadcasting. Please ensure they have the same size.\n",
      "  return F.mse_loss(input, target, reduction=self.reduction)\n",
      "/Users/yidanchang/Desktop/FALL2024/SI608/.venv/lib/python3.12/site-packages/torch/nn/modules/loss.py:608: UserWarning: Using a target size (torch.Size([29694])) that is different to the input size (torch.Size([29694, 1])). This will likely lead to incorrect results due to broadcasting. Please ensure they have the same size.\n",
      "  return F.mse_loss(input, target, reduction=self.reduction)\n",
      "/Users/yidanchang/Desktop/FALL2024/SI608/.venv/lib/python3.12/site-packages/torch/nn/modules/loss.py:608: UserWarning: Using a target size (torch.Size([29694])) that is different to the input size (torch.Size([29694, 1])). This will likely lead to incorrect results due to broadcasting. Please ensure they have the same size.\n",
      "  return F.mse_loss(input, target, reduction=self.reduction)\n",
      "/Users/yidanchang/Desktop/FALL2024/SI608/.venv/lib/python3.12/site-packages/torch/nn/modules/loss.py:608: UserWarning: Using a target size (torch.Size([29694])) that is different to the input size (torch.Size([29694, 1])). This will likely lead to incorrect results due to broadcasting. Please ensure they have the same size.\n",
      "  return F.mse_loss(input, target, reduction=self.reduction)\n",
      "/Users/yidanchang/Desktop/FALL2024/SI608/.venv/lib/python3.12/site-packages/torch/nn/modules/loss.py:608: UserWarning: Using a target size (torch.Size([29694])) that is different to the input size (torch.Size([29694, 1])). This will likely lead to incorrect results due to broadcasting. Please ensure they have the same size.\n",
      "  return F.mse_loss(input, target, reduction=self.reduction)\n",
      "/Users/yidanchang/Desktop/FALL2024/SI608/.venv/lib/python3.12/site-packages/torch/nn/modules/loss.py:608: UserWarning: Using a target size (torch.Size([29694])) that is different to the input size (torch.Size([29694, 1])). This will likely lead to incorrect results due to broadcasting. Please ensure they have the same size.\n",
      "  return F.mse_loss(input, target, reduction=self.reduction)\n"
     ]
    },
    {
     "name": "stdout",
     "output_type": "stream",
     "text": [
      "Epoch 70:\n",
      "MSE Loss: 430.4439\n",
      "MAE: 5.6695\n",
      "R2 Score: 0.0006\n",
      "------------------------------\n"
     ]
    },
    {
     "name": "stderr",
     "output_type": "stream",
     "text": [
      "/Users/yidanchang/Desktop/FALL2024/SI608/.venv/lib/python3.12/site-packages/torch/nn/modules/loss.py:608: UserWarning: Using a target size (torch.Size([29694])) that is different to the input size (torch.Size([29694, 1])). This will likely lead to incorrect results due to broadcasting. Please ensure they have the same size.\n",
      "  return F.mse_loss(input, target, reduction=self.reduction)\n",
      "/Users/yidanchang/Desktop/FALL2024/SI608/.venv/lib/python3.12/site-packages/torch/nn/modules/loss.py:608: UserWarning: Using a target size (torch.Size([29694])) that is different to the input size (torch.Size([29694, 1])). This will likely lead to incorrect results due to broadcasting. Please ensure they have the same size.\n",
      "  return F.mse_loss(input, target, reduction=self.reduction)\n",
      "/Users/yidanchang/Desktop/FALL2024/SI608/.venv/lib/python3.12/site-packages/torch/nn/modules/loss.py:608: UserWarning: Using a target size (torch.Size([29694])) that is different to the input size (torch.Size([29694, 1])). This will likely lead to incorrect results due to broadcasting. Please ensure they have the same size.\n",
      "  return F.mse_loss(input, target, reduction=self.reduction)\n",
      "/Users/yidanchang/Desktop/FALL2024/SI608/.venv/lib/python3.12/site-packages/torch/nn/modules/loss.py:608: UserWarning: Using a target size (torch.Size([29694])) that is different to the input size (torch.Size([29694, 1])). This will likely lead to incorrect results due to broadcasting. Please ensure they have the same size.\n",
      "  return F.mse_loss(input, target, reduction=self.reduction)\n",
      "/Users/yidanchang/Desktop/FALL2024/SI608/.venv/lib/python3.12/site-packages/torch/nn/modules/loss.py:608: UserWarning: Using a target size (torch.Size([29694])) that is different to the input size (torch.Size([29694, 1])). This will likely lead to incorrect results due to broadcasting. Please ensure they have the same size.\n",
      "  return F.mse_loss(input, target, reduction=self.reduction)\n",
      "/Users/yidanchang/Desktop/FALL2024/SI608/.venv/lib/python3.12/site-packages/torch/nn/modules/loss.py:608: UserWarning: Using a target size (torch.Size([29694])) that is different to the input size (torch.Size([29694, 1])). This will likely lead to incorrect results due to broadcasting. Please ensure they have the same size.\n",
      "  return F.mse_loss(input, target, reduction=self.reduction)\n",
      "/Users/yidanchang/Desktop/FALL2024/SI608/.venv/lib/python3.12/site-packages/torch/nn/modules/loss.py:608: UserWarning: Using a target size (torch.Size([29694])) that is different to the input size (torch.Size([29694, 1])). This will likely lead to incorrect results due to broadcasting. Please ensure they have the same size.\n",
      "  return F.mse_loss(input, target, reduction=self.reduction)\n",
      "/Users/yidanchang/Desktop/FALL2024/SI608/.venv/lib/python3.12/site-packages/torch/nn/modules/loss.py:608: UserWarning: Using a target size (torch.Size([29694])) that is different to the input size (torch.Size([29694, 1])). This will likely lead to incorrect results due to broadcasting. Please ensure they have the same size.\n",
      "  return F.mse_loss(input, target, reduction=self.reduction)\n",
      "/Users/yidanchang/Desktop/FALL2024/SI608/.venv/lib/python3.12/site-packages/torch/nn/modules/loss.py:608: UserWarning: Using a target size (torch.Size([29694])) that is different to the input size (torch.Size([29694, 1])). This will likely lead to incorrect results due to broadcasting. Please ensure they have the same size.\n",
      "  return F.mse_loss(input, target, reduction=self.reduction)\n"
     ]
    },
    {
     "name": "stdout",
     "output_type": "stream",
     "text": [
      "\n",
      "最终模型性能:\n",
      "MSE: 430.0771\n",
      "MAE: 5.7354\n",
      "R2 Score: 0.0007\n"
     ]
    },
    {
     "data": {
      "image/png": "[encoded data removed]",
      "text/plain": [
       "<Figure size 640x480 with 1 Axes>"
      ]
     },
     "metadata": {},
     "output_type": "display_data"
    }
   ],
   "source": [
    "def train_and_evaluate_temporal_gnn(train, valid):\n",
    "    # 准备图数据\n",
    "    x, edge_index, edge_attr, node_ids = prepare_temporal_graph_data(train, valid)\n",
    "    \n",
    "    # 创建 author_id 到图节点索引的映射\n",
    "    author_to_index = {author_id: idx for idx, author_id in enumerate(node_ids)}\n",
    "\n",
    "    # 定义模型超参数\n",
    "    num_features = x.shape[1]\n",
    "    hidden_channels = 64\n",
    "    \n",
    "    # 初始化模型\n",
    "    model = TemporalAuthorGNN(num_features, hidden_channels)\n",
    "    \n",
    "    # 损失函数和优化器\n",
    "    optimizer = torch.optim.Adam(model.parameters(), lr=0.01)\n",
    "    mse_criterion = torch.nn.MSELoss()\n",
    "    \n",
    "    # 准备验证集目标值\n",
    "    valid_author_ids = valid['author_id'].unique()\n",
    "    valid_targets = []\n",
    "    valid_indices = []\n",
    "    \n",
    "    for author_id in valid_author_ids:\n",
    "        if author_id in author_to_index:\n",
    "            author_index = author_to_index[author_id]\n",
    "            valid_target = valid[valid['author_id'] == author_id]['n_citation'].values[0]\n",
    "            \n",
    "            valid_targets.append(valid_target)\n",
    "            valid_indices.append(author_index)\n",
    "    \n",
    "    valid_targets = torch.tensor(valid_targets, dtype=torch.float)\n",
    "    \n",
    "    # 训练循环\n",
    "    model.train()\n",
    "    best_mae = float('inf')\n",
    "    best_model = None\n",
    "    \n",
    "    for epoch in range(80):\n",
    "        optimizer.zero_grad()\n",
    "        \n",
    "        # 前向传播\n",
    "        predictions = model(x, edge_index, edge_attr)\n",
    "        \n",
    "        # 计算损失\n",
    "        loss = mse_criterion(predictions[valid_indices], valid_targets)\n",
    "        \n",
    "        # 反向传播\n",
    "        loss.backward()\n",
    "        optimizer.step()\n",
    "        \n",
    "        # 模型评估\n",
    "        with torch.no_grad():\n",
    "            model.eval()\n",
    "            pred_values = predictions[valid_indices].numpy()\n",
    "            true_values = valid_targets.numpy()\n",
    "            \n",
    "            # 计算评估指标\n",
    "            mae = mean_absolute_error(true_values, pred_values)\n",
    "            r2 = r2_score(true_values, pred_values)\n",
    "            \n",
    "            # 保存最佳模型\n",
    "            if mae < best_mae:\n",
    "                best_mae = mae\n",
    "                best_model = model.state_dict().copy()\n",
    "            \n",
    "            # 每10轮打印一次评估指标\n",
    "            if epoch % 10 == 0:\n",
    "                print(f'Epoch {epoch}:')\n",
    "                print(f'MSE Loss: {loss.item():.4f}')\n",
    "                print(f'MAE: {mae:.4f}')\n",
    "                print(f'R2 Score: {r2:.4f}')\n",
    "                print('-' * 30)\n",
    "    \n",
    "    # 恢复最佳模型\n",
    "    model.load_state_dict(best_model)\n",
    "    \n",
    "    # 最终评估\n",
    "    model.eval()\n",
    "    with torch.no_grad():\n",
    "        final_predictions = model(x, edge_index, edge_attr)[valid_indices].numpy()\n",
    "        final_true_values = valid_targets.numpy()\n",
    "        \n",
    "        final_mse = mean_squared_error(final_true_values, final_predictions)\n",
    "        final_mae = mean_absolute_error(final_true_values, final_predictions)\n",
    "        final_r2 = r2_score(final_true_values, final_predictions)\n",
    "        \n",
    "        print(\"\\n最终模型性能:\")\n",
    "        print(f\"MSE: {final_mse:.4f}\")\n",
    "        print(f\"MAE: {final_mae:.4f}\")\n",
    "        print(f\"R2 Score: {final_r2:.4f}\")\n",
    "    \n",
    "    # 可视化预测结果\n",
    "    plt.scatter(final_true_values, final_predictions)\n",
    "    plt.plot([final_true_values.min(), final_true_values.max()], \n",
    "            [final_true_values.min(), final_true_values.max()], \n",
    "            'r--', lw=2)\n",
    "    plt.xlabel(\"True Citation Increment\")\n",
    "    plt.ylabel(\"Predicted Citation Increment\")\n",
    "    plt.title(\"True vs Predicted Citation Increment\")\n",
    "    plt.show()\n",
    "    \n",
    "    return model, final_predictions, {\n",
    "        'mse': final_mse,\n",
    "        'mae': final_mae,\n",
    "        'r2': final_r2\n",
    "    }\n",
    "\n",
    "\n",
    "# 使用示例\n",
    "model, predictions, metrics = train_and_evaluate_temporal_gnn(train, valid)\n"
   ]
  },
  {
   "cell_type": "code",
   "execution_count": 87,
   "metadata": {},
   "outputs": [
    {
     "name": "stderr",
     "output_type": "stream",
     "text": [
      "/var/folders/p5/grng0bpx24988f1v2318bx6w0000gn/T/ipykernel_33374/604933992.py:76: DeprecationWarning: DataFrameGroupBy.apply operated on the grouping columns. This behavior is deprecated, and in a future version of pandas the grouping columns will be excluded from the operation. Either pass `include_groups=False` to exclude the groupings or explicitly select the grouping columns after groupby to silence this warning.\n",
      "  author_features = train.groupby('author_id').apply(extract_author_features)\n",
      "/var/folders/p5/grng0bpx24988f1v2318bx6w0000gn/T/ipykernel_33374/604933992.py:123: UserWarning: Creating a tensor from a list of numpy.ndarrays is extremely slow. Please consider converting the list to a single numpy.ndarray with numpy.array() before converting to a tensor. (Triggered internally at /Users/runner/work/pytorch/pytorch/pytorch/torch/csrc/utils/tensor_new.cpp:281.)\n",
      "  edge_attr = torch.tensor(edge_attrs, dtype=torch.float)\n"
     ]
    },
    {
     "ename": "RuntimeError",
     "evalue": "The size of tensor a (10186040) must match the size of tensor b (1018604) at non-singleton dimension 0",
     "output_type": "error",
     "traceback": [
      "\u001b[0;31m---------------------------------------------------------------------------\u001b[0m",
      "\u001b[0;31mRuntimeError\u001b[0m                              Traceback (most recent call last)",
      "Cell \u001b[0;32mIn[87], line 289\u001b[0m\n\u001b[1;32m    284\u001b[0m     \u001b[38;5;28;01mreturn\u001b[39;00m avg_metrics\n\u001b[1;32m    286\u001b[0m \u001b[38;5;66;03m# 使用示例\u001b[39;00m\n\u001b[1;32m    287\u001b[0m \u001b[38;5;66;03m# cross_validation(train_data)\u001b[39;00m\n\u001b[1;32m    288\u001b[0m \u001b[38;5;66;03m# 或\u001b[39;00m\n\u001b[0;32m--> 289\u001b[0m model, predictions, metrics \u001b[38;5;241m=\u001b[39m \u001b[43mtrain_and_evaluate_temporal_gnn\u001b[49m\u001b[43m(\u001b[49m\u001b[43mtrain\u001b[49m\u001b[43m,\u001b[49m\u001b[43m \u001b[49m\u001b[43mvalid\u001b[49m\u001b[43m)\u001b[49m\n",
      "Cell \u001b[0;32mIn[87], line 179\u001b[0m, in \u001b[0;36mtrain_and_evaluate_temporal_gnn\u001b[0;34m(train, valid)\u001b[0m\n\u001b[1;32m    176\u001b[0m optimizer\u001b[38;5;241m.\u001b[39mzero_grad()\n\u001b[1;32m    178\u001b[0m \u001b[38;5;66;03m# 前向传播\u001b[39;00m\n\u001b[0;32m--> 179\u001b[0m predictions \u001b[38;5;241m=\u001b[39m \u001b[43mmodel\u001b[49m\u001b[43m(\u001b[49m\u001b[43mx\u001b[49m\u001b[43m,\u001b[49m\u001b[43m \u001b[49m\u001b[43medge_index\u001b[49m\u001b[43m,\u001b[49m\u001b[43m \u001b[49m\u001b[43medge_attr\u001b[49m\u001b[43m)\u001b[49m\n\u001b[1;32m    181\u001b[0m \u001b[38;5;66;03m# 计算损失\u001b[39;00m\n\u001b[1;32m    182\u001b[0m loss \u001b[38;5;241m=\u001b[39m mse_criterion(predictions[valid_indices], valid_targets)\n",
      "File \u001b[0;32m~/Desktop/FALL2024/SI608/.venv/lib/python3.12/site-packages/torch/nn/modules/module.py:1736\u001b[0m, in \u001b[0;36mModule._wrapped_call_impl\u001b[0;34m(self, *args, **kwargs)\u001b[0m\n\u001b[1;32m   1734\u001b[0m     \u001b[38;5;28;01mreturn\u001b[39;00m \u001b[38;5;28mself\u001b[39m\u001b[38;5;241m.\u001b[39m_compiled_call_impl(\u001b[38;5;241m*\u001b[39margs, \u001b[38;5;241m*\u001b[39m\u001b[38;5;241m*\u001b[39mkwargs)  \u001b[38;5;66;03m# type: ignore[misc]\u001b[39;00m\n\u001b[1;32m   1735\u001b[0m \u001b[38;5;28;01melse\u001b[39;00m:\n\u001b[0;32m-> 1736\u001b[0m     \u001b[38;5;28;01mreturn\u001b[39;00m \u001b[38;5;28;43mself\u001b[39;49m\u001b[38;5;241;43m.\u001b[39;49m\u001b[43m_call_impl\u001b[49m\u001b[43m(\u001b[49m\u001b[38;5;241;43m*\u001b[39;49m\u001b[43margs\u001b[49m\u001b[43m,\u001b[49m\u001b[43m \u001b[49m\u001b[38;5;241;43m*\u001b[39;49m\u001b[38;5;241;43m*\u001b[39;49m\u001b[43mkwargs\u001b[49m\u001b[43m)\u001b[49m\n",
      "File \u001b[0;32m~/Desktop/FALL2024/SI608/.venv/lib/python3.12/site-packages/torch/nn/modules/module.py:1747\u001b[0m, in \u001b[0;36mModule._call_impl\u001b[0;34m(self, *args, **kwargs)\u001b[0m\n\u001b[1;32m   1742\u001b[0m \u001b[38;5;66;03m# If we don't have any hooks, we want to skip the rest of the logic in\u001b[39;00m\n\u001b[1;32m   1743\u001b[0m \u001b[38;5;66;03m# this function, and just call forward.\u001b[39;00m\n\u001b[1;32m   1744\u001b[0m \u001b[38;5;28;01mif\u001b[39;00m \u001b[38;5;129;01mnot\u001b[39;00m (\u001b[38;5;28mself\u001b[39m\u001b[38;5;241m.\u001b[39m_backward_hooks \u001b[38;5;129;01mor\u001b[39;00m \u001b[38;5;28mself\u001b[39m\u001b[38;5;241m.\u001b[39m_backward_pre_hooks \u001b[38;5;129;01mor\u001b[39;00m \u001b[38;5;28mself\u001b[39m\u001b[38;5;241m.\u001b[39m_forward_hooks \u001b[38;5;129;01mor\u001b[39;00m \u001b[38;5;28mself\u001b[39m\u001b[38;5;241m.\u001b[39m_forward_pre_hooks\n\u001b[1;32m   1745\u001b[0m         \u001b[38;5;129;01mor\u001b[39;00m _global_backward_pre_hooks \u001b[38;5;129;01mor\u001b[39;00m _global_backward_hooks\n\u001b[1;32m   1746\u001b[0m         \u001b[38;5;129;01mor\u001b[39;00m _global_forward_hooks \u001b[38;5;129;01mor\u001b[39;00m _global_forward_pre_hooks):\n\u001b[0;32m-> 1747\u001b[0m     \u001b[38;5;28;01mreturn\u001b[39;00m \u001b[43mforward_call\u001b[49m\u001b[43m(\u001b[49m\u001b[38;5;241;43m*\u001b[39;49m\u001b[43margs\u001b[49m\u001b[43m,\u001b[49m\u001b[43m \u001b[49m\u001b[38;5;241;43m*\u001b[39;49m\u001b[38;5;241;43m*\u001b[39;49m\u001b[43mkwargs\u001b[49m\u001b[43m)\u001b[49m\n\u001b[1;32m   1749\u001b[0m result \u001b[38;5;241m=\u001b[39m \u001b[38;5;28;01mNone\u001b[39;00m\n\u001b[1;32m   1750\u001b[0m called_always_called_hooks \u001b[38;5;241m=\u001b[39m \u001b[38;5;28mset\u001b[39m()\n",
      "Cell \u001b[0;32mIn[87], line 61\u001b[0m, in \u001b[0;36mTemporalAuthorGNN.forward\u001b[0;34m(self, x, edge_index, edge_attr)\u001b[0m\n\u001b[1;32m     60\u001b[0m \u001b[38;5;28;01mdef\u001b[39;00m \u001b[38;5;21mforward\u001b[39m(\u001b[38;5;28mself\u001b[39m, x, edge_index, edge_attr):\n\u001b[0;32m---> 61\u001b[0m     x \u001b[38;5;241m=\u001b[39m \u001b[38;5;28;43mself\u001b[39;49m\u001b[38;5;241;43m.\u001b[39;49m\u001b[43mconv1\u001b[49m\u001b[43m(\u001b[49m\u001b[43mx\u001b[49m\u001b[43m,\u001b[49m\u001b[43m \u001b[49m\u001b[43medge_index\u001b[49m\u001b[43m,\u001b[49m\u001b[43m \u001b[49m\u001b[43medge_attr\u001b[49m\u001b[43m)\u001b[49m\n\u001b[1;32m     62\u001b[0m     x \u001b[38;5;241m=\u001b[39m \u001b[38;5;28mself\u001b[39m\u001b[38;5;241m.\u001b[39mbn1(x)\n\u001b[1;32m     63\u001b[0m     x \u001b[38;5;241m=\u001b[39m F\u001b[38;5;241m.\u001b[39mrelu(x)\n",
      "File \u001b[0;32m~/Desktop/FALL2024/SI608/.venv/lib/python3.12/site-packages/torch/nn/modules/module.py:1736\u001b[0m, in \u001b[0;36mModule._wrapped_call_impl\u001b[0;34m(self, *args, **kwargs)\u001b[0m\n\u001b[1;32m   1734\u001b[0m     \u001b[38;5;28;01mreturn\u001b[39;00m \u001b[38;5;28mself\u001b[39m\u001b[38;5;241m.\u001b[39m_compiled_call_impl(\u001b[38;5;241m*\u001b[39margs, \u001b[38;5;241m*\u001b[39m\u001b[38;5;241m*\u001b[39mkwargs)  \u001b[38;5;66;03m# type: ignore[misc]\u001b[39;00m\n\u001b[1;32m   1735\u001b[0m \u001b[38;5;28;01melse\u001b[39;00m:\n\u001b[0;32m-> 1736\u001b[0m     \u001b[38;5;28;01mreturn\u001b[39;00m \u001b[38;5;28;43mself\u001b[39;49m\u001b[38;5;241;43m.\u001b[39;49m\u001b[43m_call_impl\u001b[49m\u001b[43m(\u001b[49m\u001b[38;5;241;43m*\u001b[39;49m\u001b[43margs\u001b[49m\u001b[43m,\u001b[49m\u001b[43m \u001b[49m\u001b[38;5;241;43m*\u001b[39;49m\u001b[38;5;241;43m*\u001b[39;49m\u001b[43mkwargs\u001b[49m\u001b[43m)\u001b[49m\n",
      "File \u001b[0;32m~/Desktop/FALL2024/SI608/.venv/lib/python3.12/site-packages/torch/nn/modules/module.py:1747\u001b[0m, in \u001b[0;36mModule._call_impl\u001b[0;34m(self, *args, **kwargs)\u001b[0m\n\u001b[1;32m   1742\u001b[0m \u001b[38;5;66;03m# If we don't have any hooks, we want to skip the rest of the logic in\u001b[39;00m\n\u001b[1;32m   1743\u001b[0m \u001b[38;5;66;03m# this function, and just call forward.\u001b[39;00m\n\u001b[1;32m   1744\u001b[0m \u001b[38;5;28;01mif\u001b[39;00m \u001b[38;5;129;01mnot\u001b[39;00m (\u001b[38;5;28mself\u001b[39m\u001b[38;5;241m.\u001b[39m_backward_hooks \u001b[38;5;129;01mor\u001b[39;00m \u001b[38;5;28mself\u001b[39m\u001b[38;5;241m.\u001b[39m_backward_pre_hooks \u001b[38;5;129;01mor\u001b[39;00m \u001b[38;5;28mself\u001b[39m\u001b[38;5;241m.\u001b[39m_forward_hooks \u001b[38;5;129;01mor\u001b[39;00m \u001b[38;5;28mself\u001b[39m\u001b[38;5;241m.\u001b[39m_forward_pre_hooks\n\u001b[1;32m   1745\u001b[0m         \u001b[38;5;129;01mor\u001b[39;00m _global_backward_pre_hooks \u001b[38;5;129;01mor\u001b[39;00m _global_backward_hooks\n\u001b[1;32m   1746\u001b[0m         \u001b[38;5;129;01mor\u001b[39;00m _global_forward_hooks \u001b[38;5;129;01mor\u001b[39;00m _global_forward_pre_hooks):\n\u001b[0;32m-> 1747\u001b[0m     \u001b[38;5;28;01mreturn\u001b[39;00m \u001b[43mforward_call\u001b[49m\u001b[43m(\u001b[49m\u001b[38;5;241;43m*\u001b[39;49m\u001b[43margs\u001b[49m\u001b[43m,\u001b[49m\u001b[43m \u001b[49m\u001b[38;5;241;43m*\u001b[39;49m\u001b[38;5;241;43m*\u001b[39;49m\u001b[43mkwargs\u001b[49m\u001b[43m)\u001b[49m\n\u001b[1;32m   1749\u001b[0m result \u001b[38;5;241m=\u001b[39m \u001b[38;5;28;01mNone\u001b[39;00m\n\u001b[1;32m   1750\u001b[0m called_always_called_hooks \u001b[38;5;241m=\u001b[39m \u001b[38;5;28mset\u001b[39m()\n",
      "File \u001b[0;32m~/Desktop/FALL2024/SI608/.venv/lib/python3.12/site-packages/torch_geometric/nn/conv/tag_conv.py:90\u001b[0m, in \u001b[0;36mTAGConv.forward\u001b[0;34m(self, x, edge_index, edge_weight)\u001b[0m\n\u001b[1;32m     87\u001b[0m out \u001b[38;5;241m=\u001b[39m \u001b[38;5;28mself\u001b[39m\u001b[38;5;241m.\u001b[39mlins[\u001b[38;5;241m0\u001b[39m](x)\n\u001b[1;32m     88\u001b[0m \u001b[38;5;28;01mfor\u001b[39;00m lin \u001b[38;5;129;01min\u001b[39;00m \u001b[38;5;28mself\u001b[39m\u001b[38;5;241m.\u001b[39mlins[\u001b[38;5;241m1\u001b[39m:]:\n\u001b[1;32m     89\u001b[0m     \u001b[38;5;66;03m# propagate_type: (x: Tensor, edge_weight: OptTensor)\u001b[39;00m\n\u001b[0;32m---> 90\u001b[0m     x \u001b[38;5;241m=\u001b[39m \u001b[38;5;28;43mself\u001b[39;49m\u001b[38;5;241;43m.\u001b[39;49m\u001b[43mpropagate\u001b[49m\u001b[43m(\u001b[49m\u001b[43medge_index\u001b[49m\u001b[43m,\u001b[49m\u001b[43m \u001b[49m\u001b[43mx\u001b[49m\u001b[38;5;241;43m=\u001b[39;49m\u001b[43mx\u001b[49m\u001b[43m,\u001b[49m\u001b[43m \u001b[49m\u001b[43medge_weight\u001b[49m\u001b[38;5;241;43m=\u001b[39;49m\u001b[43medge_weight\u001b[49m\u001b[43m)\u001b[49m\n\u001b[1;32m     91\u001b[0m     out \u001b[38;5;241m=\u001b[39m out \u001b[38;5;241m+\u001b[39m lin\u001b[38;5;241m.\u001b[39mforward(x)\n\u001b[1;32m     93\u001b[0m \u001b[38;5;28;01mif\u001b[39;00m \u001b[38;5;28mself\u001b[39m\u001b[38;5;241m.\u001b[39mbias \u001b[38;5;129;01mis\u001b[39;00m \u001b[38;5;129;01mnot\u001b[39;00m \u001b[38;5;28;01mNone\u001b[39;00m:\n",
      "File \u001b[0;32m/var/folders/p5/grng0bpx24988f1v2318bx6w0000gn/T/torch_geometric.nn.conv.tag_conv_TAGConv_propagate_9srxghrc.py:209\u001b[0m, in \u001b[0;36mpropagate\u001b[0;34m(self, edge_index, x, edge_weight, size)\u001b[0m\n\u001b[1;32m    200\u001b[0m             kwargs \u001b[38;5;241m=\u001b[39m CollectArgs(\n\u001b[1;32m    201\u001b[0m                 x_j\u001b[38;5;241m=\u001b[39mhook_kwargs[\u001b[38;5;124m'\u001b[39m\u001b[38;5;124mx_j\u001b[39m\u001b[38;5;124m'\u001b[39m],\n\u001b[1;32m    202\u001b[0m                 edge_weight\u001b[38;5;241m=\u001b[39mhook_kwargs[\u001b[38;5;124m'\u001b[39m\u001b[38;5;124medge_weight\u001b[39m\u001b[38;5;124m'\u001b[39m],\n\u001b[0;32m   (...)\u001b[0m\n\u001b[1;32m    205\u001b[0m                 dim_size\u001b[38;5;241m=\u001b[39mkwargs\u001b[38;5;241m.\u001b[39mdim_size,\n\u001b[1;32m    206\u001b[0m             )\n\u001b[1;32m    207\u001b[0m \u001b[38;5;66;03m# End Message Forward Pre Hook #########################################\u001b[39;00m\n\u001b[0;32m--> 209\u001b[0m out \u001b[38;5;241m=\u001b[39m \u001b[38;5;28;43mself\u001b[39;49m\u001b[38;5;241;43m.\u001b[39;49m\u001b[43mmessage\u001b[49m\u001b[43m(\u001b[49m\n\u001b[1;32m    210\u001b[0m \u001b[43m    \u001b[49m\u001b[43mx_j\u001b[49m\u001b[38;5;241;43m=\u001b[39;49m\u001b[43mkwargs\u001b[49m\u001b[38;5;241;43m.\u001b[39;49m\u001b[43mx_j\u001b[49m\u001b[43m,\u001b[49m\n\u001b[1;32m    211\u001b[0m \u001b[43m    \u001b[49m\u001b[43medge_weight\u001b[49m\u001b[38;5;241;43m=\u001b[39;49m\u001b[43mkwargs\u001b[49m\u001b[38;5;241;43m.\u001b[39;49m\u001b[43medge_weight\u001b[49m\u001b[43m,\u001b[49m\n\u001b[1;32m    212\u001b[0m \u001b[43m\u001b[49m\u001b[43m)\u001b[49m\n\u001b[1;32m    214\u001b[0m \u001b[38;5;66;03m# Begin Message Forward Hook ###########################################\u001b[39;00m\n\u001b[1;32m    215\u001b[0m \u001b[38;5;28;01mif\u001b[39;00m \u001b[38;5;129;01mnot\u001b[39;00m torch\u001b[38;5;241m.\u001b[39mjit\u001b[38;5;241m.\u001b[39mis_scripting() \u001b[38;5;129;01mand\u001b[39;00m \u001b[38;5;129;01mnot\u001b[39;00m is_compiling():\n",
      "File \u001b[0;32m~/Desktop/FALL2024/SI608/.venv/lib/python3.12/site-packages/torch_geometric/nn/conv/tag_conv.py:99\u001b[0m, in \u001b[0;36mTAGConv.message\u001b[0;34m(self, x_j, edge_weight)\u001b[0m\n\u001b[1;32m     98\u001b[0m \u001b[38;5;28;01mdef\u001b[39;00m \u001b[38;5;21mmessage\u001b[39m(\u001b[38;5;28mself\u001b[39m, x_j: Tensor, edge_weight: OptTensor) \u001b[38;5;241m-\u001b[39m\u001b[38;5;241m>\u001b[39m Tensor:\n\u001b[0;32m---> 99\u001b[0m     \u001b[38;5;28;01mreturn\u001b[39;00m x_j \u001b[38;5;28;01mif\u001b[39;00m edge_weight \u001b[38;5;129;01mis\u001b[39;00m \u001b[38;5;28;01mNone\u001b[39;00m \u001b[38;5;28;01melse\u001b[39;00m \u001b[43medge_weight\u001b[49m\u001b[38;5;241;43m.\u001b[39;49m\u001b[43mview\u001b[49m\u001b[43m(\u001b[49m\u001b[38;5;241;43m-\u001b[39;49m\u001b[38;5;241;43m1\u001b[39;49m\u001b[43m,\u001b[49m\u001b[43m \u001b[49m\u001b[38;5;241;43m1\u001b[39;49m\u001b[43m)\u001b[49m\u001b[43m \u001b[49m\u001b[38;5;241;43m*\u001b[39;49m\u001b[43m \u001b[49m\u001b[43mx_j\u001b[49m\n",
      "\u001b[0;31mRuntimeError\u001b[0m: The size of tensor a (10186040) must match the size of tensor b (1018604) at non-singleton dimension 0"
     ]
    }
   ],
   "source": [
    "###全优化\n",
    "import torch\n",
    "import torch.nn.functional as F\n",
    "import torch_geometric.nn as pyg_nn\n",
    "from torch_geometric.data import Data\n",
    "import numpy as np\n",
    "import pandas as pd\n",
    "from sklearn.metrics import mean_absolute_error, mean_squared_error, r2_score\n",
    "from sklearn.model_selection import KFold\n",
    "import matplotlib.pyplot as plt\n",
    "\n",
    "def calculate_h_index(citations):\n",
    "    \"\"\"计算H指数\"\"\"\n",
    "    sorted_citations = sorted(citations, reverse=True)\n",
    "    h_index = 0\n",
    "    for i, cite_count in enumerate(sorted_citations, 1):\n",
    "        if cite_count >= i:\n",
    "            h_index = i\n",
    "        else:\n",
    "            break\n",
    "    return h_index\n",
    "\n",
    "def temporal_encoding(year, base=10000.0, dim=10):\n",
    "    \"\"\"\n",
    "    为年份创建正弦/余弦位置编码\n",
    "    \"\"\"\n",
    "    embeddings = np.zeros(dim)\n",
    "    for i in range(0, dim, 2):\n",
    "        embeddings[i] = np.sin(year / (base ** ((2 * i) / dim)))\n",
    "        embeddings[i+1] = np.cos(year / (base ** ((2 * i) / dim)))\n",
    "    \n",
    "    return embeddings\n",
    "\n",
    "def extract_author_features(group):\n",
    "    \"\"\"提取作者特征，增加更多维度\"\"\"\n",
    "    return {\n",
    "        'total_citation': group['n_citation'].sum(),\n",
    "        'paper_count': len(group),\n",
    "        'avg_citation': group['n_citation'].mean(),\n",
    "        'min_year': group['year'].min(),\n",
    "        'max_year': group['year'].max(),\n",
    "        'h_index': calculate_h_index(group['n_citation']),\n",
    "        'citation_variance': group['n_citation'].var(),\n",
    "        'recent_citation_ratio': group[group['year'] > group['year'].max() - 3]['n_citation'].sum() / max(group['n_citation'].sum(), 1)\n",
    "    }\n",
    "\n",
    "class TemporalAuthorGNN(torch.nn.Module):\n",
    "    def __init__(self, num_features, hidden_channels):\n",
    "        super(TemporalAuthorGNN, self).__init__()\n",
    "        # 增加更多层和复杂结构\n",
    "        self.conv1 = pyg_nn.TAGConv(num_features, hidden_channels)\n",
    "        self.conv2 = pyg_nn.TAGConv(hidden_channels, hidden_channels//2)\n",
    "        self.conv3 = pyg_nn.TAGConv(hidden_channels//2, 1)\n",
    "        \n",
    "        # 批归一化和dropout\n",
    "        self.bn1 = torch.nn.BatchNorm1d(hidden_channels)\n",
    "        self.bn2 = torch.nn.BatchNorm1d(hidden_channels//2)\n",
    "        self.dropout = torch.nn.Dropout(0.3)\n",
    "\n",
    "    def forward(self, x, edge_index, edge_attr):\n",
    "        x = self.conv1(x, edge_index, edge_attr)\n",
    "        x = self.bn1(x)\n",
    "        x = F.relu(x)\n",
    "        x = self.dropout(x)\n",
    "\n",
    "        x = self.conv2(x, edge_index, edge_attr)\n",
    "        x = self.bn2(x)\n",
    "        x = F.relu(x)\n",
    "        x = self.dropout(x)\n",
    "\n",
    "        x = self.conv3(x, edge_index, edge_attr)\n",
    "        return x\n",
    "\n",
    "def prepare_temporal_graph_data(train, valid):\n",
    "    # 计算作者历史特征\n",
    "    author_features = train.groupby('author_id').apply(extract_author_features)\n",
    "    \n",
    "    # 准备节点特征\n",
    "    node_features = []\n",
    "    node_ids = list(author_features.index)\n",
    "    \n",
    "    for node in node_ids:\n",
    "        features = [\n",
    "            author_features.loc[node]['total_citation'],\n",
    "            author_features.loc[node]['paper_count'],\n",
    "            author_features.loc[node]['avg_citation'],\n",
    "            author_features.loc[node]['max_year'] - author_features.loc[node]['min_year'] + 1,\n",
    "            author_features.loc[node]['h_index'],\n",
    "            author_features.loc[node]['citation_variance'],\n",
    "            author_features.loc[node]['recent_citation_ratio']\n",
    "        ]\n",
    "        node_features.append(features)\n",
    "    \n",
    "    # 转换节点特征\n",
    "    x = torch.tensor(node_features, dtype=torch.float)\n",
    "    \n",
    "    # 构建边和边属性\n",
    "    edges = []\n",
    "    edge_attrs = []\n",
    "    \n",
    "    # 遍历每篇论文的合作关系\n",
    "    for paper_id, group in train.groupby('id'):\n",
    "        authors = group['author_id'].tolist()\n",
    "        year = group['year'].iloc[0]\n",
    "        \n",
    "        # 创建作者间的边\n",
    "        for i in range(len(authors)):\n",
    "            for j in range(i + 1, len(authors)):\n",
    "                author1 = authors[i]\n",
    "                author2 = authors[j]\n",
    "                \n",
    "                # 边的索引\n",
    "                edge = [node_ids.index(author1), node_ids.index(author2)]\n",
    "                edges.append(edge)\n",
    "                edges.append(edge[::-1])  # 添加反向边\n",
    "                \n",
    "                # 边属性使用论文发表年份和时间编码\n",
    "                edge_attrs.append(temporal_encoding(year))\n",
    "                edge_attrs.append(temporal_encoding(year))\n",
    "    \n",
    "    # 转换边和边属性\n",
    "    edge_index = torch.tensor(edges, dtype=torch.long).t().contiguous()\n",
    "    edge_attr = torch.tensor(edge_attrs, dtype=torch.float)\n",
    "    \n",
    "    return x, edge_index, edge_attr, node_ids\n",
    "\n",
    "def train_and_evaluate_temporal_gnn(train, valid):\n",
    "    # 准备图数据\n",
    "    x, edge_index, edge_attr, node_ids = prepare_temporal_graph_data(train, valid)\n",
    "    \n",
    "    # 定义模型超参数\n",
    "    num_features = x.shape[1]\n",
    "    hidden_channels = 64\n",
    "    \n",
    "    # 初始化模型\n",
    "    model = TemporalAuthorGNN(num_features, hidden_channels)\n",
    "    \n",
    "    # 损失函数和优化器\n",
    "    optimizer = torch.optim.Adam(model.parameters(), lr=0.01)\n",
    "    \n",
    "    # 学习率调度器\n",
    "    lr_scheduler = torch.optim.lr_scheduler.ReduceLROnPlateau(\n",
    "        optimizer, \n",
    "        mode='min', \n",
    "        factor=0.5, \n",
    "        patience=10, \n",
    "        min_lr=1e-4\n",
    "    )\n",
    "    \n",
    "    mse_criterion = torch.nn.MSELoss()\n",
    "    \n",
    "    # 准备验证集目标值\n",
    "    valid_author_ids = valid['author_id'].unique()\n",
    "    valid_targets = []\n",
    "    valid_indices = []\n",
    "    \n",
    "    for author_id in valid_author_ids:\n",
    "        author_index = node_ids.index(author_id)\n",
    "        valid_target = valid[valid['author_id'] == author_id]['n_citation'].values[0]\n",
    "        \n",
    "        valid_targets.append(valid_target)\n",
    "        valid_indices.append(author_index)\n",
    "    \n",
    "    valid_targets = torch.tensor(valid_targets, dtype=torch.float)\n",
    "    \n",
    "    # 训练循环\n",
    "    model.train()\n",
    "    best_mae = float('inf')\n",
    "    best_model = None\n",
    "    \n",
    "    # 早停\n",
    "    early_stopping_patience = 20\n",
    "    no_improvement_epochs = 0\n",
    "    \n",
    "    for epoch in range(80):\n",
    "        optimizer.zero_grad()\n",
    "        \n",
    "        # 前向传播\n",
    "        predictions = model(x, edge_index, edge_attr)\n",
    "        \n",
    "        # 计算损失\n",
    "        loss = mse_criterion(predictions[valid_indices], valid_targets)\n",
    "        \n",
    "        # 反向传播\n",
    "        loss.backward()\n",
    "        optimizer.step()\n",
    "        \n",
    "        # 模型评估\n",
    "        with torch.no_grad():\n",
    "            model.eval()\n",
    "            pred_values = predictions[valid_indices].numpy()\n",
    "            true_values = valid_targets.numpy()\n",
    "            \n",
    "            # 计算评估指标\n",
    "            mae = mean_absolute_error(true_values, pred_values)\n",
    "            r2 = r2_score(true_values, pred_values)\n",
    "            \n",
    "            # 保存最佳模型\n",
    "            if mae < best_mae:\n",
    "                best_mae = mae\n",
    "                best_model = model.state_dict().copy()\n",
    "                no_improvement_epochs = 0\n",
    "            else:\n",
    "                no_improvement_epochs += 1\n",
    "                \n",
    "                # 早停\n",
    "                if no_improvement_epochs > early_stopping_patience:\n",
    "                    print(\"Early stopping triggered\")\n",
    "                    break\n",
    "            \n",
    "            # 更新学习率\n",
    "            lr_scheduler.step(mae)\n",
    "            \n",
    "            # 每10轮打印一次评估指标\n",
    "            if epoch % 10 == 0:\n",
    "                print(f'Epoch {epoch}:')\n",
    "                print(f'MSE Loss: {loss.item():.4f}')\n",
    "                print(f'MAE: {mae:.4f}')\n",
    "                print(f'R2 Score: {r2:.4f}')\n",
    "                print('-' * 30)\n",
    "    \n",
    "    # 恢复最佳模型\n",
    "    model.load_state_dict(best_model)\n",
    "    \n",
    "    # 最终评估\n",
    "    model.eval()\n",
    "    with torch.no_grad():\n",
    "        final_predictions = model(x, edge_index, edge_attr)[valid_indices].numpy()\n",
    "        final_true_values = valid_targets.numpy()\n",
    "        \n",
    "        final_mse = mean_squared_error(final_true_values, final_predictions)\n",
    "        final_mae = mean_absolute_error(final_true_values, final_predictions)\n",
    "        final_r2 = r2_score(final_true_values, final_predictions)\n",
    "        \n",
    "        print(\"\\n最终模型性能:\")\n",
    "        print(f\"MSE: {final_mse:.4f}\")\n",
    "        print(f\"MAE: {final_mae:.4f}\")\n",
    "        print(f\"R2 Score: {final_r2:.4f}\")\n",
    "    \n",
    "    # 可视化预测结果\n",
    "    plt.figure(figsize=(10, 6))\n",
    "    plt.scatter(final_true_values, final_predictions)\n",
    "    plt.plot([final_true_values.min(), final_true_values.max()],\n",
    "             [final_true_values.min(), final_true_values.max()],\n",
    "             'r--', lw=2)\n",
    "    plt.xlabel(\"True Citations\")\n",
    "    plt.ylabel(\"Predicted Citations\")\n",
    "    plt.title(\"True vs Predicted Citations\")\n",
    "    plt.show()\n",
    "    \n",
    "    return model, final_predictions, {\n",
    "        'mse': final_mse,\n",
    "        'mae': final_mae,\n",
    "        'r2': final_r2\n",
    "    }\n",
    "\n",
    "def cross_validation(train_data, n_splits=5):\n",
    "    \"\"\"\n",
    "    执行交叉验证\n",
    "    \"\"\"\n",
    "    kf = KFold(n_splits=n_splits, shuffle=True)\n",
    "    \n",
    "    all_metrics = []\n",
    "    for fold, (train_index, val_index) in enumerate(kf.split(train_data), 1):\n",
    "        print(f\"Fold {fold}\")\n",
    "        train_fold = train_data.iloc[train_index]\n",
    "        val_fold = train_data.iloc[val_index]\n",
    "        \n",
    "        model, predictions, metrics = train_and_evaluate_temporal_gnn(train_fold, val_fold)\n",
    "        all_metrics.append(metrics)\n",
    "\n",
    "    # 平均指标\n",
    "    avg_metrics = {\n",
    "        'mse': np.mean([m['mse'] for m in all_metrics]),\n",
    "        'mae': np.mean([m['mae'] for m in all_metrics]),\n",
    "        'r2': np.mean([m['r2'] for m in all_metrics])\n",
    "    }\n",
    "    \n",
    "    print(\"\\n交叉验证平均结果:\")\n",
    "    print(f\"平均MSE: {avg_metrics['mse']:.4f}\")\n",
    "    print(f\"平均MAE: {avg_metrics['mae']:.4f}\")\n",
    "    print(f\"平均R2 Score: {avg_metrics['r2']:.4f}\")\n",
    "    \n",
    "    return avg_metrics\n",
    "\n",
    "# 使用示例\n",
    "# cross_validation(train_data)\n",
    "# 或\n",
    "model, predictions, metrics = train_and_evaluate_temporal_gnn(train, valid)"
   ]
  },
  {
   "cell_type": "markdown",
   "metadata": {},
   "source": [
    "### GNN"
   ]
  },
  {
   "cell_type": "markdown",
   "metadata": {},
   "source": [
    "#### Test on validation"
   ]
  }
 ],
 "metadata": {
  "kernelspec": {
   "display_name": ".venv",
   "language": "python",
   "name": "python3"
  },
  "language_info": {
   "codemirror_mode": {
    "name": "ipython",
    "version": 3
   },
   "file_extension": ".py",
   "mimetype": "text/x-python",
   "name": "python",
   "nbconvert_exporter": "python",
   "pygments_lexer": "ipython3",
   "version": "3.12.3"
  }
 },
 "nbformat": 4,
 "nbformat_minor": 2
}
