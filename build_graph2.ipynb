{
 "cells": [
  {
   "cell_type": "markdown",
   "metadata": {},
   "source": [
    "# SI 608 "
   ]
  },
  {
   "cell_type": "markdown",
   "metadata": {},
   "source": [
    "### Build graph"
   ]
  },
  {
   "cell_type": "code",
   "execution_count": 1,
   "metadata": {},
   "outputs": [],
   "source": [
    "import pandas as pd\n",
    "import numpy as np\n",
    "import matplotlib.pyplot as plt\n",
    "import networkx as nx\n",
    "from fuzzywuzzy import process"
   ]
  },
  {
   "cell_type": "code",
   "execution_count": 2,
   "metadata": {},
   "outputs": [],
   "source": [
    "df = pd.read_csv(\"dblp_graph_conference_v12_new_author.csv\")"
   ]
  },
  {
   "cell_type": "code",
   "execution_count": 3,
   "metadata": {},
   "outputs": [],
   "source": [
    "\n",
    "# exploded_author_ids = df['author_id'].str.split(';').explode()\n",
    "\n",
    "\n",
    "# unique_author_ids = exploded_author_ids.unique()\n",
    "\n",
    "# print(\"Unique Author IDs:\", len(unique_author_ids))\n"
   ]
  },
  {
   "cell_type": "code",
   "execution_count": 4,
   "metadata": {},
   "outputs": [],
   "source": [
    "# from itertools import combinations\n",
    "# unique_pairs = set()\n",
    "\n",
    "# for _, group in df.groupby('id'):\n",
    "#     all_authors = set(';'.join(group['author_id']).split(';'))\n",
    "    \n",
    "#     if len(all_authors) < 2:\n",
    "#         continue\n",
    "\n",
    "#     unique_pairs.update(combinations(sorted(all_authors), 2))\n",
    "# print(\"Number of unique collaboration pairs:\", len(unique_pairs))"
   ]
  },
  {
   "cell_type": "code",
   "execution_count": 5,
   "metadata": {},
   "outputs": [
    {
     "name": "stdout",
     "output_type": "stream",
     "text": [
      "<class 'pandas.core.frame.DataFrame'>\n",
      "RangeIndex: 1097006 entries, 0 to 1097005\n",
      "Data columns (total 19 columns):\n",
      " #   Column           Non-Null Count    Dtype  \n",
      "---  ------           --------------    -----  \n",
      " 0   index            1097006 non-null  int64  \n",
      " 1   author_id        1097006 non-null  int64  \n",
      " 2   author_name      1097006 non-null  object \n",
      " 3   author_org       1008180 non-null  object \n",
      " 4   id               1097006 non-null  int64  \n",
      " 5   title            1097006 non-null  object \n",
      " 6   year             1097006 non-null  int64  \n",
      " 7   n_citation       1097006 non-null  int64  \n",
      " 8   doc_type         1097006 non-null  object \n",
      " 9   reference_count  1097006 non-null  float64\n",
      " 10  references       991470 non-null   object \n",
      " 11  venue_id         1097006 non-null  int64  \n",
      " 12  venue_name       1097006 non-null  object \n",
      " 13  venue_type       1097006 non-null  object \n",
      " 14  doi              939216 non-null   object \n",
      " 15  keyword          1097006 non-null  object \n",
      " 16  volume           149201 non-null   float64\n",
      " 17  issue            59995 non-null    float64\n",
      " 18  publisher        1097006 non-null  object \n",
      "dtypes: float64(3), int64(6), object(10)\n",
      "memory usage: 159.0+ MB\n"
     ]
    }
   ],
   "source": [
    "df.info()"
   ]
  },
  {
   "cell_type": "code",
   "execution_count": 6,
   "metadata": {},
   "outputs": [
    {
     "data": {
      "text/plain": [
       "index                    0\n",
       "author_id                0\n",
       "author_name              0\n",
       "author_org           88826\n",
       "id                       0\n",
       "title                    0\n",
       "year                     0\n",
       "n_citation               0\n",
       "doc_type                 0\n",
       "reference_count          0\n",
       "references          105536\n",
       "venue_id                 0\n",
       "venue_name               0\n",
       "venue_type               0\n",
       "doi                 157790\n",
       "keyword                  0\n",
       "volume              947805\n",
       "issue              1037011\n",
       "publisher                0\n",
       "dtype: int64"
      ]
     },
     "execution_count": 6,
     "metadata": {},
     "output_type": "execute_result"
    }
   ],
   "source": [
    "df.isnull().sum()"
   ]
  },
  {
   "cell_type": "code",
   "execution_count": 7,
   "metadata": {},
   "outputs": [],
   "source": [
    "df[\"author_org\"] = df[\"author_org\"].fillna(\"unknown\")\n",
    "\n",
    "\n",
    "# df[\"reference_count\"] = df[\"reference_count\"].fillna(0)\n",
    "\n",
    "# df[\"keyword\"] = df[\"keyword\"].fillna(\"unknown\")\n",
    "\n",
    "# df[\"publisher\"] = df[\"publisher\"].fillna(\"unknown\")\n"
   ]
  },
  {
   "cell_type": "markdown",
   "metadata": {},
   "source": [
    "Missing doi's do not affect the data and are not filled\n",
    "\n",
    "Volume and issue are also not filled since there are too many vacancies"
   ]
  },
  {
   "cell_type": "markdown",
   "metadata": {},
   "source": [
    "#### Title df to Author df"
   ]
  },
  {
   "cell_type": "code",
   "execution_count": 8,
   "metadata": {},
   "outputs": [
    {
     "name": "stdout",
     "output_type": "stream",
     "text": [
      "['index', 'author_id', 'author_name', 'year', 'n_citation', 'doc_type', 'reference_count', 'references', 'venue_id', 'venue_name', 'venue_type', 'doi', 'keyword', 'volume', 'issue', 'publisher']\n"
     ]
    }
   ],
   "source": [
    "journal_cols = df.columns.to_list()[:3] + df.columns.to_list()[6:]\n",
    "print(journal_cols)"
   ]
  },
  {
   "cell_type": "code",
   "execution_count": 9,
   "metadata": {},
   "outputs": [],
   "source": [
    "# rows = []\n",
    "\n",
    "\n",
    "# for i in range(len(df)):\n",
    "#     author_names = df[\"author_name\"][i].split(\";\")\n",
    "#     author_ids = df[\"author_id\"][i].split(\";\")\n",
    "#     author_orgs = str(df[\"author_org\"][i]).split(\";\")\n",
    "#     journal_values = {col: df[col][i] for col in journal_cols}\n",
    "\n",
    "#     for j, author_id in enumerate(author_ids):\n",
    "#         row = {\n",
    "#             \"index\": i,\n",
    "#             \"author_id\": author_id,\n",
    "#             \"author_name\": author_names[j] if j < len(author_names) else np.nan,\n",
    "#             \"author_org\": author_orgs[j] if j < len(author_orgs) else np.nan,\n",
    "#         }\n",
    "#         row.update(journal_values)\n",
    "#         rows.append(row)\n",
    "\n",
    "\n",
    "# author_df = pd.DataFrame(rows)\n"
   ]
  },
  {
   "cell_type": "code",
   "execution_count": 10,
   "metadata": {},
   "outputs": [],
   "source": [
    "author_df=df"
   ]
  },
  {
   "cell_type": "code",
   "execution_count": 11,
   "metadata": {},
   "outputs": [],
   "source": [
    "# author_df[\"index\"] = author_df[\"index\"] + 1\n",
    "# author_df[\"author_id\"] = author_df[\"author_id\"].astype(int)\n",
    "# author_df['reference_count'] = author_df['reference_count'].astype(int)"
   ]
  },
  {
   "cell_type": "markdown",
   "metadata": {},
   "source": [
    "#### Clean org"
   ]
  },
  {
   "cell_type": "code",
   "execution_count": 12,
   "metadata": {},
   "outputs": [
    {
     "name": "stdout",
     "output_type": "stream",
     "text": [
      "<class 'pandas.core.frame.DataFrame'>\n",
      "RangeIndex: 1097006 entries, 0 to 1097005\n",
      "Data columns (total 19 columns):\n",
      " #   Column           Non-Null Count    Dtype  \n",
      "---  ------           --------------    -----  \n",
      " 0   index            1097006 non-null  int64  \n",
      " 1   author_id        1097006 non-null  int64  \n",
      " 2   author_name      1097006 non-null  object \n",
      " 3   author_org       1097006 non-null  object \n",
      " 4   id               1097006 non-null  int64  \n",
      " 5   title            1097006 non-null  object \n",
      " 6   year             1097006 non-null  int64  \n",
      " 7   n_citation       1097006 non-null  int64  \n",
      " 8   doc_type         1097006 non-null  object \n",
      " 9   reference_count  1097006 non-null  float64\n",
      " 10  references       991470 non-null   object \n",
      " 11  venue_id         1097006 non-null  int64  \n",
      " 12  venue_name       1097006 non-null  object \n",
      " 13  venue_type       1097006 non-null  object \n",
      " 14  doi              939216 non-null   object \n",
      " 15  keyword          1097006 non-null  object \n",
      " 16  volume           149201 non-null   float64\n",
      " 17  issue            59995 non-null    float64\n",
      " 18  publisher        1097006 non-null  object \n",
      "dtypes: float64(3), int64(6), object(10)\n",
      "memory usage: 159.0+ MB\n"
     ]
    }
   ],
   "source": [
    "author_df.info()"
   ]
  },
  {
   "cell_type": "code",
   "execution_count": 13,
   "metadata": {},
   "outputs": [
    {
     "data": {
      "text/plain": [
       "index                    0\n",
       "author_id                0\n",
       "author_name              0\n",
       "author_org               0\n",
       "id                       0\n",
       "title                    0\n",
       "year                     0\n",
       "n_citation               0\n",
       "doc_type                 0\n",
       "reference_count          0\n",
       "references          105536\n",
       "venue_id                 0\n",
       "venue_name               0\n",
       "venue_type               0\n",
       "doi                 157790\n",
       "keyword                  0\n",
       "volume              947805\n",
       "issue              1037011\n",
       "publisher                0\n",
       "dtype: int64"
      ]
     },
     "execution_count": 13,
     "metadata": {},
     "output_type": "execute_result"
    }
   ],
   "source": [
    "author_df.isnull().sum()"
   ]
  },
  {
   "cell_type": "code",
   "execution_count": 14,
   "metadata": {},
   "outputs": [],
   "source": [
    "def clean_org(org):\n",
    "    if \"email\" in org:\n",
    "        org = org.rsplit(\",\", 1)[0]\n",
    "    return org\n",
    "\n",
    "\n",
    "author_df.loc[author_df[\"author_org\"] == \"nan\", \"author_org\"] = \"unknown\"\n",
    "author_df[\"author_org\"] = author_df[\"author_org\"].apply(\n",
    "    lambda x: x.strip('\"').replace(\"#TAB#\", \"\").strip()\n",
    ")\n",
    "\n",
    "author_df[\"author_org\"] = author_df[\"author_org\"].apply(clean_org)"
   ]
  },
  {
   "cell_type": "code",
   "execution_count": 15,
   "metadata": {},
   "outputs": [
    {
     "name": "stdout",
     "output_type": "stream",
     "text": [
      "author_org\n",
      "unknown                                                                   153105\n",
      "Carnegie - Mellon University                                                3996\n",
      "Stanford, University                                                        2273\n",
      "Carnegie-Mellon Univ., Pittsburgh, PA, USA                                  1954\n",
      "Carnegie Mellon University, Pittsburgh Pa                                   1756\n",
      "                                                                           ...  \n",
      "IRIT-UPS, Toulouse Cedex, France                                               1\n",
      "THALES Communications France, Colombes, France                                 1\n",
      "LIRIS, Lyon 1 Univ., Lyon, France                                              1\n",
      "INRP, ENS Cachan, Cachan, France                                               1\n",
      "Archaeological Computing Research Group, University of Southampton, UK         1\n",
      "Name: count, Length: 243247, dtype: int64\n"
     ]
    }
   ],
   "source": [
    "print(author_df[\"author_org\"].value_counts())"
   ]
  },
  {
   "cell_type": "code",
   "execution_count": 16,
   "metadata": {},
   "outputs": [
    {
     "data": {
      "text/plain": [
       "0"
      ]
     },
     "execution_count": 16,
     "metadata": {},
     "output_type": "execute_result"
    }
   ],
   "source": [
    "author_df[\"author_org\"].isnull().sum()"
   ]
  },
  {
   "cell_type": "code",
   "execution_count": 17,
   "metadata": {},
   "outputs": [],
   "source": [
    "# organization_names = author_df[\"author_org\"].unique()\n",
    "\n",
    "# standardized_dict = {}\n",
    "# threshold = 85\n",
    "\n",
    "# for org_name in organization_names:\n",
    "#     if org_name in standardized_dict:\n",
    "#         continue\n",
    "#     if org_name == \"unknown\":\n",
    "#         standardized_dict[org_name] = org_name\n",
    "#         continue\n",
    "#     if not org_name.strip():\n",
    "#         continue\n",
    "\n",
    "#     matched_name = None\n",
    "#     for std_name in standardized_dict.keys():\n",
    "#         if process.extractOne(org_name, [std_name])[1] >= threshold:\n",
    "#             matched_name = std_name\n",
    "#             break\n",
    "\n",
    "#     if matched_name:\n",
    "#         standardized_dict[org_name] = matched_name\n",
    "#     else:\n",
    "#         standardized_dict[org_name] = org_name\n",
    "\n",
    "# author_df[\"standard_org\"] = author_df[\"author_org\"].map(standardized_dict)"
   ]
  },
  {
   "cell_type": "code",
   "execution_count": 18,
   "metadata": {},
   "outputs": [],
   "source": [
    "# author_df[\"standard_org\"].isnull().sum()"
   ]
  },
  {
   "cell_type": "code",
   "execution_count": 19,
   "metadata": {},
   "outputs": [],
   "source": [
    "# print(author_df.loc[author_df[\"standard_org\"].isna(), \"author_org\"])"
   ]
  },
  {
   "cell_type": "code",
   "execution_count": 20,
   "metadata": {},
   "outputs": [],
   "source": [
    "# author_df[\"standard_org\"].value_counts()"
   ]
  },
  {
   "cell_type": "code",
   "execution_count": 21,
   "metadata": {},
   "outputs": [],
   "source": [
    "# author=author_df.drop(columns=[\"author_org\"])\n",
    "# author[\"standard_org\"].fillna(\"unknown\", inplace=True)"
   ]
  },
  {
   "cell_type": "markdown",
   "metadata": {},
   "source": [
    "#### Other paper related attributes"
   ]
  },
  {
   "cell_type": "code",
   "execution_count": 22,
   "metadata": {},
   "outputs": [],
   "source": [
    "author=author_df\n",
    "author.rename(columns={\"author_org\":\"standard_org\"}, inplace=True)"
   ]
  },
  {
   "cell_type": "code",
   "execution_count": 23,
   "metadata": {},
   "outputs": [
    {
     "data": {
      "text/plain": [
       "publisher\n",
       "IEEE                                                                                               376014\n",
       "ACM                                                                                                164336\n",
       "Springer, Berlin, Heidelberg                                                                       157110\n",
       "unknown                                                                                            108753\n",
       "Springer, Cham                                                                                      63753\n",
       "                                                                                                    ...  \n",
       "IEEE EMBS Int Conf Biomed Health Inform                                                                 1\n",
       "The 26th International Conference on Software Engineering and Knowledge Engineering (SEKE 2014)         1\n",
       "The 29th Pacific Asia Conference on Language, Information and Computation                               1\n",
       "ACADEMIC PRESS LTD- ELSEVIER SCIENCE LTD                                                                1\n",
       "Massey University                                                                                       1\n",
       "Name: count, Length: 3835, dtype: int64"
      ]
     },
     "execution_count": 23,
     "metadata": {},
     "output_type": "execute_result"
    }
   ],
   "source": [
    "author[\"publisher\"].value_counts()"
   ]
  },
  {
   "cell_type": "code",
   "execution_count": 24,
   "metadata": {},
   "outputs": [
    {
     "name": "stdout",
     "output_type": "stream",
     "text": [
      "<class 'pandas.core.frame.DataFrame'>\n",
      "RangeIndex: 1097006 entries, 0 to 1097005\n",
      "Data columns (total 19 columns):\n",
      " #   Column           Non-Null Count    Dtype  \n",
      "---  ------           --------------    -----  \n",
      " 0   index            1097006 non-null  int64  \n",
      " 1   author_id        1097006 non-null  int64  \n",
      " 2   author_name      1097006 non-null  object \n",
      " 3   standard_org     1097006 non-null  object \n",
      " 4   id               1097006 non-null  int64  \n",
      " 5   title            1097006 non-null  object \n",
      " 6   year             1097006 non-null  int64  \n",
      " 7   n_citation       1097006 non-null  int64  \n",
      " 8   doc_type         1097006 non-null  object \n",
      " 9   reference_count  1097006 non-null  float64\n",
      " 10  references       991470 non-null   object \n",
      " 11  venue_id         1097006 non-null  int64  \n",
      " 12  venue_name       1097006 non-null  object \n",
      " 13  venue_type       1097006 non-null  object \n",
      " 14  doi              939216 non-null   object \n",
      " 15  keyword          1097006 non-null  object \n",
      " 16  volume           149201 non-null   float64\n",
      " 17  issue            59995 non-null    float64\n",
      " 18  publisher        1097006 non-null  object \n",
      "dtypes: float64(3), int64(6), object(10)\n",
      "memory usage: 159.0+ MB\n"
     ]
    }
   ],
   "source": [
    "author.info()"
   ]
  },
  {
   "cell_type": "code",
   "execution_count": 25,
   "metadata": {},
   "outputs": [
    {
     "data": {
      "text/plain": [
       "venue_name\n",
       "National Conference on Artificial Intelligence                                     15827\n",
       "Computer Vision and Pattern Recognition                                            15516\n",
       "International Conference on Acoustics, Speech, and Signal Processing               13433\n",
       "International Conference on Robotics and Automation                                12741\n",
       "International Conference on Image Processing                                       11525\n",
       "                                                                                   ...  \n",
       "International Symposium on Power Electronics for Distributed Generation Systems        1\n",
       "IEEE International Conference on Circuits and Systems for Communications               1\n",
       "European Conference on Radiation and Its Effects on Components and Systems             1\n",
       "Self-Sustaining Systems                                                                1\n",
       "International Conference on Software Technology and Engineering                        1\n",
       "Name: count, Length: 3013, dtype: int64"
      ]
     },
     "execution_count": 25,
     "metadata": {},
     "output_type": "execute_result"
    }
   ],
   "source": [
    "author['venue_name'].value_counts()"
   ]
  },
  {
   "cell_type": "markdown",
   "metadata": {},
   "source": [
    "### Split train and validation"
   ]
  },
  {
   "cell_type": "code",
   "execution_count": 26,
   "metadata": {},
   "outputs": [],
   "source": [
    "most_recent_indices = author.groupby(\"author_id\")[\"year\"].idxmax()\n",
    "\n",
    "valid = author.loc[most_recent_indices]\n",
    "\n",
    "train = author.drop(most_recent_indices)"
   ]
  },
  {
   "cell_type": "code",
   "execution_count": 27,
   "metadata": {},
   "outputs": [
    {
     "data": {
      "text/plain": [
       "(29694, 19)"
      ]
     },
     "execution_count": 27,
     "metadata": {},
     "output_type": "execute_result"
    }
   ],
   "source": [
    "valid.shape"
   ]
  },
  {
   "cell_type": "code",
   "execution_count": 28,
   "metadata": {},
   "outputs": [
    {
     "data": {
      "text/plain": [
       "(1067312, 19)"
      ]
     },
     "execution_count": 28,
     "metadata": {},
     "output_type": "execute_result"
    }
   ],
   "source": [
    "train.shape"
   ]
  },
  {
   "cell_type": "markdown",
   "metadata": {},
   "source": [
    "#### Build the graph"
   ]
  },
  {
   "cell_type": "code",
   "execution_count": 29,
   "metadata": {},
   "outputs": [
    {
     "data": {
      "text/plain": [
       "Index(['index', 'author_id', 'author_name', 'standard_org', 'id', 'title',\n",
       "       'year', 'n_citation', 'doc_type', 'reference_count', 'references',\n",
       "       'venue_id', 'venue_name', 'venue_type', 'doi', 'keyword', 'volume',\n",
       "       'issue', 'publisher'],\n",
       "      dtype='object')"
      ]
     },
     "execution_count": 29,
     "metadata": {},
     "output_type": "execute_result"
    }
   ],
   "source": [
    "train.columns"
   ]
  },
  {
   "cell_type": "code",
   "execution_count": 30,
   "metadata": {},
   "outputs": [
    {
     "data": {
      "text/plain": [
       "author_id\n",
       "2125104194    796\n",
       "2121069363    701\n",
       "296576950     694\n",
       "2168417342    661\n",
       "2121939561    630\n",
       "             ... \n",
       "2689927708      4\n",
       "2665205769      4\n",
       "2294120791      4\n",
       "2590407387      4\n",
       "2937986853      4\n",
       "Name: count, Length: 29694, dtype: int64"
      ]
     },
     "execution_count": 30,
     "metadata": {},
     "output_type": "execute_result"
    }
   ],
   "source": [
    "train['author_id'].value_counts()   "
   ]
  },
  {
   "cell_type": "code",
   "execution_count": 31,
   "metadata": {},
   "outputs": [],
   "source": [
    "citation_grouped= train.groupby(\"author_id\")['n_citation'].sum().reset_index(name=\"total_citation\")\n",
    "train=train.merge(citation_grouped, on=\"author_id\", how=\"left\")\n",
    "\n",
    "paper_grouped= train.groupby(\"author_id\")['index'].count().reset_index(name=\"total_paper\")\n",
    "train=train.merge(paper_grouped, on=\"author_id\", how=\"left\")\n",
    "\n",
    "reference_grouped= train.groupby(\"author_id\")['reference_count'].mean().reset_index(name=\"avg_reference\")\n",
    "train=train.merge(reference_grouped, on=\"author_id\", how=\"left\")\n",
    "\n"
   ]
  },
  {
   "cell_type": "code",
   "execution_count": 32,
   "metadata": {},
   "outputs": [],
   "source": [
    "def merge_keywords(keywords):\n",
    "    all_keywords = set()\n",
    "    for kw in keywords:\n",
    "        all_keywords.update(kw.split(';'))\n",
    "    return all_keywords\n",
    "\n",
    "\n",
    "author_keywords = train.groupby(\"author_id\")[\"keyword\"].apply(merge_keywords).reset_index(name='total_keyword')\n",
    "train=train.merge(author_keywords, on=\"author_id\", how=\"left\")"
   ]
  },
  {
   "cell_type": "code",
   "execution_count": 33,
   "metadata": {},
   "outputs": [
    {
     "data": {
      "text/html": [
       "<div>\n",
       "<style scoped>\n",
       "    .dataframe tbody tr th:only-of-type {\n",
       "        vertical-align: middle;\n",
       "    }\n",
       "\n",
       "    .dataframe tbody tr th {\n",
       "        vertical-align: top;\n",
       "    }\n",
       "\n",
       "    .dataframe thead th {\n",
       "        text-align: right;\n",
       "    }\n",
       "</style>\n",
       "<table border=\"1\" class=\"dataframe\">\n",
       "  <thead>\n",
       "    <tr style=\"text-align: right;\">\n",
       "      <th></th>\n",
       "      <th>index</th>\n",
       "      <th>author_id</th>\n",
       "      <th>author_name</th>\n",
       "      <th>standard_org</th>\n",
       "      <th>id</th>\n",
       "      <th>title</th>\n",
       "      <th>year</th>\n",
       "      <th>n_citation</th>\n",
       "      <th>doc_type</th>\n",
       "      <th>reference_count</th>\n",
       "      <th>...</th>\n",
       "      <th>venue_type</th>\n",
       "      <th>doi</th>\n",
       "      <th>keyword</th>\n",
       "      <th>volume</th>\n",
       "      <th>issue</th>\n",
       "      <th>publisher</th>\n",
       "      <th>total_citation</th>\n",
       "      <th>total_paper</th>\n",
       "      <th>avg_reference</th>\n",
       "      <th>total_keyword</th>\n",
       "    </tr>\n",
       "  </thead>\n",
       "  <tbody>\n",
       "    <tr>\n",
       "      <th>0</th>\n",
       "      <td>0</td>\n",
       "      <td>2117665592</td>\n",
       "      <td>G. Earl</td>\n",
       "      <td>Archaeological Computing Research Group, Unive...</td>\n",
       "      <td>1674</td>\n",
       "      <td>A methodology for the physically accurate visu...</td>\n",
       "      <td>2011</td>\n",
       "      <td>1</td>\n",
       "      <td>Conference</td>\n",
       "      <td>15.0</td>\n",
       "      <td>...</td>\n",
       "      <td>C</td>\n",
       "      <td>https://doi.org/10.2312/VAST/VAST11/137-144</td>\n",
       "      <td>Statue;Engineering drawing;Virtual reconstruct...</td>\n",
       "      <td>NaN</td>\n",
       "      <td>NaN</td>\n",
       "      <td>Eurographics Association</td>\n",
       "      <td>59</td>\n",
       "      <td>7</td>\n",
       "      <td>10.285714</td>\n",
       "      <td>{Artificial intelligence, Visualization, Art, ...</td>\n",
       "    </tr>\n",
       "    <tr>\n",
       "      <th>1</th>\n",
       "      <td>1</td>\n",
       "      <td>2101415595</td>\n",
       "      <td>Dipankar Das</td>\n",
       "      <td>Department of Computer Science and Engineering...</td>\n",
       "      <td>9415</td>\n",
       "      <td>Identifying Psychological Theme Words from Emo...</td>\n",
       "      <td>2013</td>\n",
       "      <td>0</td>\n",
       "      <td>Conference</td>\n",
       "      <td>4.0</td>\n",
       "      <td>...</td>\n",
       "      <td>C</td>\n",
       "      <td>https://doi.org/10.1007/978-3-319-03844-5_71</td>\n",
       "      <td>Sadness;Rule-based system;Ranking;Disgust;Sham...</td>\n",
       "      <td>NaN</td>\n",
       "      <td>NaN</td>\n",
       "      <td>Springer, Cham</td>\n",
       "      <td>480</td>\n",
       "      <td>82</td>\n",
       "      <td>9.463415</td>\n",
       "      <td>{Visualization, Real-time computing, Online di...</td>\n",
       "    </tr>\n",
       "    <tr>\n",
       "      <th>2</th>\n",
       "      <td>2</td>\n",
       "      <td>123621675</td>\n",
       "      <td>Serge Sharoff</td>\n",
       "      <td>unknown</td>\n",
       "      <td>15548</td>\n",
       "      <td>Cleaneval: a Competition for Cleaning Web Pages</td>\n",
       "      <td>2008</td>\n",
       "      <td>66</td>\n",
       "      <td>Conference</td>\n",
       "      <td>3.0</td>\n",
       "      <td>...</td>\n",
       "      <td>C</td>\n",
       "      <td>NaN</td>\n",
       "      <td>Web design;Web development;World Wide Web;Web ...</td>\n",
       "      <td>NaN</td>\n",
       "      <td>NaN</td>\n",
       "      <td>unknown</td>\n",
       "      <td>451</td>\n",
       "      <td>39</td>\n",
       "      <td>7.897436</td>\n",
       "      <td>{Web design, CAD, Semantic Web Stack, Knowledg...</td>\n",
       "    </tr>\n",
       "    <tr>\n",
       "      <th>3</th>\n",
       "      <td>3</td>\n",
       "      <td>2137964017</td>\n",
       "      <td>Lidija Comic</td>\n",
       "      <td>unknown</td>\n",
       "      <td>16022</td>\n",
       "      <td>Algorithms for the Construction of Digital Con...</td>\n",
       "      <td>2007</td>\n",
       "      <td>0</td>\n",
       "      <td>Conference</td>\n",
       "      <td>4.0</td>\n",
       "      <td>...</td>\n",
       "      <td>C</td>\n",
       "      <td>NaN</td>\n",
       "      <td>Convexity;Computer science;Fuzzy logic;Algorit...</td>\n",
       "      <td>NaN</td>\n",
       "      <td>NaN</td>\n",
       "      <td>unknown</td>\n",
       "      <td>53</td>\n",
       "      <td>14</td>\n",
       "      <td>14.142857</td>\n",
       "      <td>{Duality (mathematics), Knowledge representati...</td>\n",
       "    </tr>\n",
       "    <tr>\n",
       "      <th>4</th>\n",
       "      <td>4</td>\n",
       "      <td>2148789325</td>\n",
       "      <td>Prudence W. H. Wong</td>\n",
       "      <td>#N# University of Liverpool#N#</td>\n",
       "      <td>20175</td>\n",
       "      <td>An 8/3 Lower Bound for Online Dynamic Bin Packing</td>\n",
       "      <td>2012</td>\n",
       "      <td>6</td>\n",
       "      <td>Conference</td>\n",
       "      <td>15.0</td>\n",
       "      <td>...</td>\n",
       "      <td>C</td>\n",
       "      <td>https://doi.org/10.1007/978-3-642-35261-4_8</td>\n",
       "      <td>Online algorithm;Discrete mathematics;Combinat...</td>\n",
       "      <td>NaN</td>\n",
       "      <td>NaN</td>\n",
       "      <td>Springer, Berlin, Heidelberg</td>\n",
       "      <td>574</td>\n",
       "      <td>55</td>\n",
       "      <td>14.563636</td>\n",
       "      <td>{Linear function, Real-time computing, Interva...</td>\n",
       "    </tr>\n",
       "  </tbody>\n",
       "</table>\n",
       "<p>5 rows × 23 columns</p>\n",
       "</div>"
      ],
      "text/plain": [
       "   index   author_id          author_name  \\\n",
       "0      0  2117665592              G. Earl   \n",
       "1      1  2101415595         Dipankar Das   \n",
       "2      2   123621675        Serge Sharoff   \n",
       "3      3  2137964017         Lidija Comic   \n",
       "4      4  2148789325  Prudence W. H. Wong   \n",
       "\n",
       "                                        standard_org     id  \\\n",
       "0  Archaeological Computing Research Group, Unive...   1674   \n",
       "1  Department of Computer Science and Engineering...   9415   \n",
       "2                                            unknown  15548   \n",
       "3                                            unknown  16022   \n",
       "4                     #N# University of Liverpool#N#  20175   \n",
       "\n",
       "                                               title  year  n_citation  \\\n",
       "0  A methodology for the physically accurate visu...  2011           1   \n",
       "1  Identifying Psychological Theme Words from Emo...  2013           0   \n",
       "2    Cleaneval: a Competition for Cleaning Web Pages  2008          66   \n",
       "3  Algorithms for the Construction of Digital Con...  2007           0   \n",
       "4  An 8/3 Lower Bound for Online Dynamic Bin Packing  2012           6   \n",
       "\n",
       "     doc_type  reference_count  ... venue_type  \\\n",
       "0  Conference             15.0  ...          C   \n",
       "1  Conference              4.0  ...          C   \n",
       "2  Conference              3.0  ...          C   \n",
       "3  Conference              4.0  ...          C   \n",
       "4  Conference             15.0  ...          C   \n",
       "\n",
       "                                            doi  \\\n",
       "0   https://doi.org/10.2312/VAST/VAST11/137-144   \n",
       "1  https://doi.org/10.1007/978-3-319-03844-5_71   \n",
       "2                                           NaN   \n",
       "3                                           NaN   \n",
       "4   https://doi.org/10.1007/978-3-642-35261-4_8   \n",
       "\n",
       "                                             keyword volume issue  \\\n",
       "0  Statue;Engineering drawing;Virtual reconstruct...    NaN   NaN   \n",
       "1  Sadness;Rule-based system;Ranking;Disgust;Sham...    NaN   NaN   \n",
       "2  Web design;Web development;World Wide Web;Web ...    NaN   NaN   \n",
       "3  Convexity;Computer science;Fuzzy logic;Algorit...    NaN   NaN   \n",
       "4  Online algorithm;Discrete mathematics;Combinat...    NaN   NaN   \n",
       "\n",
       "                      publisher  total_citation  total_paper avg_reference  \\\n",
       "0      Eurographics Association              59            7     10.285714   \n",
       "1                Springer, Cham             480           82      9.463415   \n",
       "2                       unknown             451           39      7.897436   \n",
       "3                       unknown              53           14     14.142857   \n",
       "4  Springer, Berlin, Heidelberg             574           55     14.563636   \n",
       "\n",
       "                                       total_keyword  \n",
       "0  {Artificial intelligence, Visualization, Art, ...  \n",
       "1  {Visualization, Real-time computing, Online di...  \n",
       "2  {Web design, CAD, Semantic Web Stack, Knowledg...  \n",
       "3  {Duality (mathematics), Knowledge representati...  \n",
       "4  {Linear function, Real-time computing, Interva...  \n",
       "\n",
       "[5 rows x 23 columns]"
      ]
     },
     "execution_count": 33,
     "metadata": {},
     "output_type": "execute_result"
    }
   ],
   "source": [
    "train.head()"
   ]
  },
  {
   "cell_type": "code",
   "execution_count": 34,
   "metadata": {},
   "outputs": [],
   "source": [
    "G_train = nx.Graph()"
   ]
  },
  {
   "cell_type": "code",
   "execution_count": 35,
   "metadata": {},
   "outputs": [],
   "source": [
    "for index, row in train.iterrows():\n",
    "    author_id = row['author_id']\n",
    "    if not G_train.has_node(author_id):\n",
    "        G_train.add_node(\n",
    "            author_id,\n",
    "            name=row['author_name'],\n",
    "            org=row['standard_org'],\n",
    "            total_citation=row[\"total_citation\"], \n",
    "            total_paper=row[\"total_paper\"],\n",
    "            avg_reference=row[\"avg_reference\"],     \n",
    "            keywords=row[\"total_keyword\"],   \n",
    "        )"
   ]
  },
  {
   "cell_type": "code",
   "execution_count": 36,
   "metadata": {},
   "outputs": [],
   "source": [
    "\n",
    "for paper_id, group in train.groupby('id'):\n",
    "\n",
    "    authors = group['author_id'].tolist()\n",
    "    id = group['id'].iloc[0]\n",
    "    title = group['title'].iloc[0]\n",
    "    year = group['year'].iloc[0]\n",
    "    venue_id = group['venue_id'].iloc[0]\n",
    "    venue_name = group['venue_name'].iloc[0]\n",
    "    publisher = group['publisher'].iloc[0]\n",
    "    \n",
    "\n",
    "    for i in range(len(authors)):\n",
    "        for j in range(i + 1, len(authors)):\n",
    "            author1 = authors[i]\n",
    "            author2 = authors[j]\n",
    "            \n",
    "            if G_train.has_edge(author1, author2):\n",
    "                G_train[author1][author2]['weight'] += 1\n",
    "                G_train[author1][author2]['papers'].append({'id': id, 'title': title, 'year': year,'venue_id':venue_id,'venue_name':venue_name,'publisher':publisher})\n",
    "            else:\n",
    "                G_train.add_edge(\n",
    "                    author1,\n",
    "                    author2,\n",
    "                    weight=1,\n",
    "                    papers=[{'id': id, 'title': title, 'year': year,'venue_id':venue_id,'venue_name':venue_name,'publisher':publisher}],\n",
    "                )\n"
   ]
  },
  {
   "cell_type": "markdown",
   "metadata": {},
   "source": [
    "### Network Analysis"
   ]
  },
  {
   "cell_type": "code",
   "execution_count": 38,
   "metadata": {},
   "outputs": [
    {
     "name": "stdout",
     "output_type": "stream",
     "text": [
      "# components:  1095\n",
      "# nodes:  29694\n",
      "# edge:  153857\n",
      "%_largest component:  94.4\n",
      "average degree:  10.362834242607935\n",
      "average clustering coefficient:  0.37782319359035915\n"
     ]
    }
   ],
   "source": [
    "print(\"# components: \",nx.number_connected_components(G_train))\n",
    "\n",
    "nodes_num=len(G_train.nodes())\n",
    "print('# nodes: ',nodes_num)\n",
    "\n",
    "edges_num=len(G_train.edges())\n",
    "print('# edge: ',edges_num)\n",
    "\n",
    "largest_component = max(nx.connected_components(G_train), key=len)\n",
    "percent_lc=round(len(largest_component)/nodes_num*100,2)\n",
    "print(\"%_largest component: \",percent_lc)\n",
    "\n",
    "# average degree\n",
    "degree_dict=dict(nx.degree(G_train))\n",
    "avg_d=sum(degree_dict.values())/len(G_train.nodes())\n",
    "print(\"average degree: \",avg_d)\n",
    "\n",
    "# average clustering coefficient\n",
    "avg_cc=nx.average_clustering(G_train)\n",
    "print(\"average clustering coefficient: \",avg_cc)"
   ]
  }
 ],
 "metadata": {
  "kernelspec": {
   "display_name": "Python 3",
   "language": "python",
   "name": "python3"
  },
  "language_info": {
   "codemirror_mode": {
    "name": "ipython",
    "version": 3
   },
   "file_extension": ".py",
   "mimetype": "text/x-python",
   "name": "python",
   "nbconvert_exporter": "python",
   "pygments_lexer": "ipython3",
   "version": "3.10.11"
  }
 },
 "nbformat": 4,
 "nbformat_minor": 2
}
