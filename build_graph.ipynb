{
 "cells": [
  {
   "cell_type": "markdown",
   "metadata": {},
   "source": [
    "# SI 608 "
   ]
  },
  {
   "cell_type": "markdown",
   "metadata": {},
   "source": [
    "### Build graph"
   ]
  },
  {
   "cell_type": "code",
   "execution_count": 1,
   "metadata": {},
   "outputs": [],
   "source": [
    "import pandas as pd\n",
    "import numpy as np\n",
    "import matplotlib.pyplot as plt\n",
    "import networkx as nx\n",
    "from fuzzywuzzy import process"
   ]
  },
  {
   "cell_type": "code",
   "execution_count": 2,
   "metadata": {},
   "outputs": [],
   "source": [
    "df = pd.read_csv(\"dblp_graph_conference_v12.csv\")"
   ]
  },
  {
   "cell_type": "code",
   "execution_count": 4,
   "metadata": {},
   "outputs": [
    {
     "name": "stdout",
     "output_type": "stream",
     "text": [
      "Unique Author IDs: 2333\n"
     ]
    }
   ],
   "source": [
    "\n",
    "exploded_author_ids = df['author_id'].str.split(';').explode()\n",
    "\n",
    "\n",
    "unique_author_ids = exploded_author_ids.unique()\n",
    "\n",
    "print(\"Unique Author IDs:\", len(unique_author_ids))\n"
   ]
  },
  {
   "cell_type": "code",
   "execution_count": 5,
   "metadata": {},
   "outputs": [
    {
     "name": "stdout",
     "output_type": "stream",
     "text": [
      "Number of unique collaboration pairs: 1362\n"
     ]
    }
   ],
   "source": [
    "from itertools import combinations\n",
    "unique_pairs = set()\n",
    "\n",
    "for _, group in df.groupby('id'):\n",
    "    all_authors = set(';'.join(group['author_id']).split(';'))\n",
    "    \n",
    "    if len(all_authors) < 2:\n",
    "        continue\n",
    "\n",
    "    unique_pairs.update(combinations(sorted(all_authors), 2))\n",
    "print(\"Number of unique collaboration pairs:\", len(unique_pairs))"
   ]
  },
  {
   "cell_type": "code",
   "execution_count": 38,
   "metadata": {},
   "outputs": [
    {
     "data": {
      "text/plain": [
       "id                     0\n",
       "title                  0\n",
       "year                   0\n",
       "author_name            0\n",
       "author_org          7893\n",
       "author_id              0\n",
       "n_citation             0\n",
       "doc_type               0\n",
       "reference_count     6716\n",
       "references          6716\n",
       "venue_id               0\n",
       "venue_name             0\n",
       "venue_type             0\n",
       "doi                10368\n",
       "keyword                4\n",
       "volume             49830\n",
       "issue              54128\n",
       "publisher           5901\n",
       "dtype: int64"
      ]
     },
     "execution_count": 38,
     "metadata": {},
     "output_type": "execute_result"
    }
   ],
   "source": [
    "df.isnull().sum()"
   ]
  },
  {
   "cell_type": "code",
   "execution_count": 39,
   "metadata": {},
   "outputs": [
    {
     "data": {
      "text/plain": [
       "(6716, 18)"
      ]
     },
     "execution_count": 39,
     "metadata": {},
     "output_type": "execute_result"
    }
   ],
   "source": [
    "test = df[df[\"references\"].isna() & df[\"reference_count\"].isna()]\n",
    "test.shape"
   ]
  },
  {
   "cell_type": "code",
   "execution_count": 40,
   "metadata": {},
   "outputs": [],
   "source": [
    "df[\"author_org\"] = df[\"author_org\"].fillna(\"unknown\")\n",
    "\n",
    "\n",
    "df[\"reference_count\"] = df[\"reference_count\"].fillna(0)\n",
    "\n",
    "df[\"keyword\"] = df[\"keyword\"].fillna(\"unknown\")\n",
    "\n",
    "df[\"publisher\"] = df[\"publisher\"].fillna(\"unknown\")\n"
   ]
  },
  {
   "cell_type": "markdown",
   "metadata": {},
   "source": [
    "Missing doi's do not affect the data and are not filled\n",
    "\n",
    "Volume and issue are also not filled since there are too many vacancies"
   ]
  },
  {
   "cell_type": "markdown",
   "metadata": {},
   "source": [
    "#### Title df to Author df"
   ]
  },
  {
   "cell_type": "code",
   "execution_count": 41,
   "metadata": {},
   "outputs": [
    {
     "name": "stdout",
     "output_type": "stream",
     "text": [
      "['id', 'title', 'year', 'n_citation', 'doc_type', 'reference_count', 'references', 'venue_id', 'venue_name', 'venue_type', 'doi', 'keyword', 'volume', 'issue', 'publisher']\n"
     ]
    }
   ],
   "source": [
    "journal_cols = df.columns.to_list()[:3] + df.columns.to_list()[6:]\n",
    "print(journal_cols)"
   ]
  },
  {
   "cell_type": "code",
   "execution_count": 42,
   "metadata": {},
   "outputs": [],
   "source": [
    "rows = []\n",
    "\n",
    "\n",
    "for i in range(len(df)):\n",
    "    author_names = df[\"author_name\"][i].split(\";\")\n",
    "    author_ids = df[\"author_id\"][i].split(\";\")\n",
    "    author_orgs = str(df[\"author_org\"][i]).split(\";\")\n",
    "    journal_values = {col: df[col][i] for col in journal_cols}\n",
    "\n",
    "    for j, author_id in enumerate(author_ids):\n",
    "        row = {\n",
    "            \"index\": i,\n",
    "            \"author_id\": author_id,\n",
    "            \"author_name\": author_names[j] if j < len(author_names) else np.nan,\n",
    "            \"author_org\": author_orgs[j] if j < len(author_orgs) else np.nan,\n",
    "        }\n",
    "        row.update(journal_values)\n",
    "        rows.append(row)\n",
    "\n",
    "\n",
    "author_df = pd.DataFrame(rows)\n"
   ]
  },
  {
   "cell_type": "code",
   "execution_count": 43,
   "metadata": {},
   "outputs": [],
   "source": [
    "author_df[\"index\"] = author_df[\"index\"] + 1\n",
    "author_df[\"author_id\"] = author_df[\"author_id\"].astype(int)\n",
    "author_df['reference_count'] = author_df['reference_count'].astype(int)"
   ]
  },
  {
   "cell_type": "markdown",
   "metadata": {},
   "source": [
    "#### Clean org"
   ]
  },
  {
   "cell_type": "code",
   "execution_count": 44,
   "metadata": {},
   "outputs": [],
   "source": [
    "def clean_org(org):\n",
    "    if \"email\" in org:\n",
    "        org = org.rsplit(\",\", 1)[0]\n",
    "    return org\n",
    "\n",
    "\n",
    "author_df.loc[author_df[\"author_org\"] == \"nan\", \"author_org\"] = \"unknown\"\n",
    "author_df[\"author_org\"] = author_df[\"author_org\"].apply(\n",
    "    lambda x: x.strip().strip('\"').replace(\"#TAB#\", \"\").strip()\n",
    ")\n",
    "\n",
    "author_df[\"author_org\"] = author_df[\"author_org\"].apply(clean_org)"
   ]
  },
  {
   "cell_type": "code",
   "execution_count": 45,
   "metadata": {},
   "outputs": [
    {
     "name": "stdout",
     "output_type": "stream",
     "text": [
      "author_org\n",
      "unknown                                                                                                                            8978\n",
      "Carnegie - Mellon University                                                                                                        342\n",
      "Carnegie-Mellon Univ., Pittsburgh, PA, USA                                                                                          222\n",
      "Carnegie Mellon University, Pittsburgh Pa                                                                                           190\n",
      "Rice University                                                                                                                     153\n",
      "                                                                                                                                   ... \n",
      "Application Development Technology Institute, IBM Software Solutions Division, 555 Bailey Avenue, San Jose, California                1\n",
      "Department of Mathematics and Computer Science and Heinze Nixdorf Institute, University of Paderborn, 33095, Paderborn, Germany       1\n",
      "Heinz Nixdorf Institute and Department of Mathematics & Computer Science, University of Paderborn                                     1\n",
      "Elon University, Elon, NC                                                                                                             1\n",
      "Universitá di Roma Tre                                                                                                                1\n",
      "Name: count, Length: 20464, dtype: int64\n"
     ]
    }
   ],
   "source": [
    "print(author_df[\"author_org\"].value_counts())"
   ]
  },
  {
   "cell_type": "code",
   "execution_count": 46,
   "metadata": {},
   "outputs": [
    {
     "data": {
      "text/plain": [
       "0"
      ]
     },
     "execution_count": 46,
     "metadata": {},
     "output_type": "execute_result"
    }
   ],
   "source": [
    "author_df[\"author_org\"].isnull().sum()"
   ]
  },
  {
   "cell_type": "code",
   "execution_count": 47,
   "metadata": {},
   "outputs": [],
   "source": [
    "organization_names = author_df[\"author_org\"].unique()\n",
    "\n",
    "standardized_dict = {}\n",
    "threshold = 85\n",
    "\n",
    "for org_name in organization_names:\n",
    "    if org_name in standardized_dict:\n",
    "        continue\n",
    "    if org_name == \"unknown\":\n",
    "        standardized_dict[org_name] = org_name\n",
    "        continue\n",
    "    if not org_name.strip():\n",
    "        continue\n",
    "\n",
    "    matched_name = None\n",
    "    for std_name in standardized_dict.keys():\n",
    "        if process.extractOne(org_name, [std_name])[1] >= threshold:\n",
    "            matched_name = std_name\n",
    "            break\n",
    "\n",
    "    if matched_name:\n",
    "        standardized_dict[org_name] = matched_name\n",
    "    else:\n",
    "        standardized_dict[org_name] = org_name\n",
    "\n",
    "author_df[\"standard_org\"] = author_df[\"author_org\"].map(standardized_dict)"
   ]
  },
  {
   "cell_type": "code",
   "execution_count": 48,
   "metadata": {},
   "outputs": [
    {
     "data": {
      "text/plain": [
       "65"
      ]
     },
     "execution_count": 48,
     "metadata": {},
     "output_type": "execute_result"
    }
   ],
   "source": [
    "author_df[\"standard_org\"].isnull().sum()"
   ]
  },
  {
   "cell_type": "code",
   "execution_count": 49,
   "metadata": {},
   "outputs": [
    {
     "name": "stdout",
     "output_type": "stream",
     "text": [
      "1079      \n",
      "1266      \n",
      "1806      \n",
      "4037      \n",
      "4836      \n",
      "        ..\n",
      "58499     \n",
      "58599     \n",
      "60516     \n",
      "60887     \n",
      "61003     \n",
      "Name: author_org, Length: 65, dtype: object\n"
     ]
    }
   ],
   "source": [
    "print(author_df.loc[author_df[\"standard_org\"].isna(), \"author_org\"])"
   ]
  },
  {
   "cell_type": "code",
   "execution_count": 50,
   "metadata": {},
   "outputs": [
    {
     "data": {
      "text/plain": [
       "standard_org\n",
       "University of Massachusetts-Amherst                                                    22460\n",
       "unknown                                                                                 8978\n",
       "Carnegie Mellon University, Pittsburgh, PA 15213 USA                                    5072\n",
       "Dipartimento di Informatica, University of Salerno, Italy                               3583\n",
       "Department of Exact Sciences, Technical Institute of Kavala, Kavala, Greece             3154\n",
       "                                                                                       ...  \n",
       "CNRS, IRIT, France                                                                         1\n",
       "CRIN-CNRS & Inria-Lorraine                                                                 1\n",
       "Laboratoire LGCGM, UPRES, Institut National des Sciences Appliquées, Rennes, France        1\n",
       "CUHK, HK                                                                                   1\n",
       "CITS                                                                                       1\n",
       "Name: count, Length: 496, dtype: int64"
      ]
     },
     "execution_count": 50,
     "metadata": {},
     "output_type": "execute_result"
    }
   ],
   "source": [
    "author_df[\"standard_org\"].value_counts()"
   ]
  },
  {
   "cell_type": "code",
   "execution_count": 51,
   "metadata": {},
   "outputs": [
    {
     "name": "stderr",
     "output_type": "stream",
     "text": [
      "/var/folders/dd/httq2b3x1vx0862q77843f880000gn/T/ipykernel_12920/2962385818.py:2: FutureWarning: A value is trying to be set on a copy of a DataFrame or Series through chained assignment using an inplace method.\n",
      "The behavior will change in pandas 3.0. This inplace method will never work because the intermediate object on which we are setting values always behaves as a copy.\n",
      "\n",
      "For example, when doing 'df[col].method(value, inplace=True)', try using 'df.method({col: value}, inplace=True)' or df[col] = df[col].method(value) instead, to perform the operation inplace on the original object.\n",
      "\n",
      "\n",
      "  author[\"standard_org\"].fillna(\"unknown\", inplace=True)\n"
     ]
    }
   ],
   "source": [
    "author=author_df.drop(columns=[\"author_org\"])\n",
    "author[\"standard_org\"].fillna(\"unknown\", inplace=True)"
   ]
  },
  {
   "cell_type": "markdown",
   "metadata": {},
   "source": [
    "#### Other paper related attributes"
   ]
  },
  {
   "cell_type": "code",
   "execution_count": 52,
   "metadata": {},
   "outputs": [
    {
     "data": {
      "text/plain": [
       "publisher\n",
       "Springer, Berlin, Heidelberg                         13436\n",
       "IEEE                                                 13020\n",
       "ACM                                                   9620\n",
       "unknown                                               6273\n",
       "Springer, Cham                                        3577\n",
       "                                                     ...  \n",
       "Max Planck Institute  for Software Systems               1\n",
       "Academia Praha                                           1\n",
       "European Council on Modelling and Simulation ECMS        1\n",
       "IOP Publishing                                           1\n",
       "Springer Publishing Company, Incorporated                1\n",
       "Name: count, Length: 734, dtype: int64"
      ]
     },
     "execution_count": 52,
     "metadata": {},
     "output_type": "execute_result"
    }
   ],
   "source": [
    "author[\"publisher\"].value_counts()"
   ]
  },
  {
   "cell_type": "code",
   "execution_count": 54,
   "metadata": {},
   "outputs": [
    {
     "name": "stdout",
     "output_type": "stream",
     "text": [
      "<class 'pandas.core.frame.DataFrame'>\n",
      "RangeIndex: 61173 entries, 0 to 61172\n",
      "Data columns (total 19 columns):\n",
      " #   Column           Non-Null Count  Dtype  \n",
      "---  ------           --------------  -----  \n",
      " 0   index            61173 non-null  int64  \n",
      " 1   author_id        61173 non-null  int64  \n",
      " 2   author_name      61173 non-null  object \n",
      " 3   id               61173 non-null  int64  \n",
      " 4   title            61173 non-null  object \n",
      " 5   year             61173 non-null  int64  \n",
      " 6   n_citation       61173 non-null  int64  \n",
      " 7   doc_type         61173 non-null  object \n",
      " 8   reference_count  61173 non-null  int64  \n",
      " 9   references       53980 non-null  object \n",
      " 10  venue_id         61173 non-null  int64  \n",
      " 11  venue_name       61173 non-null  object \n",
      " 12  venue_type       61173 non-null  object \n",
      " 13  doi              50091 non-null  object \n",
      " 14  keyword          61173 non-null  object \n",
      " 15  volume           8532 non-null   float64\n",
      " 16  issue            3947 non-null   float64\n",
      " 17  publisher        61173 non-null  object \n",
      " 18  standard_org     61173 non-null  object \n",
      "dtypes: float64(2), int64(7), object(10)\n",
      "memory usage: 8.9+ MB\n"
     ]
    }
   ],
   "source": [
    "author.info()"
   ]
  },
  {
   "cell_type": "code",
   "execution_count": 87,
   "metadata": {},
   "outputs": [
    {
     "data": {
      "text/plain": [
       "venue_name\n",
       "Symposium on Discrete Algorithms                                   1433\n",
       "Symposium on the Theory of Computing                               1201\n",
       "Foundations of Computer Science                                    1083\n",
       "National Conference on Artificial Intelligence                     1077\n",
       "International Colloquium on Automata, Languages and Programming    1071\n",
       "                                                                   ... \n",
       "Grid Economics and Business Models                                    1\n",
       "Visual Computing for Biomedicine                                      1\n",
       "Security and Artificial Intelligence                                  1\n",
       "Digital Interactive Media in Entertainment and Arts                   1\n",
       "Robotics and Applications                                             1\n",
       "Name: count, Length: 2158, dtype: int64"
      ]
     },
     "execution_count": 87,
     "metadata": {},
     "output_type": "execute_result"
    }
   ],
   "source": [
    "author['venue_name'].value_counts()"
   ]
  },
  {
   "cell_type": "code",
   "execution_count": 55,
   "metadata": {},
   "outputs": [],
   "source": [
    "author.to_csv(\"dblp_graph_conference_v12_author.csv\", index=False)"
   ]
  },
  {
   "cell_type": "code",
   "execution_count": 3,
   "metadata": {},
   "outputs": [],
   "source": [
    "author=pd.read_csv(\"dblp_graph_conference_v12_author.csv\")"
   ]
  },
  {
   "cell_type": "markdown",
   "metadata": {},
   "source": [
    "### Split train and validation"
   ]
  },
  {
   "cell_type": "code",
   "execution_count": 4,
   "metadata": {},
   "outputs": [],
   "source": [
    "most_recent_indices = author.groupby(\"author_id\")[\"year\"].idxmax()\n",
    "\n",
    "valid = author.loc[most_recent_indices]\n",
    "\n",
    "train = author.drop(most_recent_indices)"
   ]
  },
  {
   "cell_type": "code",
   "execution_count": 5,
   "metadata": {},
   "outputs": [
    {
     "data": {
      "text/plain": [
       "(2333, 19)"
      ]
     },
     "execution_count": 5,
     "metadata": {},
     "output_type": "execute_result"
    }
   ],
   "source": [
    "valid.shape"
   ]
  },
  {
   "cell_type": "code",
   "execution_count": 6,
   "metadata": {},
   "outputs": [
    {
     "data": {
      "text/plain": [
       "(58840, 19)"
      ]
     },
     "execution_count": 6,
     "metadata": {},
     "output_type": "execute_result"
    }
   ],
   "source": [
    "train.shape"
   ]
  },
  {
   "cell_type": "markdown",
   "metadata": {},
   "source": [
    "#### Build the graph"
   ]
  },
  {
   "cell_type": "code",
   "execution_count": 7,
   "metadata": {},
   "outputs": [
    {
     "data": {
      "text/plain": [
       "Index(['index', 'author_id', 'author_name', 'id', 'title', 'year',\n",
       "       'n_citation', 'doc_type', 'reference_count', 'references', 'venue_id',\n",
       "       'venue_name', 'venue_type', 'doi', 'keyword', 'volume', 'issue',\n",
       "       'publisher', 'standard_org'],\n",
       "      dtype='object')"
      ]
     },
     "execution_count": 7,
     "metadata": {},
     "output_type": "execute_result"
    }
   ],
   "source": [
    "train.columns"
   ]
  },
  {
   "cell_type": "code",
   "execution_count": 19,
   "metadata": {},
   "outputs": [
    {
     "data": {
      "text/plain": [
       "author_id\n",
       "2121939561    630\n",
       "2130941901    443\n",
       "2047018924    436\n",
       "2198983026    425\n",
       "2168907694    385\n",
       "             ... \n",
       "2129290901      1\n",
       "2104783657      1\n",
       "2303862483      1\n",
       "2499330029      1\n",
       "2604013832      1\n",
       "Name: count, Length: 1767, dtype: int64"
      ]
     },
     "execution_count": 19,
     "metadata": {},
     "output_type": "execute_result"
    }
   ],
   "source": [
    "train['author_id'].value_counts()   "
   ]
  },
  {
   "cell_type": "code",
   "execution_count": 8,
   "metadata": {},
   "outputs": [],
   "source": [
    "citation_grouped= train.groupby(\"author_id\")['n_citation'].sum().reset_index(name=\"total_citation\")\n",
    "train=train.merge(citation_grouped, on=\"author_id\", how=\"left\")\n",
    "\n",
    "paper_grouped= train.groupby(\"author_id\")['index'].count().reset_index(name=\"total_paper\")\n",
    "train=train.merge(paper_grouped, on=\"author_id\", how=\"left\")\n",
    "\n",
    "reference_grouped= train.groupby(\"author_id\")['reference_count'].mean().reset_index(name=\"avg_reference\")\n",
    "train=train.merge(reference_grouped, on=\"author_id\", how=\"left\")\n",
    "\n"
   ]
  },
  {
   "cell_type": "code",
   "execution_count": 9,
   "metadata": {},
   "outputs": [],
   "source": [
    "def merge_keywords(keywords):\n",
    "    all_keywords = set()\n",
    "    for kw in keywords:\n",
    "        all_keywords.update(kw.split(';'))\n",
    "    return all_keywords\n",
    "\n",
    "\n",
    "author_keywords = train.groupby(\"author_id\")[\"keyword\"].apply(merge_keywords).reset_index(name='total_keyword')\n",
    "train=train.merge(author_keywords, on=\"author_id\", how=\"left\")"
   ]
  },
  {
   "cell_type": "code",
   "execution_count": 10,
   "metadata": {},
   "outputs": [
    {
     "data": {
      "text/html": [
       "<div>\n",
       "<style scoped>\n",
       "    .dataframe tbody tr th:only-of-type {\n",
       "        vertical-align: middle;\n",
       "    }\n",
       "\n",
       "    .dataframe tbody tr th {\n",
       "        vertical-align: top;\n",
       "    }\n",
       "\n",
       "    .dataframe thead th {\n",
       "        text-align: right;\n",
       "    }\n",
       "</style>\n",
       "<table border=\"1\" class=\"dataframe\">\n",
       "  <thead>\n",
       "    <tr style=\"text-align: right;\">\n",
       "      <th></th>\n",
       "      <th>index</th>\n",
       "      <th>author_id</th>\n",
       "      <th>author_name</th>\n",
       "      <th>id</th>\n",
       "      <th>title</th>\n",
       "      <th>year</th>\n",
       "      <th>n_citation</th>\n",
       "      <th>doc_type</th>\n",
       "      <th>reference_count</th>\n",
       "      <th>references</th>\n",
       "      <th>...</th>\n",
       "      <th>doi</th>\n",
       "      <th>keyword</th>\n",
       "      <th>volume</th>\n",
       "      <th>issue</th>\n",
       "      <th>publisher</th>\n",
       "      <th>standard_org</th>\n",
       "      <th>total_citation</th>\n",
       "      <th>total_paper</th>\n",
       "      <th>avg_reference</th>\n",
       "      <th>total_keyword</th>\n",
       "    </tr>\n",
       "  </thead>\n",
       "  <tbody>\n",
       "    <tr>\n",
       "      <th>0</th>\n",
       "      <td>1</td>\n",
       "      <td>2099571765</td>\n",
       "      <td>Andrew McGregor</td>\n",
       "      <td>57330</td>\n",
       "      <td>Spectral Sparsification in Dynamic Graph Streams</td>\n",
       "      <td>2013</td>\n",
       "      <td>19</td>\n",
       "      <td>Conference</td>\n",
       "      <td>17</td>\n",
       "      <td>1592346261;1983193888;1984361668;1997010704;20...</td>\n",
       "      <td>...</td>\n",
       "      <td>https://doi.org/10.1007/978-3-642-40328-6_1</td>\n",
       "      <td>Spectral properties;Graph;Discrete mathematics...</td>\n",
       "      <td>NaN</td>\n",
       "      <td>NaN</td>\n",
       "      <td>Springer, Berlin, Heidelberg</td>\n",
       "      <td>University of Massachusetts-Amherst</td>\n",
       "      <td>3112</td>\n",
       "      <td>76</td>\n",
       "      <td>20.368421</td>\n",
       "      <td>{Hash function, Hausdorff distance, Probabilis...</td>\n",
       "    </tr>\n",
       "    <tr>\n",
       "      <th>1</th>\n",
       "      <td>2</td>\n",
       "      <td>2069465661</td>\n",
       "      <td>Nicola Santoro</td>\n",
       "      <td>129505</td>\n",
       "      <td>Improving the optimal bounds for black hole se...</td>\n",
       "      <td>2011</td>\n",
       "      <td>10</td>\n",
       "      <td>Conference</td>\n",
       "      <td>23</td>\n",
       "      <td>1494344355;1495764901;1500058967;1500361666;15...</td>\n",
       "      <td>...</td>\n",
       "      <td>https://doi.org/10.1007/978-3-642-22212-2_18</td>\n",
       "      <td>Asynchronous communication;Combinatorics;Upper...</td>\n",
       "      <td>NaN</td>\n",
       "      <td>NaN</td>\n",
       "      <td>Springer, Berlin, Heidelberg</td>\n",
       "      <td>Carleton University, Ottawa, Canada</td>\n",
       "      <td>2608</td>\n",
       "      <td>137</td>\n",
       "      <td>14.715328</td>\n",
       "      <td>{Intelligent robots, Homogeneous space, Search...</td>\n",
       "    </tr>\n",
       "    <tr>\n",
       "      <th>2</th>\n",
       "      <td>3</td>\n",
       "      <td>2068190112</td>\n",
       "      <td>Rada Mihalcea</td>\n",
       "      <td>149980</td>\n",
       "      <td>UNT: A Supervised Synergistic Approach to Sema...</td>\n",
       "      <td>2012</td>\n",
       "      <td>25</td>\n",
       "      <td>Conference</td>\n",
       "      <td>24</td>\n",
       "      <td>1503071992;1566018662;1567365482;1593045043;16...</td>\n",
       "      <td>...</td>\n",
       "      <td>NaN</td>\n",
       "      <td>Semantic similarity;Training set;SemEval;Ranki...</td>\n",
       "      <td>1.0</td>\n",
       "      <td>NaN</td>\n",
       "      <td>Association for Computational Linguistics</td>\n",
       "      <td>University of North Texas, Denton, TX</td>\n",
       "      <td>11681</td>\n",
       "      <td>190</td>\n",
       "      <td>12.457895</td>\n",
       "      <td>{Musical, PageRank, Sense and reference, WordN...</td>\n",
       "    </tr>\n",
       "    <tr>\n",
       "      <th>3</th>\n",
       "      <td>4</td>\n",
       "      <td>2159253281</td>\n",
       "      <td>Yiming Yang</td>\n",
       "      <td>162256</td>\n",
       "      <td>Von Mises-Fisher Clustering Models</td>\n",
       "      <td>2014</td>\n",
       "      <td>37</td>\n",
       "      <td>Conference</td>\n",
       "      <td>15</td>\n",
       "      <td>1532325895;1880262756;1956559956;1996764654;20...</td>\n",
       "      <td>...</td>\n",
       "      <td>NaN</td>\n",
       "      <td>Cluster (physics);Data mining;Latent Dirichlet...</td>\n",
       "      <td>32.0</td>\n",
       "      <td>NaN</td>\n",
       "      <td>JMLR.org</td>\n",
       "      <td>Carnegie Mellon University, Pittsburgh, PA 152...</td>\n",
       "      <td>11471</td>\n",
       "      <td>93</td>\n",
       "      <td>10.150538</td>\n",
       "      <td>{PageRank, Kriging, Neural coding, Gaussian fu...</td>\n",
       "    </tr>\n",
       "    <tr>\n",
       "      <th>4</th>\n",
       "      <td>5</td>\n",
       "      <td>2030694586</td>\n",
       "      <td>Ivan Visconti</td>\n",
       "      <td>185553</td>\n",
       "      <td>Simultaneously resettable arguments of knowledge</td>\n",
       "      <td>2012</td>\n",
       "      <td>20</td>\n",
       "      <td>Conference</td>\n",
       "      <td>22</td>\n",
       "      <td>120427013;1495266644;1502708181;1516766811;156...</td>\n",
       "      <td>...</td>\n",
       "      <td>https://doi.org/10.1007/978-3-642-28914-9_30</td>\n",
       "      <td>Identification scheme;Computer science;Commitm...</td>\n",
       "      <td>NaN</td>\n",
       "      <td>NaN</td>\n",
       "      <td>Springer, Berlin, Heidelberg</td>\n",
       "      <td>University of Massachusetts-Amherst</td>\n",
       "      <td>876</td>\n",
       "      <td>66</td>\n",
       "      <td>26.242424</td>\n",
       "      <td>{Hash function, Asynchronous communication, Cr...</td>\n",
       "    </tr>\n",
       "  </tbody>\n",
       "</table>\n",
       "<p>5 rows × 23 columns</p>\n",
       "</div>"
      ],
      "text/plain": [
       "   index   author_id      author_name      id  \\\n",
       "0      1  2099571765  Andrew McGregor   57330   \n",
       "1      2  2069465661   Nicola Santoro  129505   \n",
       "2      3  2068190112    Rada Mihalcea  149980   \n",
       "3      4  2159253281      Yiming Yang  162256   \n",
       "4      5  2030694586    Ivan Visconti  185553   \n",
       "\n",
       "                                               title  year  n_citation  \\\n",
       "0   Spectral Sparsification in Dynamic Graph Streams  2013          19   \n",
       "1  Improving the optimal bounds for black hole se...  2011          10   \n",
       "2  UNT: A Supervised Synergistic Approach to Sema...  2012          25   \n",
       "3                 Von Mises-Fisher Clustering Models  2014          37   \n",
       "4   Simultaneously resettable arguments of knowledge  2012          20   \n",
       "\n",
       "     doc_type  reference_count  \\\n",
       "0  Conference               17   \n",
       "1  Conference               23   \n",
       "2  Conference               24   \n",
       "3  Conference               15   \n",
       "4  Conference               22   \n",
       "\n",
       "                                          references  ...  \\\n",
       "0  1592346261;1983193888;1984361668;1997010704;20...  ...   \n",
       "1  1494344355;1495764901;1500058967;1500361666;15...  ...   \n",
       "2  1503071992;1566018662;1567365482;1593045043;16...  ...   \n",
       "3  1532325895;1880262756;1956559956;1996764654;20...  ...   \n",
       "4  120427013;1495266644;1502708181;1516766811;156...  ...   \n",
       "\n",
       "                                            doi  \\\n",
       "0   https://doi.org/10.1007/978-3-642-40328-6_1   \n",
       "1  https://doi.org/10.1007/978-3-642-22212-2_18   \n",
       "2                                           NaN   \n",
       "3                                           NaN   \n",
       "4  https://doi.org/10.1007/978-3-642-28914-9_30   \n",
       "\n",
       "                                             keyword volume issue  \\\n",
       "0  Spectral properties;Graph;Discrete mathematics...    NaN   NaN   \n",
       "1  Asynchronous communication;Combinatorics;Upper...    NaN   NaN   \n",
       "2  Semantic similarity;Training set;SemEval;Ranki...    1.0   NaN   \n",
       "3  Cluster (physics);Data mining;Latent Dirichlet...   32.0   NaN   \n",
       "4  Identification scheme;Computer science;Commitm...    NaN   NaN   \n",
       "\n",
       "                                   publisher  \\\n",
       "0               Springer, Berlin, Heidelberg   \n",
       "1               Springer, Berlin, Heidelberg   \n",
       "2  Association for Computational Linguistics   \n",
       "3                                   JMLR.org   \n",
       "4               Springer, Berlin, Heidelberg   \n",
       "\n",
       "                                        standard_org  total_citation  \\\n",
       "0                University of Massachusetts-Amherst            3112   \n",
       "1                Carleton University, Ottawa, Canada            2608   \n",
       "2              University of North Texas, Denton, TX           11681   \n",
       "3  Carnegie Mellon University, Pittsburgh, PA 152...           11471   \n",
       "4                University of Massachusetts-Amherst             876   \n",
       "\n",
       "  total_paper avg_reference                                      total_keyword  \n",
       "0          76     20.368421  {Hash function, Hausdorff distance, Probabilis...  \n",
       "1         137     14.715328  {Intelligent robots, Homogeneous space, Search...  \n",
       "2         190     12.457895  {Musical, PageRank, Sense and reference, WordN...  \n",
       "3          93     10.150538  {PageRank, Kriging, Neural coding, Gaussian fu...  \n",
       "4          66     26.242424  {Hash function, Asynchronous communication, Cr...  \n",
       "\n",
       "[5 rows x 23 columns]"
      ]
     },
     "execution_count": 10,
     "metadata": {},
     "output_type": "execute_result"
    }
   ],
   "source": [
    "train.head()"
   ]
  },
  {
   "cell_type": "code",
   "execution_count": 11,
   "metadata": {},
   "outputs": [],
   "source": [
    "G_train = nx.Graph()"
   ]
  },
  {
   "cell_type": "code",
   "execution_count": 12,
   "metadata": {},
   "outputs": [],
   "source": [
    "for index, row in train.iterrows():\n",
    "    author_id = row['author_id']\n",
    "    if not G_train.has_node(author_id):\n",
    "        G_train.add_node(\n",
    "            author_id,\n",
    "            name=row['author_name'],\n",
    "            org=row['standard_org'],\n",
    "            total_citation=row[\"total_citation\"], \n",
    "            total_paper=row[\"total_paper\"],\n",
    "            avg_reference=row[\"avg_reference\"],     \n",
    "            keywords=row[\"total_keyword\"],   \n",
    "        )"
   ]
  },
  {
   "cell_type": "code",
   "execution_count": 13,
   "metadata": {},
   "outputs": [
    {
     "name": "stdout",
     "output_type": "stream",
     "text": [
      "1767\n"
     ]
    }
   ],
   "source": [
    "print(G_train.number_of_nodes())"
   ]
  },
  {
   "cell_type": "code",
   "execution_count": 14,
   "metadata": {},
   "outputs": [],
   "source": [
    "# 等待修改\n",
    "for paper_id, group in train.groupby('id'):\n",
    "\n",
    "    authors = group['author_id'].tolist()\n",
    "    id = group['id'].iloc[0]\n",
    "    title = group['title'].iloc[0]\n",
    "    year = group['year'].iloc[0]\n",
    "    venue_id = group['venue_id'].iloc[0]\n",
    "    venue_name = group['venue_name'].iloc[0]\n",
    "    publisher = group['publisher'].iloc[0]\n",
    "    \n",
    "\n",
    "    for i in range(len(authors)):\n",
    "        for j in range(i + 1, len(authors)):\n",
    "            author1 = authors[i]\n",
    "            author2 = authors[j]\n",
    "            \n",
    "            if G_train.has_edge(author1, author2):\n",
    "                G_train[author1][author2]['weight'] += 1\n",
    "                G_train[author1][author2]['papers'].append({'id': id, 'title': title, 'year': year,'venue_id':venue_id,'venue_name':venue_name,'publisher':publisher})\n",
    "            else:\n",
    "                G_train.add_edge(\n",
    "                    author1,\n",
    "                    author2,\n",
    "                    weight=1,\n",
    "                    papers=[{'id': id, 'title': title, 'year': year,'venue_id':venue_id,'venue_name':venue_name,'publisher':publisher}],\n",
    "                )\n"
   ]
  },
  {
   "cell_type": "code",
   "execution_count": 15,
   "metadata": {},
   "outputs": [
    {
     "name": "stdout",
     "output_type": "stream",
     "text": [
      "Number of edges: 1307\n",
      "Sample edges: [(2099571765, 2106497157, {'weight': 1, 'papers': [{'id': 1755536430, 'title': 'Verifiable stream computation and arthur-merlin communication', 'year': 2015, 'venue_id': 1162013546, 'venue_name': 'Conference on Computational Complexity', 'publisher': 'Schloss Dagstuhl--Leibniz-Zentrum fuer Informatik'}]}), (2099571765, 2142501412, {'weight': 2, 'papers': [{'id': 2099941470, 'title': 'Space-efficient estimation of statistics over sub-sampled streams', 'year': 2012, 'venue_id': 1184151122, 'venue_name': 'Symposium on Principles of Database Systems', 'publisher': 'ACM'}, {'id': 2576239031, 'title': 'Stochastic Streams: Sample Complexity vs. Space Complexity', 'year': 2016, 'venue_id': 1154039276, 'venue_name': 'European Symposium on Algorithms', 'publisher': 'Schloss Dagstuhl - Leibniz-Zentrum fuer Informatik'}]}), (2099571765, 2097030689, {'weight': 1, 'papers': [{'id': 2119377856, 'title': 'Fast query expansion using approximations of relevance models', 'year': 2010, 'venue_id': 1194094125, 'venue_name': 'Conference on Information and Knowledge Management', 'publisher': 'ACM'}]}), (2099571765, 2144241092, {'weight': 3, 'papers': [{'id': 2964160654, 'title': 'Storage capacity as an information-theoretic analogue of vertex cover', 'year': 2017, 'venue_id': 1197656824, 'venue_name': 'International Symposium on Information Theory', 'publisher': 'IEEE'}, {'id': 2970375580, 'title': 'Sample Complexity of Learning Mixture of Sparse Linear Regressions', 'year': 2019, 'venue_id': 1127325140, 'venue_name': 'Neural Information Processing Systems', 'publisher': 'unknown'}, {'id': 2979059622, 'title': 'Trace Reconstruction: Generalized and Parameterized.', 'year': 2019, 'venue_id': 1154039276, 'venue_name': 'European Symposium on Algorithms', 'publisher': 'unknown'}]}), (2099571765, 2160479021, {'weight': 2, 'papers': [{'id': 2970375580, 'title': 'Sample Complexity of Learning Mixture of Sparse Linear Regressions', 'year': 2019, 'venue_id': 1127325140, 'venue_name': 'Neural Information Processing Systems', 'publisher': 'unknown'}, {'id': 2979059622, 'title': 'Trace Reconstruction: Generalized and Parameterized.', 'year': 2019, 'venue_id': 1154039276, 'venue_name': 'European Symposium on Algorithms', 'publisher': 'unknown'}]})]\n"
     ]
    }
   ],
   "source": [
    "print(\"Number of edges:\", G_train.number_of_edges())\n",
    "print(\"Sample edges:\", list(G_train.edges(data=True))[:5])\n"
   ]
  }
 ],
 "metadata": {
  "kernelspec": {
   "display_name": "Python 3",
   "language": "python",
   "name": "python3"
  },
  "language_info": {
   "codemirror_mode": {
    "name": "ipython",
    "version": 3
   },
   "file_extension": ".py",
   "mimetype": "text/x-python",
   "name": "python",
   "nbconvert_exporter": "python",
   "pygments_lexer": "ipython3",
   "version": "3.10.11"
  }
 },
 "nbformat": 4,
 "nbformat_minor": 2
}
